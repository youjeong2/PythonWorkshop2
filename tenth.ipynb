{
 "cells": [
  {
   "cell_type": "code",
   "execution_count": 1,
   "metadata": {},
   "outputs": [],
   "source": [
    "# 2장 \n",
    "# 회귀인지, 분류나 클러스터링인지 판단하기\n",
    "# 나의 비즈니스에서 가장 중요한 결과는 무엇인가?\n",
    "# 모델 학습에 필요한 적절히 분류된 데이터를 갖고 있는가?\n",
    "# 레거시가 중요 *전통적인 머신러닝의 정적 데이터 레거시(서서보는 건물)를 *섞어서* 지금의 딥러닝의 동적데이터(뛰어가면서 보는 건물)들과 함께 쓰기\n",
    "# 네이버 클로바, 중국(딥러닝+레거시) : 성능, 속도, 학습속도 \n",
    "# p81 과도기 이후 대비 : 레거시, API, beckend\n",
    "# p83 레거시가 딥러닝보다 좋은 이유 1. 학습데이터가 적을 때 2. 비용 효율성 3. 해석하기 쉬움(수학을 안다는 전제)\n",
    "# "
   ]
  },
  {
   "cell_type": "code",
   "execution_count": 2,
   "metadata": {},
   "outputs": [
    {
     "name": "stdout",
     "output_type": "stream",
     "text": [
      "[ 1  2  3  4  5  6  7  8  9 10]\n"
     ]
    }
   ],
   "source": [
    "import numpy as np\n",
    "\n",
    "vec1 = np.array([1, 2, 3, 4, 5, 6, 7, 8, 9, 10])\n",
    "print(vec1)"
   ]
  },
  {
   "cell_type": "code",
   "execution_count": 3,
   "metadata": {},
   "outputs": [
    {
     "name": "stdout",
     "output_type": "stream",
     "text": [
      "[ 1  2  3  4  5  6  7  8  9 10]\n"
     ]
    }
   ],
   "source": [
    "vec1 = np.arange(1, 11)\n",
    "\n",
    "print(vec1)"
   ]
  },
  {
   "cell_type": "code",
   "execution_count": 4,
   "metadata": {},
   "outputs": [
    {
     "name": "stdout",
     "output_type": "stream",
     "text": [
      "[[ 1  2  3]\n",
      " [ 4  5  6]\n",
      " [ 7  8  9]\n",
      " [10 11 12]]\n",
      "(4, 3)\n"
     ]
    }
   ],
   "source": [
    "mat1 = np.array([\n",
    "    [1,   2,  3],\n",
    "    [4,   5,  6],\n",
    "    [7,   8,  9],\n",
    "    [10, 11, 12]\n",
    "])\n",
    "\n",
    "print(mat1)\n",
    "print(mat1.shape)"
   ]
  },
  {
   "cell_type": "code",
   "execution_count": 5,
   "metadata": {},
   "outputs": [
    {
     "name": "stdout",
     "output_type": "stream",
     "text": [
      "[[ 1  2  3]\n",
      " [ 4  5  6]\n",
      " [ 7  8  9]\n",
      " [10 11 12]]\n",
      "(4, 3)\n"
     ]
    }
   ],
   "source": [
    "mat2 = np.matrix([\n",
    "    [1,   2,  3],\n",
    "    [4,   5,  6],\n",
    "    [7,   8,  9],\n",
    "    [10, 11, 12]\n",
    "])\n",
    "\n",
    "print(mat2)\n",
    "print(mat2.shape)"
   ]
  },
  {
   "cell_type": "code",
   "execution_count": 6,
   "metadata": {},
   "outputs": [
    {
     "name": "stdout",
     "output_type": "stream",
     "text": [
      "[[[ 1  2  3]\n",
      "  [ 4  5  6]]\n",
      "\n",
      " [[ 7  8  9]\n",
      "  [10 11 12]]]\n",
      "(2, 2, 3)\n"
     ]
    }
   ],
   "source": [
    "ten1 = np.array([\n",
    "    [\n",
    "        [1,   2,  3],\n",
    "        [4,   5,  6]\n",
    "    ],\n",
    "    [\n",
    "        [7,   8,  9],\n",
    "        [10, 11, 12]\n",
    "    ]\n",
    "])\n",
    "\n",
    "print(ten1)\n",
    "print(ten1.shape)"
   ]
  },
  {
   "cell_type": "code",
   "execution_count": 7,
   "metadata": {},
   "outputs": [
    {
     "name": "stdout",
     "output_type": "stream",
     "text": [
      "[[ 2  4  6]\n",
      " [ 8 10 12]\n",
      " [14 16 18]\n",
      " [20 22 24]]\n"
     ]
    }
   ],
   "source": [
    "mat3 = mat1 + mat2\n",
    "print(mat3)"
   ]
  },
  {
   "cell_type": "code",
   "execution_count": 8,
   "metadata": {},
   "outputs": [
    {
     "ename": "ValueError",
     "evalue": "shapes (4,3) and (4,3) not aligned: 3 (dim 1) != 4 (dim 0)",
     "output_type": "error",
     "traceback": [
      "\u001b[0;31m---------------------------------------------------------------------------\u001b[0m",
      "\u001b[0;31mValueError\u001b[0m                                Traceback (most recent call last)",
      "\u001b[0;32m<ipython-input-8-a600386602ae>\u001b[0m in \u001b[0;36m<module>\u001b[0;34m\u001b[0m\n\u001b[0;32m----> 1\u001b[0;31m \u001b[0mmat4\u001b[0m \u001b[0;34m=\u001b[0m \u001b[0mmat1\u001b[0m \u001b[0;34m*\u001b[0m \u001b[0mmat2\u001b[0m\u001b[0;34m\u001b[0m\u001b[0;34m\u001b[0m\u001b[0m\n\u001b[0m\u001b[1;32m      2\u001b[0m \u001b[0mprint\u001b[0m\u001b[0;34m(\u001b[0m\u001b[0mmat4\u001b[0m\u001b[0;34m)\u001b[0m\u001b[0;34m\u001b[0m\u001b[0;34m\u001b[0m\u001b[0m\n",
      "\u001b[0;32m~/anaconda3/lib/python3.7/site-packages/numpy/matrixlib/defmatrix.py\u001b[0m in \u001b[0;36m__rmul__\u001b[0;34m(self, other)\u001b[0m\n\u001b[1;32m    224\u001b[0m \u001b[0;34m\u001b[0m\u001b[0m\n\u001b[1;32m    225\u001b[0m     \u001b[0;32mdef\u001b[0m \u001b[0m__rmul__\u001b[0m\u001b[0;34m(\u001b[0m\u001b[0mself\u001b[0m\u001b[0;34m,\u001b[0m \u001b[0mother\u001b[0m\u001b[0;34m)\u001b[0m\u001b[0;34m:\u001b[0m\u001b[0;34m\u001b[0m\u001b[0;34m\u001b[0m\u001b[0m\n\u001b[0;32m--> 226\u001b[0;31m         \u001b[0;32mreturn\u001b[0m \u001b[0mN\u001b[0m\u001b[0;34m.\u001b[0m\u001b[0mdot\u001b[0m\u001b[0;34m(\u001b[0m\u001b[0mother\u001b[0m\u001b[0;34m,\u001b[0m \u001b[0mself\u001b[0m\u001b[0;34m)\u001b[0m\u001b[0;34m\u001b[0m\u001b[0;34m\u001b[0m\u001b[0m\n\u001b[0m\u001b[1;32m    227\u001b[0m \u001b[0;34m\u001b[0m\u001b[0m\n\u001b[1;32m    228\u001b[0m     \u001b[0;32mdef\u001b[0m \u001b[0m__imul__\u001b[0m\u001b[0;34m(\u001b[0m\u001b[0mself\u001b[0m\u001b[0;34m,\u001b[0m \u001b[0mother\u001b[0m\u001b[0;34m)\u001b[0m\u001b[0;34m:\u001b[0m\u001b[0;34m\u001b[0m\u001b[0;34m\u001b[0m\u001b[0m\n",
      "\u001b[0;32m<__array_function__ internals>\u001b[0m in \u001b[0;36mdot\u001b[0;34m(*args, **kwargs)\u001b[0m\n",
      "\u001b[0;31mValueError\u001b[0m: shapes (4,3) and (4,3) not aligned: 3 (dim 1) != 4 (dim 0)"
     ]
    }
   ],
   "source": [
    "mat4 = mat1 * mat2\n",
    "print(mat4)"
   ]
  },
  {
   "cell_type": "code",
   "execution_count": 9,
   "metadata": {},
   "outputs": [
    {
     "name": "stdout",
     "output_type": "stream",
     "text": [
      "[[1 2 3]\n",
      " [4 5 6]\n",
      " [7 8 9]]\n",
      "(3, 3)\n",
      "[[1 2 3]\n",
      " [4 5 6]\n",
      " [7 8 9]]\n",
      "(3, 3)\n"
     ]
    }
   ],
   "source": [
    "mat3 = np.array([\n",
    "    [1,   2,  3],\n",
    "    [4,   5,  6],\n",
    "    [7,   8,  9],\n",
    "])\n",
    "\n",
    "print(mat3)\n",
    "print(mat3.shape)\n",
    "\n",
    "mat4 = np.array([\n",
    "    [4,   5,  6],\n",
    "    [7,   8,  9],\n",
    "    [10, 11, 12]\n",
    "])\n",
    "\n",
    "print(mat3)\n",
    "print(mat3.shape)"
   ]
  },
  {
   "cell_type": "code",
   "execution_count": 10,
   "metadata": {},
   "outputs": [
    {
     "name": "stdout",
     "output_type": "stream",
     "text": [
      "[[  4  10  18]\n",
      " [ 28  40  54]\n",
      " [ 70  88 108]]\n"
     ]
    }
   ],
   "source": [
    "mat5 = mat3 * mat4\n",
    "print(mat5)"
   ]
  },
  {
   "cell_type": "code",
   "execution_count": 11,
   "metadata": {},
   "outputs": [],
   "source": [
    "# 행렬 연산의 규칙\n",
    "# 행렬의 행과 열로 구성된다.\n",
    "# 행렬의 곱셈을 수행하기 위한 최소한의 규칙\n",
    "# m by n 행렬을 곱하려면 n by x가 되어야 한다.\n",
    "# 두 행렬의 곱셈 결과는 m by x가 된다."
   ]
  },
  {
   "cell_type": "code",
   "execution_count": 12,
   "metadata": {},
   "outputs": [
    {
     "name": "stdout",
     "output_type": "stream",
     "text": [
      "[[ 1  4  7 10]\n",
      " [ 2  5  8 11]\n",
      " [ 3  6  9 12]]\n",
      "[[ 1  2  3]\n",
      " [ 4  5  6]\n",
      " [ 7  8  9]\n",
      " [10 11 12]]\n"
     ]
    }
   ],
   "source": [
    "# 전치 행렬 = 행과 열의 위치를 바꾼다.\n",
    "print(mat1.T)\n",
    "print(mat1)"
   ]
  },
  {
   "cell_type": "code",
   "execution_count": 13,
   "metadata": {},
   "outputs": [
    {
     "name": "stdout",
     "output_type": "stream",
     "text": [
      "[[166 188 210]\n",
      " [188 214 240]\n",
      " [210 240 270]]\n"
     ]
    }
   ],
   "source": [
    "# 3 by 4 * 4 by 3 => 3 by 3\n",
    "mat5 = mat1.T * mat2\n",
    "print(mat5)"
   ]
  },
  {
   "cell_type": "code",
   "execution_count": 14,
   "metadata": {},
   "outputs": [
    {
     "name": "stdout",
     "output_type": "stream",
     "text": [
      "[[ 14  32  50  68]\n",
      " [ 32  77 122 167]\n",
      " [ 50 122 194 266]\n",
      " [ 68 167 266 365]]\n"
     ]
    }
   ],
   "source": [
    "# 4 by 3 * 3 by 4 => 4 by 4\n",
    "mat5 = mat1 * mat2.T\n",
    "print(mat5)"
   ]
  },
  {
   "cell_type": "code",
   "execution_count": 15,
   "metadata": {},
   "outputs": [
    {
     "name": "stdout",
     "output_type": "stream",
     "text": [
      "(10,)\n"
     ]
    }
   ],
   "source": [
    "print(vec1.shape)"
   ]
  },
  {
   "cell_type": "code",
   "execution_count": 16,
   "metadata": {},
   "outputs": [
    {
     "name": "stdout",
     "output_type": "stream",
     "text": [
      "[[ 0  2  4]\n",
      " [ 6  8 10]]\n",
      "(2, 3)\n"
     ]
    }
   ],
   "source": [
    "smartMat = np.arange(0, 11, 2).reshape((2, 3))\n",
    "\n",
    "print(smartMat)\n",
    "print(smartMat.shape)"
   ]
  },
  {
   "cell_type": "code",
   "execution_count": 17,
   "metadata": {},
   "outputs": [
    {
     "name": "stdout",
     "output_type": "stream",
     "text": [
      "[[ 5  6  7]\n",
      " [ 8  9 10]\n",
      " [11 12 13]\n",
      " [14 15 16]]\n"
     ]
    }
   ],
   "source": [
    "test = mat1 + 4\n",
    "\n",
    "print(test)"
   ]
  },
  {
   "cell_type": "code",
   "execution_count": 18,
   "metadata": {},
   "outputs": [
    {
     "name": "stdout",
     "output_type": "stream",
     "text": [
      "[[ 1  2  3  4]\n",
      " [ 5  6  7  8]\n",
      " [ 9 10 11 12]]\n",
      "(3, 4)\n"
     ]
    }
   ],
   "source": [
    "smartMat2 = np.arange(1, 13).reshape((3, 4))\n",
    "\n",
    "print(smartMat2)\n",
    "print(smartMat2.shape)"
   ]
  },
  {
   "cell_type": "code",
   "execution_count": 19,
   "metadata": {},
   "outputs": [
    {
     "name": "stdout",
     "output_type": "stream",
     "text": [
      "[[ 1  2  3]\n",
      " [ 4  5  6]\n",
      " [ 7  8  9]\n",
      " [10 11 12]]\n",
      "(4, 3)\n"
     ]
    }
   ],
   "source": [
    "mat1 = np.array([\n",
    "    [1,   2,  3],\n",
    "    [4,   5,  6],\n",
    "    [7,   8,  9],\n",
    "    [10, 11, 12]\n",
    "])\n",
    "\n",
    "print(mat1)\n",
    "print(mat1.shape)"
   ]
  },
  {
   "cell_type": "code",
   "execution_count": 20,
   "metadata": {},
   "outputs": [
    {
     "name": "stdout",
     "output_type": "stream",
     "text": [
      "(4, 3)\n"
     ]
    }
   ],
   "source": [
    "print(mat1.shape)"
   ]
  },
  {
   "cell_type": "code",
   "execution_count": 21,
   "metadata": {},
   "outputs": [
    {
     "name": "stdout",
     "output_type": "stream",
     "text": [
      "4\n",
      "3\n"
     ]
    }
   ],
   "source": [
    "print(mat1.shape[0])\n",
    "print(mat1.shape[1])"
   ]
  },
  {
   "cell_type": "code",
   "execution_count": 22,
   "metadata": {},
   "outputs": [
    {
     "name": "stdout",
     "output_type": "stream",
     "text": [
      "[ 1  2  3  4  5  6  7  8  9 10 11 12]\n"
     ]
    }
   ],
   "source": [
    "# 차원 변환이 필요한 경우가 있음 - 가우스-조르단 소거법\n",
    "mat1 = mat1.reshape(mat1.shape[0] * mat1.shape[1])\n",
    "\n",
    "print(mat1)"
   ]
  },
  {
   "cell_type": "code",
   "execution_count": 23,
   "metadata": {},
   "outputs": [
    {
     "name": "stdout",
     "output_type": "stream",
     "text": [
      "[[ 1  2  3]\n",
      " [ 4  5  6]\n",
      " [ 7  8  9]\n",
      " [10 11 12]]\n"
     ]
    }
   ],
   "source": [
    "print(mat2)"
   ]
  },
  {
   "cell_type": "code",
   "execution_count": 24,
   "metadata": {},
   "outputs": [
    {
     "name": "stdout",
     "output_type": "stream",
     "text": [
      "[[[ 1  2]\n",
      "  [ 3  4]]\n",
      "\n",
      " [[ 5  6]\n",
      "  [ 7  8]]\n",
      "\n",
      " [[ 9 10]\n",
      "  [11 12]]]\n"
     ]
    }
   ],
   "source": [
    "# 텐서를 해석하는 방법\n",
    "# 맨 앞의 숫자가 큰 집합의 개수를 의미함\n",
    "# 뒤쪽의 2개는 행렬의 모양을 의미\n",
    "# 즉 뒤쪽에 2개를 통해 행렬의 모양을 잡고\n",
    "# 맨 앞의 숫자를 통해 해당 행렬이 몇 개 있는지 파악하면 된다.\n",
    "ten2 = mat1.reshape((3, 2, 2))\n",
    "\n",
    "print(ten2)"
   ]
  },
  {
   "cell_type": "code",
   "execution_count": 46,
   "metadata": {},
   "outputs": [
    {
     "name": "stdout",
     "output_type": "stream",
     "text": [
      "[[[1 2 3]\n",
      "  [4 5 6]]\n",
      "\n",
      " [[2 3 4]\n",
      "  [5 6 7]]]\n",
      "(2, 2, 3)\n"
     ]
    }
   ],
   "source": [
    "ret = np.matrix(np.arange(1, 7)).reshape((2, 3))\n",
    "ret2 = np.matrix(np.arange(2, 8)).reshape((2, 3))\n",
    "\n",
    "ten3 = np.array([\n",
    "    ret, ret2\n",
    "])\n",
    "\n",
    "print(ten3)\n",
    "print(ten3.shape)"
   ]
  },
  {
   "cell_type": "code",
   "execution_count": 26,
   "metadata": {},
   "outputs": [
    {
     "name": "stdout",
     "output_type": "stream",
     "text": [
      "[[[1 1]\n",
      "  [4 4]]\n",
      "\n",
      " [[2 2]\n",
      "  [5 5]]\n",
      "\n",
      " [[3 3]\n",
      "  [6 6]]]\n",
      "(3, 2, 2)\n"
     ]
    }
   ],
   "source": [
    "print(ten3.T)\n",
    "print(ten3.T.shape)"
   ]
  },
  {
   "cell_type": "code",
   "execution_count": 47,
   "metadata": {},
   "outputs": [
    {
     "name": "stdout",
     "output_type": "stream",
     "text": [
      "(3, 2, 2)\n",
      "(2, 2, 3)\n"
     ]
    }
   ],
   "source": [
    "print(ten2.shape)\n",
    "print(ten3.shape)\n",
    "\n",
    "# (3, 2, 2)\n",
    "# (2, 2, 3)\n",
    "# [\n",
    "#     [\n",
    "#         [\n",
    "#             [  9  12  15]   (2, 3)\n",
    "#             [ 12  15  18]\n",
    "#         ]\n",
    "#         [\n",
    "#             [ 19  26  33]\n",
    "#             [ 26  33  40]\n",
    "#         ]\n",
    "#     ]      ---------------- (2, 2, 3)\n",
    "#     [\n",
    "#         [\n",
    "#             [ 29  40  51]\n",
    "#             [ 40  51  62]\n",
    "#         ]\n",
    "#         [\n",
    "#             [ 39  54  69]\n",
    "#             [ 54  69  84]\n",
    "#         ]\n",
    "#     ]\n",
    "#     [\n",
    "#         [\n",
    "#             [ 49  68  87]\n",
    "#             [ 68  87 106]\n",
    "#         ]\n",
    "#         [\n",
    "#             [ 59  82 105]\n",
    "#             [ 82 105 128]\n",
    "#         ]\n",
    "#     ]\n",
    "# ]  ------------------------ (3, 2, 2, 3)"
   ]
  },
  {
   "cell_type": "code",
   "execution_count": 27,
   "metadata": {},
   "outputs": [
    {
     "name": "stdout",
     "output_type": "stream",
     "text": [
      "[[[[  9  12  15]\n",
      "   [  9  12  15]]\n",
      "\n",
      "  [[ 19  26  33]\n",
      "   [ 19  26  33]]]\n",
      "\n",
      "\n",
      " [[[ 29  40  51]\n",
      "   [ 29  40  51]]\n",
      "\n",
      "  [[ 39  54  69]\n",
      "   [ 39  54  69]]]\n",
      "\n",
      "\n",
      " [[[ 49  68  87]\n",
      "   [ 49  68  87]]\n",
      "\n",
      "  [[ 59  82 105]\n",
      "   [ 59  82 105]]]]\n"
     ]
    }
   ],
   "source": [
    "ten4 = ten2.dot(ten3)\n",
    "\n",
    "print(ten4)"
   ]
  },
  {
   "cell_type": "code",
   "execution_count": 48,
   "metadata": {},
   "outputs": [
    {
     "name": "stdout",
     "output_type": "stream",
     "text": [
      "[[[[  9  12  15]\n",
      "   [ 12  15  18]]\n",
      "\n",
      "  [[ 19  26  33]\n",
      "   [ 26  33  40]]]\n",
      "\n",
      "\n",
      " [[[ 29  40  51]\n",
      "   [ 40  51  62]]\n",
      "\n",
      "  [[ 39  54  69]\n",
      "   [ 54  69  84]]]\n",
      "\n",
      "\n",
      " [[[ 49  68  87]\n",
      "   [ 68  87 106]]\n",
      "\n",
      "  [[ 59  82 105]\n",
      "   [ 82 105 128]]]]\n",
      "(3, 2, 2, 3)\n"
     ]
    }
   ],
   "source": [
    "# [ 1  2]    [1, 2, 3]  \n",
    "# [ 3  4]    [4, 5, 6] \n",
    "#            [2, 3, 4] \n",
    "#            [5, 6, 7] \n",
    "# [ 5  6]\n",
    "# [ 7  8]\n",
    "\n",
    "# [ 9 10]\n",
    "# [11 12]\n",
    "ten4 = ten2.dot(ten3)\n",
    "\n",
    "print(ten4)\n",
    "print(ten4.shape)"
   ]
  },
  {
   "cell_type": "code",
   "execution_count": null,
   "metadata": {},
   "outputs": [],
   "source": [
    "#####"
   ]
  },
  {
   "cell_type": "code",
   "execution_count": 49,
   "metadata": {},
   "outputs": [
    {
     "name": "stdout",
     "output_type": "stream",
     "text": [
      "[[1 2]\n",
      " [3 4]]\n",
      "[[1 2]\n",
      " [3 4]]\n",
      "[[ 1  4]\n",
      " [ 9 16]]\n",
      "[[ 7 10]\n",
      " [15 22]]\n"
     ]
    }
   ],
   "source": [
    "testMat1 = np.arange(1, 5).reshape((2, 2))\n",
    "testMat2 = np.arange(1, 5).reshape((2, 2))\n",
    "\n",
    "print(testMat1)\n",
    "print(testMat2)\n",
    "print(testMat1 * testMat2)\n",
    "print(testMat1.dot(testMat2))\n",
    "# 텐서연산 -> 도트, 사이클\n",
    "# 두개의 차원이 같을 때 -> .dot를 씀\n",
    "# p89~103\n",
    "\n",
    "# 선형대수 - 랭크(1차텐서인지, 2차인지 알려줌) \n",
    "# 랭크가 0 인 행렬은?\n",
    "# 텐서 -> 백터, 스칼라\n",
    "# https://twlab.tistory.com/27"
   ]
  },
  {
   "cell_type": "code",
   "execution_count": null,
   "metadata": {},
   "outputs": [],
   "source": [
    "# 인공지능을 공부할 때\n",
    "# 1. 선형대수 - 수리물리학 (텐서 <<< 책x)\n",
    "#             보아스 -> 아프켄(서울대에서 3일동안 학생들 가둬놓고 시험보게함)\n",
    "# 2. 통계학\n",
    "# 3. 공업수학(라플라스 변환, 푸리에 변환) *라플라스에 대한 지식 보충\n",
    "# 4. 커스텀 라이브러리\n",
    "# p104 케라스 소개 \n",
    "# ? = 텐서네트워크, 텐서 개발 or 사용법 익히기\n",
    "# n개의 변수를 구하는 것 = y = Mx+b\n",
    "# CERN 유럽 입자 물리 연구소 * 타임머신, 힉스 입자를 발견함 -> 반중력입자, 빛보다 빠른 입자 발견할 수 있을까? \n",
    "# -> 딥러닝 써서 어떻게 입자 발견할까? ->  \n",
    "# http://bitly.kr/C7G5kWaEbju\n",
    "# 행렬의 차원이 달라도 같은 것을 만들어 냄 \n",
    "# 2 by 2 를 0.1 을 두번 곱하면 같은 걸 만들어낼 수있음\n",
    "# 물음표 행렬사이즈를 압축하는 것을 만듦-> 정밀도 유지하면서 속도, 실시간 성능 높임\n",
    "# hls4mll https://fastmachinelearning.org/hls4ml/"
   ]
  },
  {
   "cell_type": "code",
   "execution_count": 33,
   "metadata": {},
   "outputs": [],
   "source": [
    "# p106 뉴럴네트워크 구성\n",
    "# 활성화 함수 : logisticcsv, \n",
    "# 스칼라값 -> 컨벌루션 이용해서 합성곱 = 콘볼루션(Convolution), 열이 30개 있다 = 콘볼루션 30번 한다. \n",
    "# 음성인식, 주가분석, 한국어 인식 -> 순환레이어(파이썬) + backent(자바)\n",
    "# 20차원의 정보가 들어온다는 것 -> 결과와 입력이 연결되게 덴스해주고 뉴럴 네트워크를 만든다."
   ]
  },
  {
   "cell_type": "code",
   "execution_count": 34,
   "metadata": {},
   "outputs": [],
   "source": [
    "# p108 활성화 함수 - 노드의 결괏값 범위 제한 sigmoid - 로지스틱csv step함수임 0과 1사이 라\n",
    "# tanh 탄젠트  익스커넨셜을 예쁘게 만든 것\n",
    "# ReLU a =  엘릭스 0보다 작으면 음수는 없고 다 0 (activation에 sigmoid 적용)"
   ]
  },
  {
   "cell_type": "code",
   "execution_count": 58,
   "metadata": {},
   "outputs": [],
   "source": [
    "# 피팅 = 컴파일=y=x+를 만드는 것 , adam : 아담 옵티마이져, / binary : 얼마나 정보를 손실 했는지 보여줌 / matrics = 정확성\n",
    "model.compile(optimizer='adam', loss='binary_crossentropy', metrics=['accuracy'])"
   ]
  },
  {
   "cell_type": "code",
   "execution_count": 51,
   "metadata": {},
   "outputs": [
    {
     "name": "stdout",
     "output_type": "stream",
     "text": [
      "Applied-Deep-Learning-with-Keras  data\tLICENSE  nineth.ipynb  tenth.ipynb\r\n"
     ]
    }
   ],
   "source": [
    "!ls "
   ]
  },
  {
   "cell_type": "code",
   "execution_count": 52,
   "metadata": {},
   "outputs": [
    {
     "name": "stdout",
     "output_type": "stream",
     "text": [
      "Lesson01  Lesson03  Lesson05  Lesson07\tLesson09  README.md\r\n",
      "Lesson02  Lesson04  Lesson06  Lesson08\tLICENSE\r\n"
     ]
    }
   ],
   "source": [
    "!ls Applied-Deep-Learning-with-Keras"
   ]
  },
  {
   "cell_type": "code",
   "execution_count": 53,
   "metadata": {},
   "outputs": [
    {
     "name": "stdout",
     "output_type": "stream",
     "text": [
      "Activity01.ipynb  data\t\t    Exercise02.ipynb  Exercise04.ipynb\r\n",
      "bank.zip\t  Exercise01.ipynb  Exercise03.ipynb  Exercise05.ipynb\r\n"
     ]
    }
   ],
   "source": [
    "!ls Applied-Deep-Learning-with-Keras/Lesson01"
   ]
  },
  {
   "cell_type": "code",
   "execution_count": 54,
   "metadata": {},
   "outputs": [
    {
     "name": "stdout",
     "output_type": "stream",
     "text": [
      "bank.csv\t\tbank_data_feats_e2.csv\tbank_data_target_e2.csv\r\n",
      "bank_data_feats_a2.csv\tbank_data_feats_e3.csv\tbank-full.csv\r\n",
      "bank_data_feats.csv\tbank_data_target.csv\tbank-names.txt\r\n"
     ]
    }
   ],
   "source": [
    "!ls Applied-Deep-Learning-with-Keras/Lesson01/data"
   ]
  },
  {
   "cell_type": "code",
   "execution_count": 55,
   "metadata": {},
   "outputs": [],
   "source": [
    "import pandas as pd\n",
    "\n",
    "feats = pd.read_csv(\n",
    "    'Applied-Deep-Learning-with-Keras/Lesson01/data/bank_data_feats_e3.csv',\n",
    "    index_col=0\n",
    ")\n",
    "target = pd.read_csv(\n",
    "    'Applied-Deep-Learning-with-Keras/Lesson01/data/bank_data_target_e2.csv',\n",
    "    index_col=0\n",
    ")\n",
    "#target"
   ]
  },
  {
   "cell_type": "code",
   "execution_count": 56,
   "metadata": {},
   "outputs": [],
   "source": [
    "from sklearn.model_selection import train_test_split\n",
    "\n",
    "test_size = 0.2\n",
    "random_state = 42\n",
    "\n",
    "X_train, X_test, y_train, y_test = train_test_split(\n",
    "    feats, target, test_size=test_size, random_state=random_state\n",
    ")"
   ]
  },
  {
   "cell_type": "code",
   "execution_count": 57,
   "metadata": {},
   "outputs": [
    {
     "name": "stdout",
     "output_type": "stream",
     "text": [
      "(3616, 32)\n",
      "(905, 32)\n",
      "(3616, 1)\n",
      "(905, 1)\n"
     ]
    }
   ],
   "source": [
    "print(X_train.shape)\n",
    "print(X_test.shape)\n",
    "print(y_train.shape)\n",
    "print(y_test.shape)"
   ]
  },
  {
   "cell_type": "code",
   "execution_count": 58,
   "metadata": {},
   "outputs": [],
   "source": [
    "from keras.models import Sequential\n",
    "\n",
    "model = Sequential()"
   ]
  },
  {
   "cell_type": "code",
   "execution_count": 59,
   "metadata": {},
   "outputs": [],
   "source": [
    "from keras.layers import Dense, Activation\n",
    "from keras.models import Sequential\n",
    "\n",
    "input_shape = X_train.shape[1]\n",
    "units = 1\n",
    "\n",
    "model.add(Dense(units, input_dim = input_shape)) \n",
    "model.add(Activation('tanh'))\n",
    "\n",
    "# 계산은  tanh 이 한다."
   ]
  },
  {
   "cell_type": "code",
   "execution_count": 60,
   "metadata": {},
   "outputs": [],
   "source": [
    "model.compile(\n",
    "    optimizer='adam',\n",
    "    loss='binary_crossentropy',\n",
    "    metrics=['accuracy']\n",
    "\n",
    ")"
   ]
  },
  {
   "cell_type": "code",
   "execution_count": 61,
   "metadata": {},
   "outputs": [
    {
     "name": "stdout",
     "output_type": "stream",
     "text": [
      "Model: \"sequential_2\"\n",
      "_________________________________________________________________\n",
      "Layer (type)                 Output Shape              Param #   \n",
      "=================================================================\n",
      "dense_2 (Dense)              (None, 1)                 33        \n",
      "_________________________________________________________________\n",
      "activation_2 (Activation)    (None, 1)                 0         \n",
      "=================================================================\n",
      "Total params: 33\n",
      "Trainable params: 33\n",
      "Non-trainable params: 0\n",
      "_________________________________________________________________\n",
      "None\n"
     ]
    }
   ],
   "source": [
    "print(model.summary())\n",
    "# 열값만 있음 \n",
    "# Dence는 입력과 출력 연결값\n",
    "# 콘벌루션 연산한 것이 아닌, x, y만 연결해서 나열만 해놓은 것 -> 학습해도 가공,개선되는 것 아님 \n"
   ]
  },
  {
   "cell_type": "code",
   "execution_count": 62,
   "metadata": {},
   "outputs": [
    {
     "name": "stdout",
     "output_type": "stream",
     "text": [
      "Epoch 1/10\n",
      "91/91 [==============================] - 0s 1ms/step - loss: 1.8503 - accuracy: 0.8797 - val_loss: 1.6405 - val_accuracy: 0.8936\n",
      "Epoch 2/10\n",
      "91/91 [==============================] - 0s 854us/step - loss: 1.8454 - accuracy: 0.8804 - val_loss: 1.6405 - val_accuracy: 0.8936\n",
      "Epoch 3/10\n",
      "91/91 [==============================] - 0s 938us/step - loss: 1.8454 - accuracy: 0.8804 - val_loss: 1.6405 - val_accuracy: 0.8936\n",
      "Epoch 4/10\n",
      "91/91 [==============================] - 0s 1ms/step - loss: 1.8454 - accuracy: 0.8804 - val_loss: 1.6405 - val_accuracy: 0.8936\n",
      "Epoch 5/10\n",
      "91/91 [==============================] - 0s 925us/step - loss: 1.8454 - accuracy: 0.8804 - val_loss: 1.6405 - val_accuracy: 0.8936\n",
      "Epoch 6/10\n",
      "91/91 [==============================] - 0s 1ms/step - loss: 1.8454 - accuracy: 0.8804 - val_loss: 1.6405 - val_accuracy: 0.8936\n",
      "Epoch 7/10\n",
      "91/91 [==============================] - 0s 1ms/step - loss: 1.8454 - accuracy: 0.8804 - val_loss: 1.6405 - val_accuracy: 0.8936\n",
      "Epoch 8/10\n",
      "91/91 [==============================] - 0s 884us/step - loss: 1.8454 - accuracy: 0.8804 - val_loss: 1.6405 - val_accuracy: 0.8936\n",
      "Epoch 9/10\n",
      "91/91 [==============================] - 0s 813us/step - loss: 1.8454 - accuracy: 0.8804 - val_loss: 1.6405 - val_accuracy: 0.8936\n",
      "Epoch 10/10\n",
      "91/91 [==============================] - 0s 2ms/step - loss: 1.8454 - accuracy: 0.8804 - val_loss: 1.6405 - val_accuracy: 0.8936\n"
     ]
    }
   ],
   "source": [
    "history = model.fit(\n",
    "    x=X_train, y=y_train['y'],\n",
    "    epochs=10, batch_size=32, validation_split=0.2\n",
    ")\n",
    "\n",
    "# validaion 검사를 20% 하겠다"
   ]
  },
  {
   "cell_type": "code",
   "execution_count": 63,
   "metadata": {},
   "outputs": [
    {
     "name": "stdout",
     "output_type": "stream",
     "text": [
      "<tensorflow.python.keras.callbacks.History object at 0x7febb2d18790>\n"
     ]
    }
   ],
   "source": [
    "print(history)"
   ]
  },
  {
   "cell_type": "code",
   "execution_count": 64,
   "metadata": {},
   "outputs": [
    {
     "name": "stdout",
     "output_type": "stream",
     "text": [
      "29/29 [==============================] - 0s 602us/step - loss: 1.7040 - accuracy: 0.8895\n"
     ]
    }
   ],
   "source": [
    "test_loss = model.evaluate(X_test, y_test['y'])"
   ]
  },
  {
   "cell_type": "code",
   "execution_count": 65,
   "metadata": {},
   "outputs": [
    {
     "data": {
      "image/png": "[encoded data removed]",
      "text/plain": [
       "<Figure size 432x288 with 1 Axes>"
      ]
     },
     "metadata": {
      "needs_background": "light"
     },
     "output_type": "display_data"
    }
   ],
   "source": [
    "import matplotlib.pyplot as plt\n",
    "%matplotlib inline\n",
    "\n",
    "plt.plot(history.history['loss'])\n",
    "plt.show()"
   ]
  },
  {
   "cell_type": "code",
   "execution_count": 66,
   "metadata": {},
   "outputs": [
    {
     "name": "stdout",
     "output_type": "stream",
     "text": [
      "{'loss': [1.8503329753875732, 1.8454469442367554, 1.8454468250274658, 1.8454468250274658, 1.8454471826553345, 1.8454467058181763, 1.8454468250274658, 1.8454468250274658, 1.8454467058181763, 1.8454464673995972], 'accuracy': [0.8796680569648743, 0.8803595900535583, 0.8803595900535583, 0.8803595900535583, 0.8803595900535583, 0.8803595900535583, 0.8803595900535583, 0.8803595900535583, 0.8803595900535583, 0.8803595900535583], 'val_loss': [1.6404985189437866, 1.6404985189437866, 1.6404985189437866, 1.6404985189437866, 1.6404985189437866, 1.6404985189437866, 1.6404985189437866, 1.6404985189437866, 1.6404985189437866, 1.6404985189437866], 'val_accuracy': [0.8936464190483093, 0.8936464190483093, 0.8936464190483093, 0.8936464190483093, 0.8936464190483093, 0.8936464190483093, 0.8936464190483093, 0.8936464190483093, 0.8936464190483093, 0.8936464190483093]}\n"
     ]
    }
   ],
   "source": [
    "print(history.history)"
   ]
  },
  {
   "cell_type": "code",
   "execution_count": 81,
   "metadata": {},
   "outputs": [
    {
     "data": {
      "image/png": "[encoded data removed]",
      "text/plain": [
       "<Figure size 432x288 with 1 Axes>"
      ]
     },
     "metadata": {
      "needs_background": "light"
     },
     "output_type": "display_data"
    },
    {
     "data": {
      "image/png": "[encoded data removed]",
      "text/plain": [
       "<Figure size 432x288 with 1 Axes>"
      ]
     },
     "metadata": {
      "needs_background": "light"
     },
     "output_type": "display_data"
    }
   ],
   "source": [
    "# ~p111 \n",
    "# 그래프 확인해 보면 개선이 없는 그래프임을 알 수 있음\n",
    "# 컨벌루션상의 히든레이어 구성이 없기 때문에 Dence 하나만 있음\n",
    "import matplotlib.pyplot as plt\n",
    "\n",
    "plt.plot(history.history['accuracy'])\n",
    "plt.plot(history.history['val_accuracy'])\n",
    "plt.title('Model Accuracy')\n",
    "plt.ylabel('Accuracy')\n",
    "plt.xlabel('Loop')\n",
    "plt.legend(['Train', 'Validation'], loc='upper left')\n",
    "plt.show()\n",
    "\n",
    "plt.plot(history.history['loss'])\n",
    "plt.plot(history.history['val_loss'])\n",
    "plt.title('Model Loss')\n",
    "plt.ylabel('Loss')\n",
    "plt.xlabel('Loop')\n",
    "plt.legend(['Train', 'Validation'], loc='upper left')\n",
    "plt.show()"
   ]
  },
  {
   "cell_type": "code",
   "execution_count": 86,
   "metadata": {},
   "outputs": [
    {
     "name": "stdout",
     "output_type": "stream",
     "text": [
      "Activity02.ipynb     bank_data_target.csv  Exercise07.ipynb  Exercise09.ipynb\r\n",
      "bank_data_feats.csv  Exercise06.ipynb\t   Exercise08.ipynb\r\n"
     ]
    }
   ],
   "source": [
    "!ls Applied-Deep-Learning-with-Keras/Lesson02"
   ]
  },
  {
   "cell_type": "code",
   "execution_count": 87,
   "metadata": {},
   "outputs": [
    {
     "name": "stdout",
     "output_type": "stream",
     "text": [
      "Epoch 1/10\n",
      "91/91 [==============================] - 0s 1ms/step - loss: 4.5511 - accuracy: 0.6836 - val_loss: 3.7809 - val_accuracy: 0.7403\n",
      "Epoch 2/10\n",
      "91/91 [==============================] - 0s 923us/step - loss: 3.5538 - accuracy: 0.7545 - val_loss: 3.2758 - val_accuracy: 0.7735\n",
      "Epoch 3/10\n",
      "91/91 [==============================] - 0s 932us/step - loss: 3.0308 - accuracy: 0.7946 - val_loss: 2.7620 - val_accuracy: 0.8108\n",
      "Epoch 4/10\n",
      "91/91 [==============================] - 0s 1ms/step - loss: 2.5608 - accuracy: 0.8275 - val_loss: 2.3922 - val_accuracy: 0.8412\n",
      "Epoch 5/10\n",
      "91/91 [==============================] - 0s 1ms/step - loss: 2.3771 - accuracy: 0.8420 - val_loss: 2.3837 - val_accuracy: 0.8425\n",
      "Epoch 6/10\n",
      "91/91 [==============================] - 0s 1ms/step - loss: 2.3283 - accuracy: 0.8458 - val_loss: 2.3235 - val_accuracy: 0.8453\n",
      "Epoch 7/10\n",
      "91/91 [==============================] - 0s 1ms/step - loss: 2.2754 - accuracy: 0.8503 - val_loss: 2.2216 - val_accuracy: 0.8536\n",
      "Epoch 8/10\n",
      "91/91 [==============================] - 0s 1ms/step - loss: 2.1544 - accuracy: 0.8568 - val_loss: 1.9622 - val_accuracy: 0.8660\n",
      "Epoch 9/10\n",
      "91/91 [==============================] - 0s 863us/step - loss: 1.9360 - accuracy: 0.8728 - val_loss: 1.6972 - val_accuracy: 0.8881\n",
      "Epoch 10/10\n",
      "91/91 [==============================] - 0s 872us/step - loss: 1.8547 - accuracy: 0.8790 - val_loss: 1.6405 - val_accuracy: 0.8936\n"
     ]
    }
   ],
   "source": [
    "import pandas as pd\n",
    "\n",
    "feats = pd.read_csv(\n",
    "    'Applied-Deep-Learning-with-Keras/Lesson02/bank_data_feats.csv',\n",
    "    index_col = 0\n",
    ")\n",
    "target = pd.read_csv(\n",
    "    'Applied-Deep-Learning-with-Keras/Lesson02/bank_data_target.csv',\n",
    "    index_col = 0\n",
    ")\n",
    "\n",
    "from sklearn.model_selection import train_test_split\n",
    "\n",
    "test_size = 0.2\n",
    "random_state = 42\n",
    "\n",
    "X_train, X_test, y_train, y_test = train_test_split(\n",
    "    feats, target, test_size=test_size, random_state=random_state\n",
    ")\n",
    "\n",
    "from keras.models import Sequential\n",
    "\n",
    "model = Sequential()\n",
    "\n",
    "from keras.layers import Dense, Activation\n",
    "from keras.models import Sequential\n",
    "\n",
    "input_shape = X_train.shape[1]\n",
    "units = 1\n",
    "\n",
    "model.add(Dense(units, input_dim = input_shape)) \n",
    "model.add(Activation('tanh'))\n",
    "\n",
    "model.compile(\n",
    "    optimizer='adam',\n",
    "    loss='binary_crossentropy',\n",
    "    metrics=['accuracy']\n",
    "\n",
    ")\n",
    "\n",
    "history = model.fit(\n",
    "    x=X_train, y=y_train['y'],\n",
    "    epochs=10, batch_size=32, validation_split=0.2\n",
    ")"
   ]
  },
  {
   "cell_type": "code",
   "execution_count": 88,
   "metadata": {},
   "outputs": [
    {
     "data": {
      "image/png": "[encoded data removed]",
      "text/plain": [
       "<Figure size 432x288 with 1 Axes>"
      ]
     },
     "metadata": {
      "needs_background": "light"
     },
     "output_type": "display_data"
    },
    {
     "data": {
      "image/png": "[encoded data removed]",
      "text/plain": [
       "<Figure size 432x288 with 1 Axes>"
      ]
     },
     "metadata": {
      "needs_background": "light"
     },
     "output_type": "display_data"
    }
   ],
   "source": [
    "import matplotlib.pyplot as plt\n",
    "\n",
    "plt.plot(history.history['accuracy'])\n",
    "plt.plot(history.history['val_accuracy'])\n",
    "plt.title('Model Accuracy')\n",
    "plt.ylabel('Accuracy')\n",
    "plt.xlabel('Loop')\n",
    "plt.legend(['Train', 'Validation'], loc='upper left')\n",
    "plt.show()\n",
    "\n",
    "plt.plot(history.history['loss'])\n",
    "plt.plot(history.history['val_loss'])\n",
    "plt.title('Model Loss')\n",
    "plt.ylabel('Loss')\n",
    "plt.xlabel('Loop')\n",
    "plt.legend(['Train', 'Validation'], loc='upper left')\n",
    "plt.show()"
   ]
  },
  {
   "cell_type": "code",
   "execution_count": 80,
   "metadata": {},
   "outputs": [],
   "source": [
    "# ~ 히든레이어없이 Dence의단일 레이어만 만들어봤음 딥러닝x\n",
    "#### 3장 #### 117 \n",
    "# 히든 레이어 어떻게 구성\n",
    "# 과적합, 과소적합이 주는 영향\n",
    "# w1=y=절편  \n",
    "# sigmoid 어떻게 0과 1로 수렴할 것인지\n",
    "# 120(스터디하고 질문) = 이진클래스 라벨 = 고양이를 인식했다 이진 = 0과1 \n",
    "# 탄젠트 하이퍼블릭탄젠트 "
   ]
  },
  {
   "cell_type": "code",
   "execution_count": 89,
   "metadata": {},
   "outputs": [],
   "source": [
    "# Euler Formula\n",
    "# e^ix = cos(x) + i sin(x)\n",
    "# e^-ix = cos(x) - i sin(x)\n",
    "# e^ix + e^-ix = 2 cos(x)\n",
    "# cos(x) = (e^ix + e^-ix) / 2\n",
    "\n",
    "# e^ix - e^-ix = 2i sin(x)\n",
    "# sin(x) = (e^ix - e^-ix) / 2\n",
    "# tan(x) = sin(x) / cos(x)\n",
    "\n",
    "# cosh(x) = (e^x + e^-x) / 2\n",
    "# sinh(x) = (e^x - e^-x) / 2\n",
    "# tanh(x) = sinh(x) / cosh(x)\n",
    "# tanh(x)는 -1 ~ 1 사이의 값을 가지게 된다.\n",
    "\n",
    "\n",
    "# cos sin 을 얻었으니 tanh를 만들 수 있음\n",
    "# e = 백터 \n",
    "# e^ix = \n",
    "# simoid 는 0~1을 가짐\n",
    "# 내부 sigmoid 가능\n",
    "# p120가중치 행렬 5개 3.7 그림"
   ]
  },
  {
   "cell_type": "code",
   "execution_count": 26,
   "metadata": {},
   "outputs": [],
   "source": [
    "# X: 1 by 2\n",
    "# W1: 2 by 3\n",
    "# b1: 1 by 3\n",
    "# z1 = X * W1 + b1\n",
    "# 행렬 곱셈의 규칙\n",
    "# (1 by 2)(2 by 3) ===> (1 by 3)\n",
    "# a1: (1 by 3)\n",
    "# W2: 3 by 5\n",
    "# b2: 1 by 5\n",
    "# z2 = a1 * W2 + b2\n",
    "# (1 by 3)(3 by 5) ===> (1 by 5)\n",
    "# a2: (1 by 5)\n",
    "# W3: 5 by 1\n",
    "# b3: 1 by 1\n",
    "# z3 = a2 * W3 + b3\n",
    "# (1 by 5)(5 by 1) ===> (1 by 1)\n",
    "# Y = sigmoid(z3) ===> 0 ~ 1 확률로 나타난다.\n",
    "\n",
    "# 행렬 곱셈의 규칙\n",
    "# 사이즈는 바뀌는데 결국 1로 귀결됨 0.97 이나오면 97%  0.4 나오면 40%이다 이 그림은 강아지 40%이다."
   ]
  },
  {
   "cell_type": "code",
   "execution_count": 27,
   "metadata": {},
   "outputs": [
    {
     "name": "stdout",
     "output_type": "stream",
     "text": [
      "Num of Dataset: 300\n",
      "Num of Features: 10\n",
      "Possible Output Classes: [0 1]\n"
     ]
    }
   ],
   "source": [
    "import numpy as np\n",
    "from sklearn.datasets import make_classification\n",
    "\n",
    "X, y = make_classification(\n",
    "    # 데이터 300개\n",
    "    n_samples = 300,\n",
    "    # 독립 변수 10개\n",
    "    n_features=10,\n",
    "    # 나올 수 있는 결과 2개\n",
    "    n_classes=2\n",
    ")\n",
    "\n",
    "print(\"Num of Dataset:\", X.shape[0])\n",
    "print(\"Num of Features:\", X.shape[1])\n",
    "print(\"Possible Output Classes:\", np.unique(y))"
   ]
  },
  {
   "cell_type": "code",
   "execution_count": 28,
   "metadata": {},
   "outputs": [],
   "source": [
    "# Features가 10개라는 뜻은\n",
    "# y = ax1 + bx2 + cx3 + dx4 + ex5 fx6 gx7 hx8 ix9 jx10 + alpha"
   ]
  },
  {
   "cell_type": "code",
   "execution_count": 29,
   "metadata": {},
   "outputs": [],
   "source": [
    "from keras.models import Sequential\n",
    "\n",
    "model = Sequential()"
   ]
  },
  {
   "cell_type": "code",
   "execution_count": 30,
   "metadata": {},
   "outputs": [],
   "source": [
    "from keras.layers import Dense, Activation\n",
    "\n",
    "# Dense(출력 개수, 활성화 함수, 입력 개수)\n",
    "model.add(Dense(20, activation='tanh', input_dim=10))"
   ]
  },
  {
   "cell_type": "code",
   "execution_count": 31,
   "metadata": {},
   "outputs": [],
   "source": [
    "model.add(Dense(40, activation='tanh'))\n",
    "model.add(Dense(10, activation='tanh'))\n",
    "model.add(Dense(1, activation='sigmoid'))"
   ]
  },
  {
   "cell_type": "code",
   "execution_count": 32,
   "metadata": {},
   "outputs": [],
   "source": [
    "model.compile(optimizer='sgd', loss='binary_crossentropy')"
   ]
  },
  {
   "cell_type": "code",
   "execution_count": null,
   "metadata": {},
   "outputs": [
    {
     "name": "stdout",
     "output_type": "stream",
     "text": [
      "Epoch 1/1000\n",
      "60/60 [==============================] - 0s 583us/step - loss: 0.6484\n",
      "Epoch 2/1000\n",
      "60/60 [==============================] - 0s 547us/step - loss: 0.3975\n",
      "Epoch 3/1000\n",
      "60/60 [==============================] - 0s 555us/step - loss: 0.3007\n",
      "Epoch 4/1000\n",
      "60/60 [==============================] - 0s 628us/step - loss: 0.2505\n",
      "Epoch 5/1000\n",
      "60/60 [==============================] - 0s 561us/step - loss: 0.2209\n",
      "Epoch 6/1000\n",
      "60/60 [==============================] - 0s 555us/step - loss: 0.2017\n",
      "Epoch 7/1000\n",
      "60/60 [==============================] - 0s 595us/step - loss: 0.1890\n",
      "Epoch 8/1000\n",
      "60/60 [==============================] - 0s 670us/step - loss: 0.1799\n",
      "Epoch 9/1000\n",
      "60/60 [==============================] - 0s 660us/step - loss: 0.1734\n",
      "Epoch 10/1000\n",
      "60/60 [==============================] - 0s 858us/step - loss: 0.1683\n",
      "Epoch 11/1000\n",
      "60/60 [==============================] - 0s 862us/step - loss: 0.1644\n",
      "Epoch 12/1000\n",
      "60/60 [==============================] - 0s 968us/step - loss: 0.1617\n",
      "Epoch 13/1000\n",
      "60/60 [==============================] - 0s 1ms/step - loss: 0.1589\n",
      "Epoch 14/1000\n",
      "60/60 [==============================] - 0s 1ms/step - loss: 0.1569\n",
      "Epoch 15/1000\n",
      "60/60 [==============================] - 0s 1ms/step - loss: 0.1550\n",
      "Epoch 16/1000\n",
      "60/60 [==============================] - 0s 1ms/step - loss: 0.1532\n",
      "Epoch 17/1000\n",
      "60/60 [==============================] - 0s 1ms/step - loss: 0.1519\n",
      "Epoch 18/1000\n",
      "60/60 [==============================] - 0s 592us/step - loss: 0.1503\n",
      "Epoch 19/1000\n",
      "60/60 [==============================] - 0s 586us/step - loss: 0.1492\n",
      "Epoch 20/1000\n",
      "60/60 [==============================] - 0s 730us/step - loss: 0.1480\n",
      "Epoch 21/1000\n",
      "60/60 [==============================] - 0s 727us/step - loss: 0.1467\n",
      "Epoch 22/1000\n",
      "60/60 [==============================] - 0s 676us/step - loss: 0.1458\n",
      "Epoch 23/1000\n",
      "60/60 [==============================] - 0s 725us/step - loss: 0.1449\n",
      "Epoch 24/1000\n",
      "60/60 [==============================] - 0s 748us/step - loss: 0.1443\n",
      "Epoch 25/1000\n",
      "60/60 [==============================] - 0s 724us/step - loss: 0.1424\n",
      "Epoch 26/1000\n",
      "60/60 [==============================] - 0s 705us/step - loss: 0.1420\n",
      "Epoch 27/1000\n",
      "60/60 [==============================] - 0s 747us/step - loss: 0.1409\n",
      "Epoch 28/1000\n",
      "60/60 [==============================] - 0s 707us/step - loss: 0.1395\n",
      "Epoch 29/1000\n",
      "60/60 [==============================] - 0s 716us/step - loss: 0.1385\n",
      "Epoch 30/1000\n",
      "60/60 [==============================] - 0s 700us/step - loss: 0.1377\n",
      "Epoch 31/1000\n",
      "60/60 [==============================] - 0s 708us/step - loss: 0.1367\n",
      "Epoch 32/1000\n",
      "60/60 [==============================] - 0s 622us/step - loss: 0.1354\n",
      "Epoch 33/1000\n",
      "60/60 [==============================] - 0s 635us/step - loss: 0.1347\n",
      "Epoch 34/1000\n",
      "60/60 [==============================] - 0s 597us/step - loss: 0.1332\n",
      "Epoch 35/1000\n",
      "60/60 [==============================] - 0s 641us/step - loss: 0.1329\n",
      "Epoch 36/1000\n",
      "60/60 [==============================] - 0s 629us/step - loss: 0.1315\n",
      "Epoch 37/1000\n",
      "60/60 [==============================] - 0s 625us/step - loss: 0.1306\n",
      "Epoch 38/1000\n",
      "60/60 [==============================] - 0s 664us/step - loss: 0.1300\n",
      "Epoch 39/1000\n",
      "60/60 [==============================] - 0s 620us/step - loss: 0.1284\n",
      "Epoch 40/1000\n",
      "60/60 [==============================] - 0s 633us/step - loss: 0.1277\n",
      "Epoch 41/1000\n",
      "60/60 [==============================] - 0s 611us/step - loss: 0.1265\n",
      "Epoch 42/1000\n",
      "60/60 [==============================] - 0s 618us/step - loss: 0.1256\n",
      "Epoch 43/1000\n",
      "60/60 [==============================] - 0s 635us/step - loss: 0.1247\n",
      "Epoch 44/1000\n",
      "60/60 [==============================] - 0s 622us/step - loss: 0.1239\n",
      "Epoch 45/1000\n",
      "60/60 [==============================] - 0s 666us/step - loss: 0.1227\n",
      "Epoch 46/1000\n",
      "60/60 [==============================] - 0s 620us/step - loss: 0.1216\n",
      "Epoch 47/1000\n",
      "60/60 [==============================] - 0s 631us/step - loss: 0.1210\n",
      "Epoch 48/1000\n",
      "60/60 [==============================] - 0s 628us/step - loss: 0.1196\n",
      "Epoch 49/1000\n",
      "60/60 [==============================] - 0s 614us/step - loss: 0.1191\n",
      "Epoch 50/1000\n",
      "60/60 [==============================] - 0s 609us/step - loss: 0.1177\n",
      "Epoch 51/1000\n",
      " 1/60 [..............................] - ETA: 0s - loss: 0.0182"
     ]
    }
   ],
   "source": [
    "# model.fit(X, y, epochs=100, batch_size=5, verbose=0)\n",
    "history = model.fit(X, y, epochs=1000, batch_size=5)"
   ]
  },
  {
   "cell_type": "code",
   "execution_count": 21,
   "metadata": {},
   "outputs": [
    {
     "ename": "NameError",
     "evalue": "name 'history' is not defined",
     "output_type": "error",
     "traceback": [
      "\u001b[0;31m---------------------------------------------------------------------------\u001b[0m",
      "\u001b[0;31mNameError\u001b[0m                                 Traceback (most recent call last)",
      "\u001b[0;32m<ipython-input-21-a80d572a0f93>\u001b[0m in \u001b[0;36m<module>\u001b[0;34m\u001b[0m\n\u001b[1;32m      1\u001b[0m \u001b[0;32mimport\u001b[0m \u001b[0mmatplotlib\u001b[0m\u001b[0;34m.\u001b[0m\u001b[0mpyplot\u001b[0m \u001b[0;32mas\u001b[0m \u001b[0mplt\u001b[0m\u001b[0;34m\u001b[0m\u001b[0;34m\u001b[0m\u001b[0m\n\u001b[1;32m      2\u001b[0m \u001b[0;34m\u001b[0m\u001b[0m\n\u001b[0;32m----> 3\u001b[0;31m \u001b[0mplt\u001b[0m\u001b[0;34m.\u001b[0m\u001b[0mplot\u001b[0m\u001b[0;34m(\u001b[0m\u001b[0mhistory\u001b[0m\u001b[0;34m.\u001b[0m\u001b[0mhistory\u001b[0m\u001b[0;34m[\u001b[0m\u001b[0;34m'loss'\u001b[0m\u001b[0;34m]\u001b[0m\u001b[0;34m)\u001b[0m\u001b[0;34m\u001b[0m\u001b[0;34m\u001b[0m\u001b[0m\n\u001b[0m\u001b[1;32m      4\u001b[0m \u001b[0mplt\u001b[0m\u001b[0;34m.\u001b[0m\u001b[0mtitle\u001b[0m\u001b[0;34m(\u001b[0m\u001b[0;34m'Model Loss'\u001b[0m\u001b[0;34m)\u001b[0m\u001b[0;34m\u001b[0m\u001b[0;34m\u001b[0m\u001b[0m\n\u001b[1;32m      5\u001b[0m \u001b[0mplt\u001b[0m\u001b[0;34m.\u001b[0m\u001b[0mylabel\u001b[0m\u001b[0;34m(\u001b[0m\u001b[0;34m'Loss'\u001b[0m\u001b[0;34m)\u001b[0m\u001b[0;34m\u001b[0m\u001b[0;34m\u001b[0m\u001b[0m\n",
      "\u001b[0;31mNameError\u001b[0m: name 'history' is not defined"
     ]
    }
   ],
   "source": [
    "import matplotlib.pyplot as plt\n",
    "\n",
    "plt.plot(history.history['loss'])\n",
    "plt.title('Model Loss')\n",
    "plt.ylabel('Loss')\n",
    "plt.xlabel('Loop')\n",
    "plt.show()"
   ]
  },
  {
   "cell_type": "code",
   "execution_count": null,
   "metadata": {},
   "outputs": [],
   "source": [
    "print(model.summary())"
   ]
  }
 ],
 "metadata": {
  "kernelspec": {
   "display_name": "Python 3",
   "language": "python",
   "name": "python3"
  },
  "language_info": {
   "codemirror_mode": {
    "name": "ipython",
    "version": 3
   },
   "file_extension": ".py",
   "mimetype": "text/x-python",
   "name": "python",
   "nbconvert_exporter": "python",
   "pygments_lexer": "ipython3",
   "version": "3.7.6"
  }
 },
 "nbformat": 4,
 "nbformat_minor": 4
}
