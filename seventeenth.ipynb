{
 "cells": [
  {
   "cell_type": "code",
   "execution_count": 1,
   "metadata": {},
   "outputs": [],
   "source": [
    "# p316\n",
    "# 베이스 - 디지탈 신호처리 \n",
    "# 디지털 필터 2가지 (이외는 파생)\n",
    "# 1. CNN - FIR 필터(음성 분석) : 이전 결과값에 영향을 받지 않음 \n",
    "# 2. RNN, LTSM - IIR 필터(음석 분석) : 이전 결과값에 영향을 받음\n",
    "# 피드백(IRR) : 특정값을 찾아 수렴시키는 것이라고 보면 된다.\n",
    "# 쿼드나 헥사를 만들 때 -> 고정값을 찾는 것 (흔들리는 센서값 찾기)\n",
    "# 마이크로 펀딩 => FPGA\n",
    "# apple stock, Alpahbet stock, kilinx stock \n",
    "# 주가정보, tesla news RNN으로 분석한다음 돌리기"
   ]
  },
  {
   "cell_type": "code",
   "execution_count": 2,
   "metadata": {},
   "outputs": [],
   "source": [
    "# y(u, x) => ∂y / ∂u 혹은 ∂y / ∂x (u에 대한 편미분, x에 대한 편미분)\n",
    "# y' = ∂y / ∂x * ∂x / ∂u 전체에 대한 미분 "
   ]
  },
  {
   "cell_type": "code",
   "execution_count": 39,
   "metadata": {},
   "outputs": [],
   "source": [
    "# 라이브러리 임포트\n",
    "import numpy as np\n",
    "import matplotlib.pyplot as plt\n",
    "import pandas as pd"
   ]
  },
  {
   "cell_type": "code",
   "execution_count": 40,
   "metadata": {},
   "outputs": [
    {
     "name": "stdout",
     "output_type": "stream",
     "text": [
      "AAPL_test.csv\t  Activity18.ipynb  Exercise28.ipynb\r\n",
      "AAPL_train.csv\t  Activity19.ipynb  MSFT_test.csv\r\n",
      "Activity17.ipynb  Exercise27.ipynb  MSFT_train.csv\r\n"
     ]
    }
   ],
   "source": [
    "!ls Applied-Deep-Learning-with-Keras/Lesson09"
   ]
  },
  {
   "cell_type": "code",
   "execution_count": 41,
   "metadata": {},
   "outputs": [
    {
     "data": {
      "text/html": [
       "<div>\n",
       "<style scoped>\n",
       "    .dataframe tbody tr th:only-of-type {\n",
       "        vertical-align: middle;\n",
       "    }\n",
       "\n",
       "    .dataframe tbody tr th {\n",
       "        vertical-align: top;\n",
       "    }\n",
       "\n",
       "    .dataframe thead th {\n",
       "        text-align: right;\n",
       "    }\n",
       "</style>\n",
       "<table border=\"1\" class=\"dataframe\">\n",
       "  <thead>\n",
       "    <tr style=\"text-align: right;\">\n",
       "      <th></th>\n",
       "      <th>Date</th>\n",
       "      <th>Open</th>\n",
       "      <th>High</th>\n",
       "      <th>Low</th>\n",
       "      <th>Close</th>\n",
       "      <th>Adj Close</th>\n",
       "      <th>Volume</th>\n",
       "    </tr>\n",
       "  </thead>\n",
       "  <tbody>\n",
       "    <tr>\n",
       "      <th>0</th>\n",
       "      <td>02-01-2014</td>\n",
       "      <td>79.382858</td>\n",
       "      <td>79.575714</td>\n",
       "      <td>78.860001</td>\n",
       "      <td>79.018570</td>\n",
       "      <td>66.964325</td>\n",
       "      <td>58671200</td>\n",
       "    </tr>\n",
       "    <tr>\n",
       "      <th>1</th>\n",
       "      <td>03-01-2014</td>\n",
       "      <td>78.980003</td>\n",
       "      <td>79.099998</td>\n",
       "      <td>77.204285</td>\n",
       "      <td>77.282860</td>\n",
       "      <td>65.493416</td>\n",
       "      <td>98116900</td>\n",
       "    </tr>\n",
       "    <tr>\n",
       "      <th>2</th>\n",
       "      <td>06-01-2014</td>\n",
       "      <td>76.778572</td>\n",
       "      <td>78.114288</td>\n",
       "      <td>76.228569</td>\n",
       "      <td>77.704285</td>\n",
       "      <td>65.850533</td>\n",
       "      <td>103152700</td>\n",
       "    </tr>\n",
       "    <tr>\n",
       "      <th>3</th>\n",
       "      <td>07-01-2014</td>\n",
       "      <td>77.760002</td>\n",
       "      <td>77.994286</td>\n",
       "      <td>76.845711</td>\n",
       "      <td>77.148575</td>\n",
       "      <td>65.379593</td>\n",
       "      <td>79302300</td>\n",
       "    </tr>\n",
       "    <tr>\n",
       "      <th>4</th>\n",
       "      <td>08-01-2014</td>\n",
       "      <td>76.972855</td>\n",
       "      <td>77.937141</td>\n",
       "      <td>76.955711</td>\n",
       "      <td>77.637146</td>\n",
       "      <td>65.793633</td>\n",
       "      <td>64632400</td>\n",
       "    </tr>\n",
       "  </tbody>\n",
       "</table>\n",
       "</div>"
      ],
      "text/plain": [
       "         Date       Open       High        Low      Close  Adj Close  \\\n",
       "0  02-01-2014  79.382858  79.575714  78.860001  79.018570  66.964325   \n",
       "1  03-01-2014  78.980003  79.099998  77.204285  77.282860  65.493416   \n",
       "2  06-01-2014  76.778572  78.114288  76.228569  77.704285  65.850533   \n",
       "3  07-01-2014  77.760002  77.994286  76.845711  77.148575  65.379593   \n",
       "4  08-01-2014  76.972855  77.937141  76.955711  77.637146  65.793633   \n",
       "\n",
       "      Volume  \n",
       "0   58671200  \n",
       "1   98116900  \n",
       "2  103152700  \n",
       "3   79302300  \n",
       "4   64632400  "
      ]
     },
     "execution_count": 41,
     "metadata": {},
     "output_type": "execute_result"
    }
   ],
   "source": [
    "# 데이터세트 로딩\n",
    "trainSet = pd.read_csv(\n",
    "    'Applied-Deep-Learning-with-Keras' +\n",
    "    '/Lesson09/AAPL_train.csv'\n",
    ")\n",
    "trainSet.head()"
   ]
  },
  {
   "cell_type": "code",
   "execution_count": 6,
   "metadata": {},
   "outputs": [
    {
     "data": {
      "text/plain": [
       "array([[ 79.382858],\n",
       "       [ 78.980003],\n",
       "       [ 76.778572],\n",
       "       ...,\n",
       "       [155.839996],\n",
       "       [157.5     ],\n",
       "       [158.529999]])"
      ]
     },
     "execution_count": 6,
     "metadata": {},
     "output_type": "execute_result"
    }
   ],
   "source": [
    "# 공개주가정보 가지고 예측-> Open 주가 정보행 추출\n",
    "trainSetOpen = trainSet.iloc[:, 1:2].values\n",
    "trainSetOpen"
   ]
  },
  {
   "cell_type": "code",
   "execution_count": 7,
   "metadata": {},
   "outputs": [],
   "source": [
    "# 데이터 일반화해서 특성 척도 맞추기\n",
    "from sklearn.preprocessing import MinMaxScaler"
   ]
  },
  {
   "cell_type": "code",
   "execution_count": 8,
   "metadata": {},
   "outputs": [
    {
     "data": {
      "text/plain": [
       "array([[0.05400437],\n",
       "       [0.05148716],\n",
       "       [0.03773165],\n",
       "       ...,\n",
       "       [0.53174205],\n",
       "       [0.54211448],\n",
       "       [0.54855037]])"
      ]
     },
     "execution_count": 8,
     "metadata": {},
     "output_type": "execute_result"
    }
   ],
   "source": [
    "sc = MinMaxScaler(feature_range = (0, 1))\n",
    "trainSetScaled = sc.fit_transform(trainSetOpen)\n",
    "trainSetScaled"
   ]
  },
  {
   "cell_type": "code",
   "execution_count": 9,
   "metadata": {},
   "outputs": [],
   "source": [
    "# 서로 다른 시점의 데이터 60개 수집 / 학습세트에 총 1,258개의 최댓값 데이터 설정\n",
    "X_train = []\n",
    "y_train = []\n",
    "\n",
    "for i in range(60, 1258):\n",
    "    X_train.append(trainSetScaled[i - 60:i, 0])\n",
    "    y_train.append(trainSetScaled[i, 0])\n",
    "    \n",
    "X_train = np.array(X_train)\n",
    "y_train = np.array(y_train)"
   ]
  },
  {
   "cell_type": "code",
   "execution_count": 10,
   "metadata": {},
   "outputs": [
    {
     "data": {
      "text/plain": [
       "array([[[0.05400437],\n",
       "        [0.05148716],\n",
       "        [0.03773165],\n",
       "        ...,\n",
       "        [0.04582785],\n",
       "        [0.04002572],\n",
       "        [0.03850823]],\n",
       "\n",
       "       [[0.05148716],\n",
       "        [0.03773165],\n",
       "        [0.04386406],\n",
       "        ...,\n",
       "        [0.04002572],\n",
       "        [0.03850823],\n",
       "        [0.03932056]],\n",
       "\n",
       "       [[0.03773165],\n",
       "        [0.04386406],\n",
       "        [0.03894562],\n",
       "        ...,\n",
       "        [0.03850823],\n",
       "        [0.03932056],\n",
       "        [0.03800839]],\n",
       "\n",
       "       ...,\n",
       "\n",
       "       [[0.98231691],\n",
       "        [0.97794302],\n",
       "        [0.99543867],\n",
       "        ...,\n",
       "        [0.53811549],\n",
       "        [0.48369155],\n",
       "        [0.48462887]],\n",
       "\n",
       "       [[0.97794302],\n",
       "        [0.99543867],\n",
       "        [1.        ],\n",
       "        ...,\n",
       "        [0.48369155],\n",
       "        [0.48462887],\n",
       "        [0.53174205]],\n",
       "\n",
       "       [[0.99543867],\n",
       "        [1.        ],\n",
       "        [0.98237946],\n",
       "        ...,\n",
       "        [0.48462887],\n",
       "        [0.53174205],\n",
       "        [0.54211448]]])"
      ]
     },
     "execution_count": 10,
     "metadata": {},
     "output_type": "execute_result"
    }
   ],
   "source": [
    "# 데이터 모양 바꾸기\n",
    "X_train = np.reshape(\n",
    "    X_train, \n",
    "    (X_train.shape[0], X_train.shape[1], 1)\n",
    ")\n",
    "X_train"
   ]
  },
  {
   "cell_type": "code",
   "execution_count": 11,
   "metadata": {},
   "outputs": [],
   "source": [
    "# RNN을 구축하기위한 라이브러리 임포트 \n",
    "from keras.models import Sequential\n",
    "from keras.layers import Dense, LSTM, Dropout"
   ]
  },
  {
   "cell_type": "code",
   "execution_count": 12,
   "metadata": {},
   "outputs": [],
   "source": [
    "# 순차모델 초기화\n",
    "model = Sequential()"
   ]
  },
  {
   "cell_type": "code",
   "execution_count": 13,
   "metadata": {},
   "outputs": [],
   "source": [
    "# ANN 아키텍처 구축\n",
    "model.add(\n",
    "    LSTM(\n",
    "        50, return_sequences = True, \n",
    "        input_shape = (X_train.shape[1], 1)\n",
    "    )\n",
    ")\n",
    "model.add(\n",
    "    LSTM(50, return_sequences = True)\n",
    ")\n",
    "model.add(\n",
    "    LSTM(50, return_sequences = True)\n",
    ")\n",
    "model.add(LSTM(50))\n",
    "model.add(Dense(1))         "
   ]
  },
  {
   "cell_type": "code",
   "execution_count": 14,
   "metadata": {},
   "outputs": [
    {
     "name": "stdout",
     "output_type": "stream",
     "text": [
      "Epoch 1/100\n",
      "38/38 [==============================] - 2s 48ms/step - loss: 0.0248\n",
      "Epoch 2/100\n",
      "38/38 [==============================] - 2s 44ms/step - loss: 0.0026\n",
      "Epoch 3/100\n",
      "38/38 [==============================] - 2s 45ms/step - loss: 0.0021\n",
      "Epoch 4/100\n",
      "38/38 [==============================] - 2s 45ms/step - loss: 0.0020\n",
      "Epoch 5/100\n",
      "38/38 [==============================] - 2s 43ms/step - loss: 0.0018\n",
      "Epoch 6/100\n",
      "38/38 [==============================] - 2s 43ms/step - loss: 0.0016\n",
      "Epoch 7/100\n",
      "38/38 [==============================] - 2s 44ms/step - loss: 0.0014\n",
      "Epoch 8/100\n",
      "38/38 [==============================] - 2s 44ms/step - loss: 0.0012\n",
      "Epoch 9/100\n",
      "38/38 [==============================] - 2s 45ms/step - loss: 0.0013\n",
      "Epoch 10/100\n",
      "38/38 [==============================] - 2s 44ms/step - loss: 0.0012\n",
      "Epoch 11/100\n",
      "38/38 [==============================] - 2s 42ms/step - loss: 0.0014\n",
      "Epoch 12/100\n",
      "38/38 [==============================] - 2s 44ms/step - loss: 0.0012\n",
      "Epoch 13/100\n",
      "38/38 [==============================] - 2s 44ms/step - loss: 0.0012\n",
      "Epoch 14/100\n",
      "38/38 [==============================] - 2s 43ms/step - loss: 0.0011\n",
      "Epoch 15/100\n",
      "38/38 [==============================] - 2s 44ms/step - loss: 0.0012\n",
      "Epoch 16/100\n",
      "38/38 [==============================] - 2s 44ms/step - loss: 0.0010\n",
      "Epoch 17/100\n",
      "38/38 [==============================] - 2s 44ms/step - loss: 0.0011\n",
      "Epoch 18/100\n",
      "38/38 [==============================] - 2s 44ms/step - loss: 9.3462e-04\n",
      "Epoch 19/100\n",
      "38/38 [==============================] - 2s 43ms/step - loss: 9.3520e-04\n",
      "Epoch 20/100\n",
      "38/38 [==============================] - 2s 43ms/step - loss: 9.0671e-04\n",
      "Epoch 21/100\n",
      "38/38 [==============================] - 2s 42ms/step - loss: 8.8783e-04\n",
      "Epoch 22/100\n",
      "38/38 [==============================] - 2s 45ms/step - loss: 9.2431e-04\n",
      "Epoch 23/100\n",
      "38/38 [==============================] - 2s 44ms/step - loss: 0.0011\n",
      "Epoch 24/100\n",
      "38/38 [==============================] - 2s 44ms/step - loss: 9.5528e-04\n",
      "Epoch 25/100\n",
      "38/38 [==============================] - 2s 44ms/step - loss: 9.0145e-04\n",
      "Epoch 26/100\n",
      "38/38 [==============================] - 2s 44ms/step - loss: 7.6973e-04\n",
      "Epoch 27/100\n",
      "38/38 [==============================] - 2s 43ms/step - loss: 7.4657e-04\n",
      "Epoch 28/100\n",
      "38/38 [==============================] - 2s 43ms/step - loss: 7.4273e-04\n",
      "Epoch 29/100\n",
      "38/38 [==============================] - 2s 42ms/step - loss: 8.6105e-04\n",
      "Epoch 30/100\n",
      "38/38 [==============================] - 2s 44ms/step - loss: 7.3812e-04\n",
      "Epoch 31/100\n",
      "38/38 [==============================] - 2s 43ms/step - loss: 7.1150e-04\n",
      "Epoch 32/100\n",
      "38/38 [==============================] - 2s 44ms/step - loss: 6.6459e-04\n",
      "Epoch 33/100\n",
      "38/38 [==============================] - 2s 44ms/step - loss: 6.3705e-04\n",
      "Epoch 34/100\n",
      "38/38 [==============================] - 2s 44ms/step - loss: 6.6044e-04\n",
      "Epoch 35/100\n",
      "38/38 [==============================] - 2s 44ms/step - loss: 6.3770e-04\n",
      "Epoch 36/100\n",
      "38/38 [==============================] - 2s 43ms/step - loss: 5.3625e-04\n",
      "Epoch 37/100\n",
      "38/38 [==============================] - 2s 43ms/step - loss: 5.3221e-04\n",
      "Epoch 38/100\n",
      "38/38 [==============================] - 2s 43ms/step - loss: 4.8520e-04\n",
      "Epoch 39/100\n",
      "38/38 [==============================] - 2s 44ms/step - loss: 5.0138e-04\n",
      "Epoch 40/100\n",
      "38/38 [==============================] - 2s 43ms/step - loss: 4.9468e-04\n",
      "Epoch 41/100\n",
      "38/38 [==============================] - 2s 43ms/step - loss: 5.0795e-04\n",
      "Epoch 42/100\n",
      "38/38 [==============================] - 2s 43ms/step - loss: 4.3703e-04\n",
      "Epoch 43/100\n",
      "38/38 [==============================] - 2s 43ms/step - loss: 5.0226e-04\n",
      "Epoch 44/100\n",
      "38/38 [==============================] - 2s 43ms/step - loss: 5.1526e-04\n",
      "Epoch 45/100\n",
      "38/38 [==============================] - 2s 44ms/step - loss: 4.4450e-04\n",
      "Epoch 46/100\n",
      "38/38 [==============================] - 2s 44ms/step - loss: 5.4048e-04\n",
      "Epoch 47/100\n",
      "38/38 [==============================] - 2s 44ms/step - loss: 4.2345e-04\n",
      "Epoch 48/100\n",
      "38/38 [==============================] - 2s 44ms/step - loss: 4.0888e-04\n",
      "Epoch 49/100\n",
      "38/38 [==============================] - 2s 43ms/step - loss: 4.9982e-04\n",
      "Epoch 50/100\n",
      "38/38 [==============================] - 2s 44ms/step - loss: 3.9152e-04\n",
      "Epoch 51/100\n",
      "38/38 [==============================] - 2s 44ms/step - loss: 3.7674e-04\n",
      "Epoch 52/100\n",
      "38/38 [==============================] - 2s 44ms/step - loss: 3.4374e-04\n",
      "Epoch 53/100\n",
      "38/38 [==============================] - 2s 44ms/step - loss: 3.9674e-04\n",
      "Epoch 54/100\n",
      "38/38 [==============================] - 2s 43ms/step - loss: 3.4399e-04\n",
      "Epoch 55/100\n",
      "38/38 [==============================] - 2s 43ms/step - loss: 3.4651e-04\n",
      "Epoch 56/100\n",
      "38/38 [==============================] - 2s 43ms/step - loss: 3.1719e-04\n",
      "Epoch 57/100\n",
      "38/38 [==============================] - 2s 43ms/step - loss: 3.5549e-04\n",
      "Epoch 58/100\n",
      "38/38 [==============================] - 2s 43ms/step - loss: 3.2265e-04\n",
      "Epoch 59/100\n",
      "38/38 [==============================] - 2s 43ms/step - loss: 2.8370e-04\n",
      "Epoch 60/100\n",
      "38/38 [==============================] - 2s 43ms/step - loss: 4.2742e-04\n",
      "Epoch 61/100\n",
      "38/38 [==============================] - 2s 43ms/step - loss: 2.8671e-04\n",
      "Epoch 62/100\n",
      "38/38 [==============================] - 2s 44ms/step - loss: 2.9002e-04\n",
      "Epoch 63/100\n",
      "38/38 [==============================] - 2s 43ms/step - loss: 2.7265e-04\n",
      "Epoch 64/100\n",
      "38/38 [==============================] - 2s 43ms/step - loss: 2.7171e-04\n",
      "Epoch 65/100\n",
      "38/38 [==============================] - 2s 44ms/step - loss: 3.2301e-04\n",
      "Epoch 66/100\n",
      "38/38 [==============================] - 2s 43ms/step - loss: 3.4801e-04\n",
      "Epoch 67/100\n",
      "38/38 [==============================] - 2s 43ms/step - loss: 3.0824e-04\n",
      "Epoch 68/100\n",
      "38/38 [==============================] - 2s 44ms/step - loss: 3.5964e-04\n",
      "Epoch 69/100\n",
      "38/38 [==============================] - 2s 44ms/step - loss: 2.6171e-04\n",
      "Epoch 70/100\n",
      "38/38 [==============================] - 2s 43ms/step - loss: 4.1893e-04\n",
      "Epoch 71/100\n",
      "38/38 [==============================] - 2s 43ms/step - loss: 4.0554e-04\n",
      "Epoch 72/100\n",
      "38/38 [==============================] - 2s 43ms/step - loss: 2.7118e-04\n",
      "Epoch 73/100\n",
      "38/38 [==============================] - 2s 43ms/step - loss: 2.8722e-04\n",
      "Epoch 74/100\n",
      "38/38 [==============================] - 2s 43ms/step - loss: 3.0778e-04\n",
      "Epoch 75/100\n",
      "38/38 [==============================] - 2s 44ms/step - loss: 2.7096e-04\n",
      "Epoch 76/100\n",
      "38/38 [==============================] - 2s 44ms/step - loss: 2.6480e-04\n",
      "Epoch 77/100\n",
      "38/38 [==============================] - 2s 43ms/step - loss: 2.7855e-04\n",
      "Epoch 78/100\n",
      "38/38 [==============================] - 2s 43ms/step - loss: 4.4376e-04\n",
      "Epoch 79/100\n",
      "38/38 [==============================] - 2s 43ms/step - loss: 2.7399e-04\n",
      "Epoch 80/100\n",
      "38/38 [==============================] - 2s 43ms/step - loss: 2.4911e-04\n",
      "Epoch 81/100\n",
      "38/38 [==============================] - 2s 44ms/step - loss: 2.7507e-04\n",
      "Epoch 82/100\n",
      "38/38 [==============================] - 2s 44ms/step - loss: 2.9469e-04\n",
      "Epoch 83/100\n",
      "38/38 [==============================] - 2s 43ms/step - loss: 2.4183e-04\n",
      "Epoch 84/100\n",
      "38/38 [==============================] - 2s 43ms/step - loss: 2.6266e-04\n",
      "Epoch 85/100\n",
      "38/38 [==============================] - 2s 43ms/step - loss: 2.7687e-04\n",
      "Epoch 86/100\n",
      "38/38 [==============================] - 2s 43ms/step - loss: 2.4495e-04\n",
      "Epoch 87/100\n",
      "38/38 [==============================] - 2s 43ms/step - loss: 2.7513e-04\n",
      "Epoch 88/100\n",
      "38/38 [==============================] - 2s 44ms/step - loss: 2.5224e-04\n",
      "Epoch 89/100\n",
      "38/38 [==============================] - 2s 43ms/step - loss: 2.5256e-04\n",
      "Epoch 90/100\n",
      "38/38 [==============================] - 2s 43ms/step - loss: 2.6061e-04\n",
      "Epoch 91/100\n",
      "38/38 [==============================] - 2s 43ms/step - loss: 2.5998e-04\n",
      "Epoch 92/100\n",
      "38/38 [==============================] - 2s 43ms/step - loss: 3.4221e-04\n",
      "Epoch 93/100\n",
      "38/38 [==============================] - 2s 44ms/step - loss: 2.9657e-04\n",
      "Epoch 94/100\n",
      "38/38 [==============================] - 2s 44ms/step - loss: 3.5957e-04\n",
      "Epoch 95/100\n",
      "38/38 [==============================] - 2s 43ms/step - loss: 3.0836e-04\n",
      "Epoch 96/100\n",
      "38/38 [==============================] - 2s 43ms/step - loss: 2.4742e-04\n",
      "Epoch 97/100\n",
      "38/38 [==============================] - 2s 43ms/step - loss: 2.3301e-04\n",
      "Epoch 98/100\n",
      "38/38 [==============================] - 2s 43ms/step - loss: 3.4261e-04\n",
      "Epoch 99/100\n",
      "38/38 [==============================] - 2s 44ms/step - loss: 2.5182e-04\n",
      "Epoch 100/100\n",
      "38/38 [==============================] - 2s 43ms/step - loss: 2.3998e-04\n"
     ]
    },
    {
     "data": {
      "text/plain": [
       "<tensorflow.python.keras.callbacks.History at 0x7f73287ad0d0>"
      ]
     },
     "execution_count": 14,
     "metadata": {},
     "output_type": "execute_result"
    }
   ],
   "source": [
    "# 망 컴파일\n",
    "model.compile(\n",
    "    optimizer = 'adam',\n",
    "    loss = 'mean_squared_error'\n",
    ")\n",
    "model.fit(\n",
    "    X_train, y_train, epochs = 100, batch_size = 32\n",
    ")"
   ]
  },
  {
   "cell_type": "code",
   "execution_count": 15,
   "metadata": {},
   "outputs": [
    {
     "data": {
      "text/html": [
       "<div>\n",
       "<style scoped>\n",
       "    .dataframe tbody tr th:only-of-type {\n",
       "        vertical-align: middle;\n",
       "    }\n",
       "\n",
       "    .dataframe tbody tr th {\n",
       "        vertical-align: top;\n",
       "    }\n",
       "\n",
       "    .dataframe thead th {\n",
       "        text-align: right;\n",
       "    }\n",
       "</style>\n",
       "<table border=\"1\" class=\"dataframe\">\n",
       "  <thead>\n",
       "    <tr style=\"text-align: right;\">\n",
       "      <th></th>\n",
       "      <th>Date</th>\n",
       "      <th>Open</th>\n",
       "      <th>High</th>\n",
       "      <th>Low</th>\n",
       "      <th>Close</th>\n",
       "      <th>Adj Close</th>\n",
       "      <th>Volume</th>\n",
       "    </tr>\n",
       "  </thead>\n",
       "  <tbody>\n",
       "    <tr>\n",
       "      <th>0</th>\n",
       "      <td>02-01-2019</td>\n",
       "      <td>154.889999</td>\n",
       "      <td>158.850006</td>\n",
       "      <td>154.229996</td>\n",
       "      <td>157.919998</td>\n",
       "      <td>157.245605</td>\n",
       "      <td>37039700</td>\n",
       "    </tr>\n",
       "    <tr>\n",
       "      <th>1</th>\n",
       "      <td>03-01-2019</td>\n",
       "      <td>143.979996</td>\n",
       "      <td>145.720001</td>\n",
       "      <td>142.000000</td>\n",
       "      <td>142.190002</td>\n",
       "      <td>141.582779</td>\n",
       "      <td>91244100</td>\n",
       "    </tr>\n",
       "    <tr>\n",
       "      <th>2</th>\n",
       "      <td>04-01-2019</td>\n",
       "      <td>144.529999</td>\n",
       "      <td>148.550003</td>\n",
       "      <td>143.800003</td>\n",
       "      <td>148.259995</td>\n",
       "      <td>147.626846</td>\n",
       "      <td>58607100</td>\n",
       "    </tr>\n",
       "    <tr>\n",
       "      <th>3</th>\n",
       "      <td>07-01-2019</td>\n",
       "      <td>148.699997</td>\n",
       "      <td>148.830002</td>\n",
       "      <td>145.899994</td>\n",
       "      <td>147.929993</td>\n",
       "      <td>147.298264</td>\n",
       "      <td>54777800</td>\n",
       "    </tr>\n",
       "    <tr>\n",
       "      <th>4</th>\n",
       "      <td>08-01-2019</td>\n",
       "      <td>149.559998</td>\n",
       "      <td>151.820007</td>\n",
       "      <td>148.520004</td>\n",
       "      <td>150.750000</td>\n",
       "      <td>150.106216</td>\n",
       "      <td>41025300</td>\n",
       "    </tr>\n",
       "  </tbody>\n",
       "</table>\n",
       "</div>"
      ],
      "text/plain": [
       "         Date        Open        High         Low       Close   Adj Close  \\\n",
       "0  02-01-2019  154.889999  158.850006  154.229996  157.919998  157.245605   \n",
       "1  03-01-2019  143.979996  145.720001  142.000000  142.190002  141.582779   \n",
       "2  04-01-2019  144.529999  148.550003  143.800003  148.259995  147.626846   \n",
       "3  07-01-2019  148.699997  148.830002  145.899994  147.929993  147.298264   \n",
       "4  08-01-2019  149.559998  151.820007  148.520004  150.750000  150.106216   \n",
       "\n",
       "     Volume  \n",
       "0  37039700  \n",
       "1  91244100  \n",
       "2  58607100  \n",
       "3  54777800  \n",
       "4  41025300  "
      ]
     },
     "execution_count": 15,
     "metadata": {},
     "output_type": "execute_result"
    }
   ],
   "source": [
    "# 테스트 데이터 로딩 및 처리 \n",
    "testSet = pd.read_csv(\n",
    "    'Applied-Deep-Learning-with-Keras' +\n",
    "    '/Lesson09/AAPL_test.csv'\n",
    ")\n",
    "testSet.head()"
   ]
  },
  {
   "cell_type": "code",
   "execution_count": 16,
   "metadata": {},
   "outputs": [
    {
     "data": {
      "text/plain": [
       "array([[154.889999],\n",
       "       [143.979996],\n",
       "       [144.529999],\n",
       "       [148.699997],\n",
       "       [149.559998],\n",
       "       [151.289993],\n",
       "       [152.5     ],\n",
       "       [152.880005],\n",
       "       [150.850006],\n",
       "       [150.270004],\n",
       "       [153.080002],\n",
       "       [154.199997],\n",
       "       [157.5     ],\n",
       "       [156.410004],\n",
       "       [154.149994],\n",
       "       [154.110001],\n",
       "       [155.479996],\n",
       "       [155.789993],\n",
       "       [156.25    ],\n",
       "       [163.25    ],\n",
       "       [166.110001]])"
      ]
     },
     "execution_count": 16,
     "metadata": {},
     "output_type": "execute_result"
    }
   ],
   "source": [
    "actualstock = testSet.iloc[:, 1:2].values\n",
    "actualstock"
   ]
  },
  {
   "cell_type": "code",
   "execution_count": 17,
   "metadata": {},
   "outputs": [],
   "source": [
    "# 데이터 합치기 \n",
    "total = pd.concat(\n",
    "    (trainSet['Open'], testSet['Open']),\n",
    "    axis = 0\n",
    ")"
   ]
  },
  {
   "cell_type": "code",
   "execution_count": 25,
   "metadata": {},
   "outputs": [],
   "source": [
    "# 테스트 데이터 준비 : 입력모양바꾸기, 척도 맞추기\n",
    "inputs = total[len(total) - len(testSet)-60:].values\n",
    "inputs = inputs.reshape(-1,1)\n",
    "inputs  = sc.transform(inputs)\n",
    "X_test = []\n",
    "for i in range(60, 81):\n",
    "    X_test.append(inputs[i-60:i, 0])\n",
    "X_test = np.array(X_test)\n",
    "X_test = np.reshape(X_test, (X_test.shape[0], X_test.shape[1],1))\n",
    "predictedStock = model.predict(X_test)\n",
    "predictedStock = sc.inverse_transform(predictedStock)"
   ]
  },
  {
   "cell_type": "code",
   "execution_count": 29,
   "metadata": {},
   "outputs": [
    {
     "data": {
      "text/plain": [
       "<function matplotlib.pyplot.show(*args, **kw)>"
      ]
     },
     "execution_count": 29,
     "metadata": {},
     "output_type": "execute_result"
    },
    {
     "data": {
      "image/png": "[encoded data removed]",
      "text/plain": [
       "<Figure size 432x288 with 1 Axes>"
      ]
     },
     "metadata": {
      "needs_background": "light"
     },
     "output_type": "display_data"
    }
   ],
   "source": [
    "# 결과 시각화\n",
    "plt.plot(\n",
    "    actualstock, color = 'green',\n",
    "    label = 'Real Apple Stock', ls = '--'\n",
    ")\n",
    "plt.plot(\n",
    "    predictedStock, color = 'red',\n",
    "    label = 'Predicted Apple Stock', ls = '--'\n",
    ")\n",
    "plt.title('Predicted Stock Price')\n",
    "plt.xlabel('Time in days')\n",
    "plt.ylabel('Real Stock Price')\n",
    "plt.legend()\n",
    "plt.show\n",
    "# IIR 필터의 특성이 나타나고 있음\n",
    "# 위상이 뒤틀린다. \n",
    "# 데이터가 이틀씩 뒤쳐지고 있음 -> 이 데이터로 주식예측하면 폭망"
   ]
  },
  {
   "cell_type": "code",
   "execution_count": null,
   "metadata": {},
   "outputs": [],
   "source": []
  },
  {
   "cell_type": "code",
   "execution_count": null,
   "metadata": {},
   "outputs": [],
   "source": [
    "# 1. 새로운 터미널을 킨다.\n",
    "# 2. pip uninstall -y keras\n",
    "# 3. pip uninstall -y tensorflow\n",
    "# 4. pip uninstall -y tensorflow-gpu\n",
    "# 5. rm -rf ~/.keras\n",
    "# 6. 새로 킨 터미널을 껏다가 다시 킨다.\n",
    "# 7. pip install tensorflow==1.14\n",
    "# 8. pip install keras==2.2.5\n",
    "# 9. 터미널을 다시 껏다가 킨다.\n",
    "# 10. jupyter notebook을 구동시킨다."
   ]
  },
  {
   "cell_type": "code",
   "execution_count": 32,
   "metadata": {},
   "outputs": [],
   "source": [
    "from keras.applications.vgg16 import decode_predictions\n",
    "from keras.applications.vgg16 import preprocess_input\n",
    "from keras.applications.resnet50 import ResNet50\n",
    "from keras_preprocessing import image\n",
    "import numpy as np"
   ]
  },
  {
   "cell_type": "code",
   "execution_count": 33,
   "metadata": {},
   "outputs": [],
   "source": [
    "def prepare_img(img, target):\n",
    "    img = img.resize(target)\n",
    "    img = img_to_array(img)\n",
    "    img = np.expand_dims(img, axis = 0)\n",
    "    img = imagenet_utils.preprocess_input(img)\n",
    "    \n",
    "    return img"
   ]
  },
  {
   "cell_type": "code",
   "execution_count": 34,
   "metadata": {},
   "outputs": [],
   "source": [
    "resModel = None\n",
    "\n",
    "def load_model():\n",
    "    global resModel\n",
    "    resModel = ResNet50()"
   ]
  },
  {
   "cell_type": "code",
   "execution_count": 35,
   "metadata": {},
   "outputs": [
    {
     "name": "stdout",
     "output_type": "stream",
     "text": [
      "1.14.0\n"
     ]
    }
   ],
   "source": [
    "import keras.backend.tensorflow_backend as tb\n",
    "import tensorflow as tf\n",
    "\n",
    "global graph, model\n",
    "graph = tf.get_default_graph()\n",
    "\n",
    "print(tf.__version__)"
   ]
  },
  {
   "cell_type": "code",
   "execution_count": 36,
   "metadata": {},
   "outputs": [],
   "source": [
    "from flask import Flask, request, jsonify\n",
    "from werkzeug.utils import secure_filename"
   ]
  },
  {
   "cell_type": "code",
   "execution_count": null,
   "metadata": {},
   "outputs": [
    {
     "name": "stdout",
     "output_type": "stream",
     "text": [
      " * Serving Flask app \"__main__\" (lazy loading)\n",
      " * Environment: production\n",
      "   WARNING: This is a development server. Do not use it in a production deployment.\n",
      "   Use a production WSGI server instead.\n",
      " * Debug mode: off\n"
     ]
    },
    {
     "name": "stderr",
     "output_type": "stream",
     "text": [
      " * Running on http://127.0.0.1:5000/ (Press CTRL+C to quit)\n"
     ]
    },
    {
     "name": "stdout",
     "output_type": "stream",
     "text": [
      "POST\n",
      "test_image_2.jpg\n",
      "(1, 224, 224, 3)\n",
      "Downloading data from https://storage.googleapis.com/download.tensorflow.org/data/imagenet_class_index.json\n",
      "40960/35363 [==================================] - 0s 0us/step\n"
     ]
    },
    {
     "name": "stderr",
     "output_type": "stream",
     "text": [
      "127.0.0.1 - - [20/Jul/2020 15:23:34] \"\u001b[37mPOST /imgServer HTTP/1.1\u001b[0m\" 200 -\n",
      "127.0.0.1 - - [20/Jul/2020 15:23:34] \"\u001b[33mGET /favicon.ico HTTP/1.1\u001b[0m\" 404 -\n",
      "127.0.0.1 - - [20/Jul/2020 15:28:32] \"\u001b[37mGET /imgServer HTTP/1.1\u001b[0m\" 200 -\n",
      "127.0.0.1 - - [20/Jul/2020 15:28:44] \"\u001b[33mGET / HTTP/1.1\u001b[0m\" 404 -\n",
      "127.0.0.1 - - [20/Jul/2020 15:28:58] \"\u001b[37mPOST /imgServer HTTP/1.1\u001b[0m\" 200 -\n"
     ]
    },
    {
     "name": "stdout",
     "output_type": "stream",
     "text": [
      "POST\n",
      "test_image_2.jpg\n",
      "(1, 224, 224, 3)\n"
     ]
    }
   ],
   "source": [
    "app = Flask(__name__)\n",
    "\n",
    "@app.route('/imgServer', methods = ['GET', 'POST'])\n",
    "def analysis_img():\n",
    "    data = {\"success\": False}\n",
    "    if request.method == 'POST':\n",
    "        print('POST')\n",
    "        file = request.files['file']\n",
    "        file = secure_filename(file.filename)\n",
    "        print(file)\n",
    "        \n",
    "        sea_img = image.load_img(\n",
    "            file, target_size = (224, 224)\n",
    "        )\n",
    "        \n",
    "        trans_img = image.img_to_array(sea_img)\n",
    "        trans_img = np.expand_dims(trans_img, axis = 0)\n",
    "        trans_img = preprocess_input(trans_img)\n",
    "        print(trans_img.shape)\n",
    "        \n",
    "        # tensorflow 세션을 열고 자동으로 닫아주는 역할\n",
    "        with graph.as_default():\n",
    "            pred = resModel.predict(trans_img)\n",
    "            \n",
    "        label = decode_predictions(pred)\n",
    "        data[\"predictions\"] = []\n",
    "        \n",
    "        for (imageNetID, label, prob) in label[0]:\n",
    "            r = {\n",
    "                \"label\": label, \n",
    "                \"probability\": float(prob)\n",
    "            }\n",
    "            data[\"predictions\"].append(r)\n",
    "            \n",
    "        data[\"success\"] = True\n",
    "        \n",
    "    return jsonify(data)\n",
    "\n",
    "if __name__ == \"__main__\":\n",
    "    load_model()\n",
    "    app.run()"
   ]
  },
  {
   "cell_type": "code",
   "execution_count": null,
   "metadata": {},
   "outputs": [],
   "source": []
  }
 ],
 "metadata": {
  "kernelspec": {
   "display_name": "Python 3",
   "language": "python",
   "name": "python3"
  },
  "language_info": {
   "codemirror_mode": {
    "name": "ipython",
    "version": 3
   },
   "file_extension": ".py",
   "mimetype": "text/x-python",
   "name": "python",
   "nbconvert_exporter": "python",
   "pygments_lexer": "ipython3",
   "version": "3.7.6"
  }
 },
 "nbformat": 4,
 "nbformat_minor": 4
}
