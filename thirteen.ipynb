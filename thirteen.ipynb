{
 "cells": [
  {
   "cell_type": "code",
   "execution_count": null,
   "metadata": {},
   "outputs": [],
   "source": []
  },
  {
   "cell_type": "code",
   "execution_count": 2,
   "metadata": {},
   "outputs": [],
   "source": [
    "import numpy as np"
   ]
  },
  {
   "cell_type": "code",
   "execution_count": 3,
   "metadata": {},
   "outputs": [],
   "source": [
    "from keras.callbacks import EarlyStopping"
   ]
  },
  {
   "cell_type": "code",
   "execution_count": 4,
   "metadata": {},
   "outputs": [],
   "source": [
    "from sklearn.datasets import make_classification\n",
    "from sklearn.model_selection import train_test_split"
   ]
  },
  {
   "cell_type": "code",
   "execution_count": 5,
   "metadata": {},
   "outputs": [],
   "source": [
    "X, y = make_classification(\n",
    "    n_samples = 500, n_features = 16, n_classes = 2\n",
    ")\n",
    "\n",
    "X_train, X_test, y_train, y_test = train_test_split(\n",
    "    X, y, test_size = 0.3, random_state = 0\n",
    ")"
   ]
  },
  {
   "cell_type": "code",
   "execution_count": 6,
   "metadata": {},
   "outputs": [
    {
     "name": "stdout",
     "output_type": "stream",
     "text": [
      "5/5 [==============================] - 0s 1ms/step - loss: 0.4116\n",
      "Test Loss = 0.41158467531204224\n"
     ]
    }
   ],
   "source": [
    "model = Sequential()\n",
    "\n",
    "# 뉴럴넷을 구성\n",
    "model.add(Dense(16, activation = 'relu', input_dim = 16))\n",
    "model.add(Dense(8, activation = 'relu'))\n",
    "model.add(Dense(4, activation = 'tanh'))\n",
    "model.add(Dense(1, activation = 'sigmoid'))\n",
    "\n",
    "model.compile(\n",
    "    optimizer = 'sgd',\n",
    "    loss = 'binary_crossentropy'\n",
    ")\n",
    "\n",
    "# EarlyStopping을 사용한다면\n",
    "# Fit을 하기 이전에 어디서 중단할지를 정해줘야 한다.\n",
    "es_callback = EarlyStopping(\n",
    "    # val_loss: 테스트 로스를 감독함\n",
    "    monitor = 'val_loss',\n",
    "    # mode = 'min'은 최소값을 감지함\n",
    "    mode = 'min'\n",
    ")\n",
    "# 콜백이란 ? 이벤트\n",
    "# 몰컴 성공을 위해 필요한 것\n",
    "# 1. 부모님이 주무시고 계셔야한다.\n",
    "# 2. 큰 소리가 나면 안됨\n",
    "# 3. 부모님이 방문을 열고 나오실때\n",
    "#    모니터 끄고 자는척 시전\n",
    "\n",
    "trainRes = model.fit(\n",
    "    X_train, y_train, \n",
    "    validation_data = (X_test, y_test),\n",
    "    epochs = 400,\n",
    "    batch_size = 5,\n",
    "    # 조건이 만족되면 콜백에 의해 fit이 중단되도록 구성한 부분\n",
    "    callbacks = [es_callback],\n",
    "    verbose = 0\n",
    ")\n",
    "\n",
    "print(\"Test Loss =\", model.evaluate(X_test, y_test))"
   ]
  },
  {
   "cell_type": "code",
   "execution_count": 7,
   "metadata": {
    "scrolled": true
   },
   "outputs": [
    {
     "name": "stdout",
     "output_type": "stream",
     "text": [
      "[0.6212721467018127, 0.5480408072471619, 0.49452778697013855, 0.46372750401496887, 0.44226232171058655, 0.43202078342437744, 0.429800420999527, 0.4148562252521515, 0.4129723608493805, 0.41101518273353577, 0.41158464550971985]\n"
     ]
    }
   ],
   "source": [
    "print(trainRes.history['val_loss'])"
   ]
  },
  {
   "cell_type": "code",
   "execution_count": 8,
   "metadata": {},
   "outputs": [
    {
     "name": "stdout",
     "output_type": "stream",
     "text": [
      "[0.6726844310760498, 0.574303388595581, 0.5082738995552063, 0.45857012271881104, 0.42099177837371826, 0.393905371427536, 0.3719388544559479, 0.35698893666267395, 0.3446200489997864, 0.3327411115169525, 0.3228285610675812]\n"
     ]
    }
   ],
   "source": [
    "print(trainRes.history['loss'])"
   ]
  },
  {
   "cell_type": "code",
   "execution_count": 9,
   "metadata": {},
   "outputs": [
    {
     "name": "stdout",
     "output_type": "stream",
     "text": [
      "[0.6212721467018127, 0.5480408072471619, 0.49452778697013855, 0.46372750401496887, 0.44226232171058655, 0.43202078342437744, 0.429800420999527, 0.4148562252521515, 0.4129723608493805, 0.41101518273353577, 0.41158464550971985]\n"
     ]
    }
   ],
   "source": [
    "print(trainRes.history['val_loss'])\n"
   ]
  },
  {
   "cell_type": "code",
   "execution_count": 10,
   "metadata": {},
   "outputs": [],
   "source": [
    "import json"
   ]
  },
  {
   "cell_type": "code",
   "execution_count": 11,
   "metadata": {},
   "outputs": [
    {
     "data": {
      "text/plain": [
       "'{\"loss\": [0.6726844310760498, 0.574303388595581, 0.5082738995552063, 0.45857012271881104, 0.42099177837371826, 0.393905371427536, 0.3719388544559479, 0.35698893666267395, 0.3446200489997864, 0.3327411115169525, 0.3228285610675812], \"val_loss\": [0.6212721467018127, 0.5480408072471619, 0.49452778697013855, 0.46372750401496887, 0.44226232171058655, 0.43202078342437744, 0.429800420999527, 0.4148562252521515, 0.4129723608493805, 0.41101518273353577, 0.41158464550971985]}'"
      ]
     },
     "execution_count": 11,
     "metadata": {},
     "output_type": "execute_result"
    }
   ],
   "source": [
    "pyRes = dict(trainRes.history)\n",
    "json.dumps(pyRes)"
   ]
  },
  {
   "cell_type": "code",
   "execution_count": 12,
   "metadata": {},
   "outputs": [],
   "source": [
    "import requests\n",
    "\n",
    "from flask import Flask, jsonify\n",
    "# pip install flask_restful\n",
    "from flask_restful import Resource, Api, reqparse"
   ]
  },
  {
   "cell_type": "code",
   "execution_count": null,
   "metadata": {},
   "outputs": [
    {
     "name": "stdout",
     "output_type": "stream",
     "text": [
      " * Serving Flask app \"__main__\" (lazy loading)\n",
      " * Environment: production\n",
      "   WARNING: This is a development server. Do not use it in a production deployment.\n",
      "   Use a production WSGI server instead.\n",
      " * Debug mode: off\n"
     ]
    },
    {
     "name": "stderr",
     "output_type": "stream",
     "text": [
      " * Running on http://127.0.0.1:5000/ (Press CTRL+C to quit)\n"
     ]
    }
   ],
   "source": [
    "app = Flask(__name__)\n",
    "api = Api(app)\n",
    "\n",
    "# localhost:8080/dataServer로 요청을 하면\n",
    "# 아래 함수가 동작을 한다는 의미!\n",
    "@app.route('/dataServer')\n",
    "def PythonServerResponse():\n",
    "    print(\"It's operate\")\n",
    "    summary = {'name': 'Hello', 'major': 'C++'}\n",
    "    #pyRes 전송하기 위해 가져오기\n",
    "    pyRes = dict(trainRes.history)\n",
    "    return jsonify(pyRes)\n",
    "\n",
    "app.run()"
   ]
  },
  {
   "cell_type": "code",
   "execution_count": null,
   "metadata": {},
   "outputs": [],
   "source": [
    "# MVC\n",
    "# model 메모리상에 올라가는 정보들 : 변수 객체 및 데이터\n",
    "# controller   url요청에 대한 응답  \n",
    "# 클라이언트 : 서버한테 요청(url요청http8080) -> 응답\n",
    "# view 눈에보이는 것 html \n"
   ]
  },
  {
   "cell_type": "code",
   "execution_count": null,
   "metadata": {},
   "outputs": [],
   "source": [
    "# @SpringBootApplication 1:30:00\n",
    "# 자동으로 스프링 프레임웍을 불러옴 암호 \n",
    "#  main을 돌림 \n",
    "# mvp를 싹 다 연결 시킴\n",
    "\n",
    "# view는 resource(templete)로 연결시킴 \n",
    "\n",
    "# controller 사용자 요청에 대한 분석\n",
    "\n",
    "# maincontroller 8080-> \n",
    "# controller(요청아 들어왔을 때만(=event방식) 정해진 행동지침 수행하게 함/번호표올라간것)\n",
    "# -> getmapping(/여기로감=최상위 위치 루트) \n",
    "# -> 보여주게 index로 넘어가게 함(햄버거 만들어 주게 하라고)\n"
   ]
  },
  {
   "cell_type": "code",
   "execution_count": null,
   "metadata": {},
   "outputs": [],
   "source": [
    "# 네트워크 구성\n",
    "# 로컬에 있을 때는 라우터를 거칠 필요가 없음\n",
    "# remote(=원격)에 있는 경우 접근이 안됨 \n",
    "# 라우터가 요청을 하면 어디로 가야한다 알려줘야하는데 알려 줄 방법이 없기 때문\n",
    "# switch : 로컬망(내부망)\n",
    "# 네트워크가 나눠져 있는 경우  \n",
    "# remote service\n",
    "# 원격 서비스를 제공하기 위해\n",
    "# ip를 호스팅해주는 업체 \n",
    "# 로컬망(내부망) 에서 외부망과 통신할 려면 공인IP가 필요 -> 호스티업체한테 구매\n",
    "# IP를 naver.com으로 바꿔주는 것이 라우터, DNS\n",
    "# 외부망을 팔려면 라우터, DNS, 공인 IP를 등록해야함 "
   ]
  },
  {
   "cell_type": "code",
   "execution_count": null,
   "metadata": {},
   "outputs": [],
   "source": [
    "# beckend에서 keras하려면 좋은 정보들로 해야함 -> 하드웨어 센서정보(java는 안됨 \n",
    "# java-> native interface로 하드웨어 정보 긁어올 수 있음)"
   ]
  },
  {
   "cell_type": "code",
   "execution_count": null,
   "metadata": {},
   "outputs": [],
   "source": [
    "# 1:30:00"
   ]
  },
  {
   "cell_type": "code",
   "execution_count": null,
   "metadata": {},
   "outputs": [],
   "source": [
    "# 헬로스프링. 헬로 씨 씨언어 연동하기위해 (자바. 씨언어 2개)\n",
    "# 이름규칙\n",
    "# 실제 사용한 부분 Demo\n",
    "# 문법상 확인 hellospring의 native -> 동영상서비스에 사용, 직접적인 하드웨어 센서정보 불러오고 싶을 때\n",
    "# -> 자바 버전 9 부터 불러오는 것이 수월해짐\n",
    "# hello.c 에서 라이브러리 갖고오는 것\n",
    "# 메모리 섹션\n",
    "# 고랭써서 동영상 스트리밍 ~~~~~~~~~~~ !!!!"
   ]
  },
  {
   "cell_type": "code",
   "execution_count": null,
   "metadata": {},
   "outputs": [],
   "source": [
    "int[] score = new int[5];\n",
    "score[3] = 100;\n",
    "\n",
    "sout (\"score\"+score[3]);\n",
    "int value = score[3]"
   ]
  },
  {
   "cell_type": "code",
   "execution_count": null,
   "metadata": {},
   "outputs": [],
   "source": []
  }
 ],
 "metadata": {
  "kernelspec": {
   "display_name": "Python 3",
   "language": "python",
   "name": "python3"
  },
  "language_info": {
   "codemirror_mode": {
    "name": "ipython",
    "version": 3
   },
   "file_extension": ".py",
   "mimetype": "text/x-python",
   "name": "python",
   "nbconvert_exporter": "python",
   "pygments_lexer": "ipython3",
   "version": "3.7.6"
  }
 },
 "nbformat": 4,
 "nbformat_minor": 4
}
