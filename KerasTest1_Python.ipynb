{
 "cells": [
  {
   "cell_type": "code",
   "execution_count": 1,
   "metadata": {},
   "outputs": [],
   "source": [
    "import matplotlib.pyplot as plt\n",
    "import matplotlib\n",
    "\n",
    "import numpy as np"
   ]
  },
  {
   "cell_type": "code",
   "execution_count": 2,
   "metadata": {},
   "outputs": [],
   "source": [
    "import matplotlib.patches as mpatches\n",
    "\n",
    "from sklearn.datasets import make_blobs, make_circles"
   ]
  },
  {
   "cell_type": "code",
   "execution_count": 3,
   "metadata": {},
   "outputs": [],
   "source": [
    "def plot_data(pl, X, y):\n",
    "  \n",
    "    pl.plot(X[y == 0, 0], X[y == 0, 1], 'ob', alpha = 0.5)\n",
    "    pl.plot(X[y == 1, 0], X[y == 1, 1], 'xr', alpha = 0.5)\n",
    "    pl.legend(['0', '1'])\n",
    "   \n",
    "\n",
    "    return pl\n"
   ]
  },
  {
   "cell_type": "code",
   "execution_count": 4,
   "metadata": {},
   "outputs": [],
   "source": [
    "X, y = make_circles(\n",
    "    n_samples = 400, \n",
    "    factor = 0.6, \n",
    "    noise = 0.1, \n",
    "    random_state = 42\n",
    ")"
   ]
  },
  {
   "cell_type": "code",
   "execution_count": 5,
   "metadata": {},
   "outputs": [],
   "source": [
    "seed=1\n",
    "\n",
    "from keras.layers import Dense, Activation\n",
    "from keras.models import Sequential\n",
    "\n",
    "np.random.seed(seed)\n",
    "\n",
    "model = Sequential()"
   ]
  },
  {
   "cell_type": "code",
   "execution_count": 6,
   "metadata": {},
   "outputs": [
    {
     "name": "stdout",
     "output_type": "stream",
     "text": [
      "Epoch 1/100\n",
      "80/80 [==============================] - 0s 689us/step - loss: 0.7036\n",
      "Epoch 2/100\n",
      "80/80 [==============================] - 0s 672us/step - loss: 0.7016\n",
      "Epoch 3/100\n",
      "80/80 [==============================] - 0s 626us/step - loss: 0.7016\n",
      "Epoch 4/100\n",
      "80/80 [==============================] - 0s 712us/step - loss: 0.7000\n",
      "Epoch 5/100\n",
      "80/80 [==============================] - 0s 959us/step - loss: 0.6987\n",
      "Epoch 6/100\n",
      "80/80 [==============================] - 0s 1ms/step - loss: 0.6962\n",
      "Epoch 7/100\n",
      "80/80 [==============================] - 0s 1ms/step - loss: 0.6957\n",
      "Epoch 8/100\n",
      "80/80 [==============================] - 0s 2ms/step - loss: 0.6931\n",
      "Epoch 9/100\n",
      "80/80 [==============================] - 0s 2ms/step - loss: 0.6892\n",
      "Epoch 10/100\n",
      "80/80 [==============================] - 0s 2ms/step - loss: 0.6853\n",
      "Epoch 11/100\n",
      "80/80 [==============================] - 0s 1ms/step - loss: 0.6785\n",
      "Epoch 12/100\n",
      "80/80 [==============================] - 0s 674us/step - loss: 0.6711\n",
      "Epoch 13/100\n",
      "80/80 [==============================] - 0s 680us/step - loss: 0.6647\n",
      "Epoch 14/100\n",
      "80/80 [==============================] - 0s 730us/step - loss: 0.6528\n",
      "Epoch 15/100\n",
      "80/80 [==============================] - 0s 716us/step - loss: 0.6488\n",
      "Epoch 16/100\n",
      "80/80 [==============================] - 0s 725us/step - loss: 0.6357\n",
      "Epoch 17/100\n",
      "80/80 [==============================] - 0s 739us/step - loss: 0.6224\n",
      "Epoch 18/100\n",
      "80/80 [==============================] - 0s 849us/step - loss: 0.6065\n",
      "Epoch 19/100\n",
      "80/80 [==============================] - 0s 1ms/step - loss: 0.5860\n",
      "Epoch 20/100\n",
      "80/80 [==============================] - 0s 1ms/step - loss: 0.5612\n",
      "Epoch 21/100\n",
      "80/80 [==============================] - 0s 2ms/step - loss: 0.5317\n",
      "Epoch 22/100\n",
      "80/80 [==============================] - 0s 2ms/step - loss: 0.4917\n",
      "Epoch 23/100\n",
      "80/80 [==============================] - 0s 2ms/step - loss: 0.4504\n",
      "Epoch 24/100\n",
      "80/80 [==============================] - 0s 1ms/step - loss: 0.4072\n",
      "Epoch 25/100\n",
      "80/80 [==============================] - 0s 648us/step - loss: 0.3611\n",
      "Epoch 26/100\n",
      "80/80 [==============================] - 0s 713us/step - loss: 0.3195\n",
      "Epoch 27/100\n",
      "80/80 [==============================] - 0s 916us/step - loss: 0.2829\n",
      "Epoch 28/100\n",
      "80/80 [==============================] - 0s 996us/step - loss: 0.2391\n",
      "Epoch 29/100\n",
      "80/80 [==============================] - 0s 1ms/step - loss: 0.2120\n",
      "Epoch 30/100\n",
      "80/80 [==============================] - 0s 1ms/step - loss: 0.1870\n",
      "Epoch 31/100\n",
      "80/80 [==============================] - 0s 1ms/step - loss: 0.1693\n",
      "Epoch 32/100\n",
      "80/80 [==============================] - 0s 1ms/step - loss: 0.1554\n",
      "Epoch 33/100\n",
      "80/80 [==============================] - 0s 1ms/step - loss: 0.1418\n",
      "Epoch 34/100\n",
      "80/80 [==============================] - 0s 1ms/step - loss: 0.1382\n",
      "Epoch 35/100\n",
      "80/80 [==============================] - 0s 1ms/step - loss: 0.1373\n",
      "Epoch 36/100\n",
      "80/80 [==============================] - 0s 1ms/step - loss: 0.1267\n",
      "Epoch 37/100\n",
      "80/80 [==============================] - 0s 1ms/step - loss: 0.1170\n",
      "Epoch 38/100\n",
      "80/80 [==============================] - 0s 1ms/step - loss: 0.1128\n",
      "Epoch 39/100\n",
      "80/80 [==============================] - 0s 1ms/step - loss: 0.0987\n",
      "Epoch 40/100\n",
      "80/80 [==============================] - 0s 1ms/step - loss: 0.1120\n",
      "Epoch 41/100\n",
      "80/80 [==============================] - 0s 1ms/step - loss: 0.0997\n",
      "Epoch 42/100\n",
      "80/80 [==============================] - 0s 1ms/step - loss: 0.1205\n",
      "Epoch 43/100\n",
      "80/80 [==============================] - 0s 1ms/step - loss: 0.1392\n",
      "Epoch 44/100\n",
      "80/80 [==============================] - 0s 1ms/step - loss: 0.1124\n",
      "Epoch 45/100\n",
      "80/80 [==============================] - 0s 1ms/step - loss: 0.1069\n",
      "Epoch 46/100\n",
      "80/80 [==============================] - 0s 1ms/step - loss: 0.1240\n",
      "Epoch 47/100\n",
      "80/80 [==============================] - 0s 1ms/step - loss: 0.0731\n",
      "Epoch 48/100\n",
      "80/80 [==============================] - 0s 1ms/step - loss: 0.0917\n",
      "Epoch 49/100\n",
      "80/80 [==============================] - 0s 1ms/step - loss: 0.1151\n",
      "Epoch 50/100\n",
      "80/80 [==============================] - 0s 1ms/step - loss: 0.1263\n",
      "Epoch 51/100\n",
      "80/80 [==============================] - 0s 1ms/step - loss: 0.1062\n",
      "Epoch 52/100\n",
      "80/80 [==============================] - 0s 1ms/step - loss: 0.0896\n",
      "Epoch 53/100\n",
      "80/80 [==============================] - 0s 1ms/step - loss: 0.1214\n",
      "Epoch 54/100\n",
      "80/80 [==============================] - 0s 1ms/step - loss: 0.1238\n",
      "Epoch 55/100\n",
      "80/80 [==============================] - 0s 1ms/step - loss: 0.1285\n",
      "Epoch 56/100\n",
      "80/80 [==============================] - 0s 827us/step - loss: 0.1430\n",
      "Epoch 57/100\n",
      "80/80 [==============================] - 0s 899us/step - loss: 0.1098\n",
      "Epoch 58/100\n",
      "80/80 [==============================] - 0s 908us/step - loss: 0.1004\n",
      "Epoch 59/100\n",
      "80/80 [==============================] - 0s 1ms/step - loss: 0.1082\n",
      "Epoch 60/100\n",
      "80/80 [==============================] - 0s 1ms/step - loss: 0.1103\n",
      "Epoch 61/100\n",
      "80/80 [==============================] - 0s 1ms/step - loss: 0.0970\n",
      "Epoch 62/100\n",
      "80/80 [==============================] - 0s 1ms/step - loss: 0.0875\n",
      "Epoch 63/100\n",
      "80/80 [==============================] - 0s 1ms/step - loss: 0.1195\n",
      "Epoch 64/100\n",
      "80/80 [==============================] - 0s 1ms/step - loss: 0.1032\n",
      "Epoch 65/100\n",
      "80/80 [==============================] - 0s 610us/step - loss: 0.0857\n",
      "Epoch 66/100\n",
      "80/80 [==============================] - 0s 675us/step - loss: 0.0903\n",
      "Epoch 67/100\n",
      "80/80 [==============================] - 0s 663us/step - loss: 0.1075\n",
      "Epoch 68/100\n",
      "80/80 [==============================] - 0s 623us/step - loss: 0.1326\n",
      "Epoch 69/100\n",
      "80/80 [==============================] - 0s 633us/step - loss: 0.1407\n",
      "Epoch 70/100\n",
      "80/80 [==============================] - 0s 704us/step - loss: 0.1174\n",
      "Epoch 71/100\n",
      "80/80 [==============================] - 0s 611us/step - loss: 0.0826\n",
      "Epoch 72/100\n",
      "80/80 [==============================] - 0s 622us/step - loss: 0.0818\n",
      "Epoch 73/100\n",
      "80/80 [==============================] - 0s 644us/step - loss: 0.1139\n",
      "Epoch 74/100\n",
      "80/80 [==============================] - 0s 672us/step - loss: 0.1303\n",
      "Epoch 75/100\n",
      "80/80 [==============================] - 0s 736us/step - loss: 0.0926\n",
      "Epoch 76/100\n",
      "80/80 [==============================] - 0s 761us/step - loss: 0.1074\n",
      "Epoch 77/100\n",
      "80/80 [==============================] - 0s 851us/step - loss: 0.0848\n",
      "Epoch 78/100\n",
      "80/80 [==============================] - 0s 951us/step - loss: 0.0790\n",
      "Epoch 79/100\n",
      "80/80 [==============================] - 0s 993us/step - loss: 0.1325\n",
      "Epoch 80/100\n",
      "80/80 [==============================] - 0s 973us/step - loss: 0.0902\n",
      "Epoch 81/100\n",
      "80/80 [==============================] - 0s 939us/step - loss: 0.1040\n",
      "Epoch 82/100\n",
      "80/80 [==============================] - 0s 914us/step - loss: 0.0897\n",
      "Epoch 83/100\n",
      "80/80 [==============================] - 0s 960us/step - loss: 0.0948\n",
      "Epoch 84/100\n",
      "80/80 [==============================] - 0s 920us/step - loss: 0.0936\n",
      "Epoch 85/100\n",
      "80/80 [==============================] - 0s 938us/step - loss: 0.1449\n",
      "Epoch 86/100\n",
      "80/80 [==============================] - 0s 936us/step - loss: 0.1055\n",
      "Epoch 87/100\n",
      "80/80 [==============================] - 0s 936us/step - loss: 0.1014\n",
      "Epoch 88/100\n",
      "80/80 [==============================] - 0s 963us/step - loss: 0.1133\n",
      "Epoch 89/100\n",
      "80/80 [==============================] - 0s 936us/step - loss: 0.1060\n",
      "Epoch 90/100\n",
      "80/80 [==============================] - 0s 987us/step - loss: 0.0881\n",
      "Epoch 91/100\n",
      "80/80 [==============================] - 0s 1ms/step - loss: 0.0912\n",
      "Epoch 92/100\n",
      "80/80 [==============================] - 0s 1ms/step - loss: 0.0915\n",
      "Epoch 93/100\n",
      "80/80 [==============================] - 0s 1ms/step - loss: 0.0738\n",
      "Epoch 94/100\n",
      "80/80 [==============================] - 0s 751us/step - loss: 0.0742\n",
      "Epoch 95/100\n",
      "80/80 [==============================] - 0s 676us/step - loss: 0.1151\n",
      "Epoch 96/100\n",
      "80/80 [==============================] - 0s 2ms/step - loss: 0.0851\n",
      "Epoch 97/100\n",
      "80/80 [==============================] - 0s 3ms/step - loss: 0.1043\n",
      "Epoch 98/100\n",
      "80/80 [==============================] - 0s 3ms/step - loss: 0.0768\n",
      "Epoch 99/100\n",
      "80/80 [==============================] - 0s 3ms/step - loss: 0.0812\n",
      "Epoch 100/100\n",
      "80/80 [==============================] - 0s 3ms/step - loss: 0.0858\n"
     ]
    }
   ],
   "source": [
    "model.add(Dense(256, activation = 'tanh', input_dim = 2))\n",
    "model.add(Dense(128, activation = 'tanh'))\n",
    "model.add(Dense(64, activation = 'tanh'))\n",
    "model.add(Dense(32, activation = 'tanh'))\n",
    "model.add(Dense(16, activation = 'tanh'))\n",
    "model.add(Dense(8, activation = 'tanh'))\n",
    "model.add(Dense(1, activation = 'sigmoid'))\n",
    "\n",
    "model.compile(optimizer = 'sgd', loss = 'binary_crossentropy')\n",
    "\n",
    "history=model.fit(X, y, batch_size = 5, epochs = 100, verbose = 1)"
   ]
  },
  {
   "cell_type": "code",
   "execution_count": 7,
   "metadata": {},
   "outputs": [],
   "source": [
    "loss = history.history['loss']\n",
    "loss = np.mean(loss)"
   ]
  },
  {
   "cell_type": "code",
   "execution_count": 8,
   "metadata": {},
   "outputs": [],
   "source": [
    "def plot_decision_bound(model, X, y):\n",
    "    amin, bmin = X.min(axis = 0) - 0.1\n",
    "    amax, bmax = X.max(axis = 0) + 0.1\n",
    "    \n",
    "    hticks = np.linspace(amin, amax, 101)\n",
    "    vticks = np.linspace(bmin, bmax, 101)\n",
    "    \n",
    "    aa, bb = np.meshgrid(hticks, vticks)\n",
    "    ab = np.c_[aa.ravel(), bb.ravel()]\n",
    "    \n",
    "    c = model.predict(ab)\n",
    "    Z = c.reshape(aa.shape)\n",
    "    \n",
    "    plt.contourf(aa, bb, Z, cmap = 'bwr', alpha = 0.2)\n",
    "    plot_data(plt, X, y)\n",
    "    \n",
    "    return plt "
   ]
  },
  {
   "cell_type": "code",
   "execution_count": 9,
   "metadata": {},
   "outputs": [
    {
     "data": {
      "text/plain": [
       "Text(0.5, 1.0, 'Logistic Regression')"
      ]
     },
     "execution_count": 9,
     "metadata": {},
     "output_type": "execute_result"
    },
    {
     "data": {
      "image/png": "[encoded data removed]",
      "text/plain": [
       "<Figure size 432x288 with 1 Axes>"
      ]
     },
     "metadata": {
      "needs_background": "light"
     },
     "output_type": "display_data"
    }
   ],
   "source": [
    "plot_decision_bound(model, X, y)\n",
    "plt.title(\"Logistic Regression\")"
   ]
  },
  {
   "cell_type": "code",
   "execution_count": 10,
   "metadata": {},
   "outputs": [],
   "source": [
    "from flask import Flask, jsonify\n",
    "\n",
    "import requests\n",
    "import json"
   ]
  },
  {
   "cell_type": "code",
   "execution_count": 11,
   "metadata": {},
   "outputs": [],
   "source": [
    "from flask_restful import Resource, Api, reqparse"
   ]
  },
  {
   "cell_type": "code",
   "execution_count": null,
   "metadata": {},
   "outputs": [
    {
     "name": "stdout",
     "output_type": "stream",
     "text": [
      " * Serving Flask app \"__main__\" (lazy loading)\n",
      " * Environment: production\n",
      "   WARNING: This is a development server. Do not use it in a production deployment.\n",
      "   Use a production WSGI server instead.\n",
      " * Debug mode: off\n"
     ]
    },
    {
     "name": "stderr",
     "output_type": "stream",
     "text": [
      " * Running on http://127.0.0.1:5000/ (Press CTRL+C to quit)\n"
     ]
    }
   ],
   "source": [
    "app = Flask(__name__)\n",
    "api = Api(app)\n",
    "# localhost:8080/dataServer로 요청을 하면\n",
    "# 아래 함수가 동작을 한다는 의미!\n",
    "@app.route('/dataServer')\n",
    "def PythonServerResponse():\n",
    "    print(\"It's operate\")\n",
    "    summary = {\n",
    "        'loss':loss\n",
    "    }\n",
    "    return jsonify(summary)\n",
    "app.run()"
   ]
  },
  {
   "cell_type": "code",
   "execution_count": null,
   "metadata": {},
   "outputs": [],
   "source": [
    "localhost:8080/dataServ"
   ]
  },
  {
   "cell_type": "code",
   "execution_count": null,
   "metadata": {},
   "outputs": [],
   "source": []
  },
  {
   "cell_type": "code",
   "execution_count": null,
   "metadata": {},
   "outputs": [],
   "source": []
  }
 ],
 "metadata": {
  "kernelspec": {
   "display_name": "Python 3",
   "language": "python",
   "name": "python3"
  },
  "language_info": {
   "codemirror_mode": {
    "name": "ipython",
    "version": 3
   },
   "file_extension": ".py",
   "mimetype": "text/x-python",
   "name": "python",
   "nbconvert_exporter": "python",
   "pygments_lexer": "ipython3",
   "version": "3.7.6"
  }
 },
 "nbformat": 4,
 "nbformat_minor": 4
}
