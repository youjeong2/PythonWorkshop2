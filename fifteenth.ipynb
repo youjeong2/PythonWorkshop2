{
 "cells": [
  {
   "cell_type": "code",
   "execution_count": 1,
   "metadata": {},
   "outputs": [],
   "source": [
    "# 이 챕터는 다시 설명"
   ]
  },
  {
   "cell_type": "code",
   "execution_count": 2,
   "metadata": {},
   "outputs": [],
   "source": [
    "import cv2"
   ]
  },
  {
   "cell_type": "code",
   "execution_count": 3,
   "metadata": {},
   "outputs": [
    {
     "name": "stdout",
     "output_type": "stream",
     "text": [
      "Requirement already satisfied: opencv-python in /home/bitai/.local/lib/python3.7/site-packages (4.3.0.36)\r\n",
      "Requirement already satisfied: numpy>=1.14.5 in /home/bitai/anaconda3/lib/python3.7/site-packages (from opencv-python) (1.18.1)\r\n"
     ]
    }
   ],
   "source": [
    "!pip install opencv-python"
   ]
  },
  {
   "cell_type": "code",
   "execution_count": 4,
   "metadata": {},
   "outputs": [
    {
     "name": "stdout",
     "output_type": "stream",
     "text": [
      "Found existing installation: opencv-python 4.3.0.36\n",
      "Uninstalling opencv-python-4.3.0.36:\n",
      "  Would remove:\n",
      "    /home/bitai/.local/lib/python3.7/site-packages/cv2/*\n",
      "    /home/bitai/.local/lib/python3.7/site-packages/opencv_python-4.3.0.36.dist-info/*\n",
      "    /home/bitai/.local/lib/python3.7/site-packages/opencv_python.libs/libQtCore-6b7bca35.so.4.8.7\n",
      "    /home/bitai/.local/lib/python3.7/site-packages/opencv_python.libs/libQtGui-a00f4bbc.so.4.8.7\n",
      "    /home/bitai/.local/lib/python3.7/site-packages/opencv_python.libs/libQtTest-6d3ddc1c.so.4.8.7\n",
      "    /home/bitai/.local/lib/python3.7/site-packages/opencv_python.libs/libXcursor-1a09904e.so.1.0.2\n",
      "    /home/bitai/.local/lib/python3.7/site-packages/opencv_python.libs/libXfixes-d274cb03.so.3.1.0\n",
      "    /home/bitai/.local/lib/python3.7/site-packages/opencv_python.libs/libXi-e28fba09.so.6.1.0\n",
      "    /home/bitai/.local/lib/python3.7/site-packages/opencv_python.libs/libXinerama-b7a62e01.so.1.0.0\n",
      "    /home/bitai/.local/lib/python3.7/site-packages/opencv_python.libs/libXrandr-1b5fae8f.so.2.2.0\n",
      "    /home/bitai/.local/lib/python3.7/site-packages/opencv_python.libs/libavcodec-681a2255.so.58.93.100\n",
      "    /home/bitai/.local/lib/python3.7/site-packages/opencv_python.libs/libavformat-fed7ce93.so.58.47.100\n",
      "    /home/bitai/.local/lib/python3.7/site-packages/opencv_python.libs/libavutil-bedca4f8.so.56.55.100\n",
      "    /home/bitai/.local/lib/python3.7/site-packages/opencv_python.libs/libbz2-a273e504.so.1.0.6\n",
      "    /home/bitai/.local/lib/python3.7/site-packages/opencv_python.libs/libcrypto-d542f53a.so.1.1\n",
      "    /home/bitai/.local/lib/python3.7/site-packages/opencv_python.libs/libexpat-3e0b9453.so.1.6.0\n",
      "    /home/bitai/.local/lib/python3.7/site-packages/opencv_python.libs/libfontconfig-42c558d2.so.1.11.1\n",
      "    /home/bitai/.local/lib/python3.7/site-packages/opencv_python.libs/libfreetype-8d3bcff4.so.6.14.0\n",
      "    /home/bitai/.local/lib/python3.7/site-packages/opencv_python.libs/libpng15-c2ffaf3d.so.15.13.0\n",
      "    /home/bitai/.local/lib/python3.7/site-packages/opencv_python.libs/libssl-5dfca392.so.1.1\n",
      "    /home/bitai/.local/lib/python3.7/site-packages/opencv_python.libs/libswresample-e69eb03e.so.3.8.100\n",
      "    /home/bitai/.local/lib/python3.7/site-packages/opencv_python.libs/libswscale-59c13675.so.5.8.100\n",
      "    /home/bitai/.local/lib/python3.7/site-packages/opencv_python.libs/libuuid-506df98b.so.1.3.0\n",
      "    /home/bitai/.local/lib/python3.7/site-packages/opencv_python.libs/libvpx-8ed2f57e.so.6.2.0\n",
      "    /home/bitai/.local/lib/python3.7/site-packages/opencv_python.libs/libz-d8a329de.so.1.2.7\n",
      "Proceed (y/n)? ^C\n",
      "\u001b[31mERROR: Operation cancelled by user\u001b[0m\n"
     ]
    }
   ],
   "source": [
    "!pip uninstall opencv-python"
   ]
  },
  {
   "cell_type": "code",
   "execution_count": 5,
   "metadata": {},
   "outputs": [
    {
     "name": "stdout",
     "output_type": "stream",
     "text": [
      "4.3.0\n"
     ]
    }
   ],
   "source": [
    "print(cv2.__version__)"
   ]
  },
  {
   "cell_type": "code",
   "execution_count": 6,
   "metadata": {},
   "outputs": [],
   "source": [
    "import numpy as np"
   ]
  },
  {
   "cell_type": "code",
   "execution_count": 7,
   "metadata": {},
   "outputs": [
    {
     "name": "stdout",
     "output_type": "stream",
     "text": [
      "[[9 6 5 6 8 5 0]\n",
      " [8 0 2 7 0 9 0]\n",
      " [3 8 6 3 8 0 6]\n",
      " [6 0 8 7 5 1 3]\n",
      " [6 5 3 3 5 5 8]\n",
      " [4 6 0 0 7 5 3]\n",
      " [1 1 6 8 3 2 1]]\n"
     ]
    }
   ],
   "source": [
    "img = np.random.randint(0, 10, (7, 7))\n",
    "print(img)"
   ]
  },
  {
   "cell_type": "code",
   "execution_count": 8,
   "metadata": {},
   "outputs": [
    {
     "name": "stdout",
     "output_type": "stream",
     "text": [
      "[[1. 1. 1. 1. 1. 1. 1.]\n",
      " [1. 1. 1. 1. 1. 1. 1.]\n",
      " [1. 1. 1. 1. 1. 1. 1.]\n",
      " [1. 1. 1. 1. 1. 1. 1.]\n",
      " [1. 1. 1. 1. 1. 1. 1.]\n",
      " [1. 1. 1. 1. 1. 1. 1.]\n",
      " [1. 1. 1. 1. 1. 1. 1.]]\n"
     ]
    }
   ],
   "source": [
    "img_np= np.ones([7,7])\n",
    "\n",
    "print(img_np)"
   ]
  },
  {
   "cell_type": "code",
   "execution_count": 9,
   "metadata": {},
   "outputs": [
    {
     "name": "stdout",
     "output_type": "stream",
     "text": [
      "[-1  0  1]\n"
     ]
    }
   ],
   "source": [
    "kernel = np.array([-1, 0, 1])\n",
    "print(kernel)"
   ]
  },
  {
   "cell_type": "code",
   "execution_count": 10,
   "metadata": {},
   "outputs": [
    {
     "name": "stdout",
     "output_type": "stream",
     "text": [
      "<class 'numpy.ndarray'>\n",
      "<class 'numpy.ndarray'>\n"
     ]
    }
   ],
   "source": [
    "print(type(kernel))\n",
    "print(type(img_np))"
   ]
  },
  {
   "cell_type": "code",
   "execution_count": 11,
   "metadata": {},
   "outputs": [
    {
     "name": "stdout",
     "output_type": "stream",
     "text": [
      "[[1. 1. 1. 1. 1. 1. 1.]\n",
      " [1. 1. 1. 1. 1. 1. 1.]\n",
      " [1. 1. 1. 1. 1. 1. 1.]\n",
      " [1. 1. 1. 1. 1. 1. 1.]\n",
      " [1. 1. 1. 1. 1. 1. 1.]\n",
      " [1. 1. 1. 1. 1. 1. 1.]\n",
      " [1. 1. 1. 1. 1. 1. 1.]]\n"
     ]
    }
   ],
   "source": [
    "img_cv = cv2.resize(img_np,(7,7))\n",
    "print(img_cv)"
   ]
  },
  {
   "cell_type": "code",
   "execution_count": 12,
   "metadata": {},
   "outputs": [
    {
     "name": "stdout",
     "output_type": "stream",
     "text": [
      "[[-1]\n",
      " [ 0]\n",
      " [ 1]]\n"
     ]
    }
   ],
   "source": [
    "kernel = cv2.resize(kernel, (1, 3))\n",
    "\n",
    "print(kernel)"
   ]
  },
  {
   "cell_type": "code",
   "execution_count": 13,
   "metadata": {},
   "outputs": [
    {
     "name": "stdout",
     "output_type": "stream",
     "text": [
      "<class 'numpy.ndarray'>\n",
      "<class 'numpy.ndarray'>\n"
     ]
    }
   ],
   "source": [
    "print(type(img_cv))\n",
    "print(type(kernel))\n",
    "# 편하게 이미지 연산할 수 있게함"
   ]
  },
  {
   "cell_type": "code",
   "execution_count": 14,
   "metadata": {},
   "outputs": [
    {
     "name": "stdout",
     "output_type": "stream",
     "text": [
      "[[0. 0. 0. 0. 0. 0. 0.]\n",
      " [0. 0. 0. 0. 0. 0. 0.]\n",
      " [0. 0. 0. 0. 0. 0. 0.]\n",
      " [0. 0. 0. 0. 0. 0. 0.]\n",
      " [0. 0. 0. 0. 0. 0. 0.]\n",
      " [0. 0. 0. 0. 0. 0. 0.]\n",
      " [0. 0. 0. 0. 0. 0. 0.]]\n"
     ]
    }
   ],
   "source": [
    "conv_test = cv2. filter2D(img_cv, -1, kernel)\n",
    "\n",
    "print(conv_test)"
   ]
  },
  {
   "cell_type": "code",
   "execution_count": 15,
   "metadata": {},
   "outputs": [
    {
     "name": "stdout",
     "output_type": "stream",
     "text": [
      "[[-1]\n",
      " [ 0]\n",
      " [ 1]]\n"
     ]
    }
   ],
   "source": [
    "print(kernel)"
   ]
  },
  {
   "cell_type": "code",
   "execution_count": 16,
   "metadata": {},
   "outputs": [
    {
     "name": "stdout",
     "output_type": "stream",
     "text": [
      "[[1. 1. 1. 1. 1. 1. 1.]\n",
      " [1. 1. 1. 1. 1. 1. 1.]\n",
      " [1. 1. 1. 1. 1. 1. 1.]\n",
      " [1. 1. 1. 1. 1. 1. 1.]\n",
      " [1. 1. 1. 1. 1. 1. 1.]\n",
      " [1. 1. 1. 1. 1. 1. 1.]\n",
      " [1. 1. 1. 1. 1. 1. 1.]]\n"
     ]
    }
   ],
   "source": [
    "print(img_cv)\n",
    "# 0의 자리를 계산하려고 할 때\n",
    "# 먼저 그 뒤의 1을"
   ]
  },
  {
   "cell_type": "code",
   "execution_count": 17,
   "metadata": {},
   "outputs": [
    {
     "name": "stdout",
     "output_type": "stream",
     "text": [
      "[[ 0.  0.  0.  0.  0.  0.  0.]\n",
      " [ 1.  0.  0.  0.  0.  0.  0.]\n",
      " [ 0.  0.  0.  1.  0.  0.  0.]\n",
      " [ 0.  0.  0.  0.  0.  0.  0.]\n",
      " [ 0.  0.  0. -1.  0.  0.  0.]\n",
      " [ 0.  0.  0.  0.  0.  0.  2.]\n",
      " [ 0.  0.  0.  0.  0.  0.  0.]]\n"
     ]
    }
   ],
   "source": [
    "img_cv[0][0] = 0\n",
    "img_cv[3][3] = 2\n",
    "img_cv[6][6] = 3\n",
    "\n",
    "# filter2D - Con\n",
    "conv_test = cv2.filter2D(img_cv, -1, kernel)\n",
    "\n",
    "print(conv_test)"
   ]
  },
  {
   "cell_type": "code",
   "execution_count": 18,
   "metadata": {},
   "outputs": [],
   "source": [
    "# p262 \n",
    "# convolution WIKI 검색\n",
    "# 라플라스 트랜스폼 : 0 부터 무한대 까지 적분하는데, f(x) 에  e^ 한 것\n",
    "# 라플라스 트랜스폼은 0부터 무한대 까지 적분해서 구간만 바뀌고 개념 비슷 s 도메인\n",
    "# 프리에트렌스폼 : 일반 도매인\n",
    "# 컨벌루션할 때 위 2이 중요한 이유 \n",
    "# filter2D가 하는 일: 걸러내는 일\n",
    "# 컨벌루션하면 왜 걸러질까?\n",
    "# 프리에트랜스폼 : 스펙트럼분석을 한다는 것 -> 주파수가 나온다는 것 -> 신호파형이라면 해당주파수의 신호보여줌\n",
    "# 프리에트랜스폼과 컨벌루션이 관계를 가짐 \n",
    "# 라플라스 : 필터자체를 설계\n",
    "# 필터링하면서 컨벌루션"
   ]
  },
  {
   "cell_type": "code",
   "execution_count": 19,
   "metadata": {},
   "outputs": [],
   "source": [
    "# 라플라스 변환 => 전달 함수를 얻기 위해 계산함\n",
    "# 입력 대 출력비를 구하겠다.\n",
    "# 입력이 10, 출력이 7, 입출력비: 7/10\n",
    "# 입력이 y'' = y' + 3y + 2\n",
    "# 출력이 y' = 3e^3x => y = e^3x\n",
    "# 라플라스 변환 통해 입출력비를 계산할 수 있게 된다.\n",
    "# integral 0 ~ inf f(t)e^-st dt\n",
    "\n",
    "# Low Pass Filter(LPF 설계법) - 1D Convolution\n",
    "# 전달함수 -> 실제 값을 필터링 하는 방법"
   ]
  },
  {
   "cell_type": "code",
   "execution_count": 20,
   "metadata": {},
   "outputs": [],
   "source": [
    "from keras.models import Sequential\n",
    "from keras.layers import Conv2D, MaxPool2D, Flatten, Dense"
   ]
  },
  {
   "cell_type": "code",
   "execution_count": 21,
   "metadata": {},
   "outputs": [],
   "source": [
    "classifier = Sequential()\n",
    "classifier.add(\n",
    "    Conv2D(\n",
    "        32, (3, 3), \n",
    "        input_shape = (64, 64, 3), \n",
    "        activation = 'relu'\n",
    "    )\n",
    ")\n",
    "classifier.add(MaxPool2D(pool_size = (2, 2)))\n",
    "classifier.add(Flatten())"
   ]
  },
  {
   "cell_type": "code",
   "execution_count": 22,
   "metadata": {},
   "outputs": [],
   "source": [
    "# 텐서연산\n",
    "classifier.add(\n",
    "    Dense(128, activation = 'relu')\n",
    ")\n",
    "classifier.add(\n",
    "    Dense(128, activation = 'relu')\n",
    ")\n",
    "classifier.add(\n",
    "    Dense(128, activation = 'relu')\n",
    ")\n",
    "classifier.add(\n",
    "    Dense(128, activation = 'relu')\n",
    ")\n",
    "classifier.add(\n",
    "    Dense(64, activation = 'relu')\n",
    ")\n",
    "classifier.add(\n",
    "    Dense(32, activation = 'relu')\n",
    ")\n",
    "classifier.add(\n",
    "    Dense(16, activation = 'relu')\n",
    ")\n",
    "classifier.add(\n",
    "    Dense(1, activation = 'sigmoid')\n",
    ")\n",
    "\n",
    "classifier.compile(\n",
    "    optimizer = 'adam',\n",
    "    loss = 'binary_crossentropy',\n",
    "    metrics = ['accuracy']\n",
    ")"
   ]
  },
  {
   "cell_type": "code",
   "execution_count": 23,
   "metadata": {},
   "outputs": [
    {
     "name": "stdout",
     "output_type": "stream",
     "text": [
      "Model: \"sequential\"\n",
      "_________________________________________________________________\n",
      "Layer (type)                 Output Shape              Param #   \n",
      "=================================================================\n",
      "conv2d (Conv2D)              (None, 62, 62, 32)        896       \n",
      "_________________________________________________________________\n",
      "max_pooling2d (MaxPooling2D) (None, 31, 31, 32)        0         \n",
      "_________________________________________________________________\n",
      "flatten (Flatten)            (None, 30752)             0         \n",
      "_________________________________________________________________\n",
      "dense (Dense)                (None, 128)               3936384   \n",
      "_________________________________________________________________\n",
      "dense_1 (Dense)              (None, 128)               16512     \n",
      "_________________________________________________________________\n",
      "dense_2 (Dense)              (None, 128)               16512     \n",
      "_________________________________________________________________\n",
      "dense_3 (Dense)              (None, 128)               16512     \n",
      "_________________________________________________________________\n",
      "dense_4 (Dense)              (None, 64)                8256      \n",
      "_________________________________________________________________\n",
      "dense_5 (Dense)              (None, 32)                2080      \n",
      "_________________________________________________________________\n",
      "dense_6 (Dense)              (None, 16)                528       \n",
      "_________________________________________________________________\n",
      "dense_7 (Dense)              (None, 1)                 17        \n",
      "=================================================================\n",
      "Total params: 3,997,697\n",
      "Trainable params: 3,997,697\n",
      "Non-trainable params: 0\n",
      "_________________________________________________________________\n"
     ]
    }
   ],
   "source": [
    "classifier.summary()"
   ]
  },
  {
   "cell_type": "code",
   "execution_count": 24,
   "metadata": {},
   "outputs": [],
   "source": [
    "from keras.preprocessing.image import ImageDataGenerator\n",
    "\n",
    "train_gen = ImageDataGenerator(\n",
    "    rescale = 1.0 / 255,\n",
    "    shear_range = 0.2,\n",
    "    zoom_range = 0.2,\n",
    "    horizontal_flip = True\n",
    ")\n",
    "\n",
    "train_gen = ImageDataGenerator(rescale = 1.0 / 255)"
   ]
  },
  {
   "cell_type": "code",
   "execution_count": 25,
   "metadata": {},
   "outputs": [],
   "source": [
    "# 테스트 데이터 만들기"
   ]
  },
  {
   "cell_type": "code",
   "execution_count": 26,
   "metadata": {},
   "outputs": [
    {
     "name": "stdout",
     "output_type": "stream",
     "text": [
      "Lesson01  Lesson03  Lesson05  Lesson07\tLesson09  README.md\r\n",
      "Lesson02  Lesson04  Lesson06  Lesson08\tLICENSE\r\n"
     ]
    }
   ],
   "source": [
    "!ls Applied-Deep-Learning-with-Keras"
   ]
  },
  {
   "cell_type": "code",
   "execution_count": 27,
   "metadata": {},
   "outputs": [
    {
     "name": "stdout",
     "output_type": "stream",
     "text": [
      "Activity13.ipynb  Datasets\t    Exercise20.ipynb  Exercise22.ipynb\r\n",
      "Activity14.ipynb  Exercise19.ipynb  Exercise21.ipynb\r\n"
     ]
    }
   ],
   "source": [
    "!ls Applied-Deep-Learning-with-Keras/Lesson07"
   ]
  },
  {
   "cell_type": "code",
   "execution_count": 28,
   "metadata": {},
   "outputs": [
    {
     "name": "stdout",
     "output_type": "stream",
     "text": [
      "test_set  training_set\r\n"
     ]
    }
   ],
   "source": [
    "!ls Applied-Deep-Learning-with-Keras/Lesson07/Datasets/dataset"
   ]
  },
  {
   "cell_type": "code",
   "execution_count": 29,
   "metadata": {},
   "outputs": [
    {
     "name": "stdout",
     "output_type": "stream",
     "text": [
      "cats  dogs\r\n"
     ]
    }
   ],
   "source": [
    "!ls Applied-Deep-Learning-with-Keras/Lesson07/Datasets/dataset/test_set\n"
   ]
  },
  {
   "cell_type": "code",
   "execution_count": 30,
   "metadata": {},
   "outputs": [
    {
     "name": "stdout",
     "output_type": "stream",
     "text": [
      "cats  dogs\r\n"
     ]
    }
   ],
   "source": [
    "!ls Applied-Deep-Learning-with-Keras/Lesson07/Datasets/dataset/training_set"
   ]
  },
  {
   "cell_type": "code",
   "execution_count": 31,
   "metadata": {},
   "outputs": [
    {
     "name": "stdout",
     "output_type": "stream",
     "text": [
      "Found 20000 images belonging to 2 classes.\n",
      "Found 5000 images belonging to 2 classes.\n"
     ]
    }
   ],
   "source": [
    "# 64로 맞추는 이유 : 네트워크, 이미지를 64로 맞췄기 때문\n",
    "trainSet = train_gen.flow_from_directory(\n",
    "    'Applied-Deep-Learning-with-Keras/Lesson07/' +\n",
    "    'Datasets/dataset/training_set',\n",
    "    target_size = (64, 64),\n",
    "    batch_size = 32,\n",
    "    class_mode = 'binary'\n",
    ")\n",
    "testSet = train_gen.flow_from_directory(\n",
    "    'Applied-Deep-Learning-with-Keras/Lesson07/' +\n",
    "    'Datasets/dataset/test_set',\n",
    "    target_size = (64, 64),\n",
    "    batch_size = 32,\n",
    "    class_mode = 'binary'\n",
    ")"
   ]
  },
  {
   "cell_type": "code",
   "execution_count": 32,
   "metadata": {},
   "outputs": [
    {
     "name": "stdout",
     "output_type": "stream",
     "text": [
      "WARNING:tensorflow:From <ipython-input-32-f49ba0cd5701>:9: Model.fit_generator (from tensorflow.python.keras.engine.training) is deprecated and will be removed in a future version.\n",
      "Instructions for updating:\n",
      "Please use Model.fit, which supports generators.\n",
      "Epoch 1/100\n",
      " 53/100 [==============>...............] - ETA: 2s - loss: 0.7012 - accuracy: 0.4988"
     ]
    },
    {
     "name": "stderr",
     "output_type": "stream",
     "text": [
      "/home/bitai/anaconda3/lib/python3.7/site-packages/PIL/TiffImagePlugin.py:770: UserWarning: Possibly corrupt EXIF data.  Expecting to read 32 bytes but only got 0. Skipping tag 270\n",
      "  \" Skipping tag %s\" % (size, len(data), tag)\n",
      "/home/bitai/anaconda3/lib/python3.7/site-packages/PIL/TiffImagePlugin.py:770: UserWarning: Possibly corrupt EXIF data.  Expecting to read 5 bytes but only got 0. Skipping tag 271\n",
      "  \" Skipping tag %s\" % (size, len(data), tag)\n",
      "/home/bitai/anaconda3/lib/python3.7/site-packages/PIL/TiffImagePlugin.py:770: UserWarning: Possibly corrupt EXIF data.  Expecting to read 8 bytes but only got 0. Skipping tag 272\n",
      "  \" Skipping tag %s\" % (size, len(data), tag)\n",
      "/home/bitai/anaconda3/lib/python3.7/site-packages/PIL/TiffImagePlugin.py:770: UserWarning: Possibly corrupt EXIF data.  Expecting to read 8 bytes but only got 0. Skipping tag 282\n",
      "  \" Skipping tag %s\" % (size, len(data), tag)\n",
      "/home/bitai/anaconda3/lib/python3.7/site-packages/PIL/TiffImagePlugin.py:770: UserWarning: Possibly corrupt EXIF data.  Expecting to read 8 bytes but only got 0. Skipping tag 283\n",
      "  \" Skipping tag %s\" % (size, len(data), tag)\n",
      "/home/bitai/anaconda3/lib/python3.7/site-packages/PIL/TiffImagePlugin.py:770: UserWarning: Possibly corrupt EXIF data.  Expecting to read 20 bytes but only got 0. Skipping tag 306\n",
      "  \" Skipping tag %s\" % (size, len(data), tag)\n",
      "/home/bitai/anaconda3/lib/python3.7/site-packages/PIL/TiffImagePlugin.py:770: UserWarning: Possibly corrupt EXIF data.  Expecting to read 48 bytes but only got 0. Skipping tag 532\n",
      "  \" Skipping tag %s\" % (size, len(data), tag)\n",
      "/home/bitai/anaconda3/lib/python3.7/site-packages/PIL/TiffImagePlugin.py:788: UserWarning: Corrupt EXIF data.  Expecting to read 2 bytes but only got 0. \n",
      "  warnings.warn(str(msg))\n"
     ]
    },
    {
     "name": "stdout",
     "output_type": "stream",
     "text": [
      "100/100 [==============================] - 8s 80ms/step - loss: 0.6880 - accuracy: 0.5372 - val_loss: 0.6850 - val_accuracy: 0.5537\n",
      "Epoch 2/100\n",
      "100/100 [==============================] - 8s 77ms/step - loss: 0.6472 - accuracy: 0.6206 - val_loss: 0.6005 - val_accuracy: 0.6775\n",
      "Epoch 3/100\n",
      "100/100 [==============================] - 8s 76ms/step - loss: 0.5853 - accuracy: 0.6850 - val_loss: 0.5979 - val_accuracy: 0.6812\n",
      "Epoch 4/100\n",
      "100/100 [==============================] - 8s 77ms/step - loss: 0.5591 - accuracy: 0.7212 - val_loss: 0.5821 - val_accuracy: 0.6900\n",
      "Epoch 5/100\n",
      "100/100 [==============================] - 8s 77ms/step - loss: 0.5467 - accuracy: 0.7166 - val_loss: 0.5954 - val_accuracy: 0.7225\n",
      "Epoch 6/100\n",
      "100/100 [==============================] - 8s 77ms/step - loss: 0.5199 - accuracy: 0.7403 - val_loss: 0.5625 - val_accuracy: 0.7287\n",
      "Epoch 7/100\n",
      "100/100 [==============================] - 8s 77ms/step - loss: 0.5068 - accuracy: 0.7656 - val_loss: 0.5721 - val_accuracy: 0.7225\n",
      "Epoch 8/100\n",
      "100/100 [==============================] - 8s 78ms/step - loss: 0.4762 - accuracy: 0.7778 - val_loss: 0.5698 - val_accuracy: 0.7262\n",
      "Epoch 9/100\n",
      "100/100 [==============================] - 8s 79ms/step - loss: 0.4536 - accuracy: 0.7844 - val_loss: 0.4767 - val_accuracy: 0.7725\n",
      "Epoch 10/100\n",
      "100/100 [==============================] - 8s 78ms/step - loss: 0.4351 - accuracy: 0.7991 - val_loss: 0.5836 - val_accuracy: 0.7075\n",
      "Epoch 11/100\n",
      "100/100 [==============================] - 8s 78ms/step - loss: 0.4396 - accuracy: 0.7997 - val_loss: 0.5337 - val_accuracy: 0.7150\n",
      "Epoch 12/100\n",
      "100/100 [==============================] - 8s 79ms/step - loss: 0.4146 - accuracy: 0.8091 - val_loss: 0.5980 - val_accuracy: 0.7237\n",
      "Epoch 13/100\n",
      "100/100 [==============================] - 8s 79ms/step - loss: 0.4040 - accuracy: 0.8197 - val_loss: 0.5683 - val_accuracy: 0.7300\n",
      "Epoch 14/100\n",
      "100/100 [==============================] - 8s 78ms/step - loss: 0.3972 - accuracy: 0.8247 - val_loss: 0.5330 - val_accuracy: 0.7638\n",
      "Epoch 15/100\n",
      "100/100 [==============================] - 8s 78ms/step - loss: 0.3722 - accuracy: 0.8363 - val_loss: 0.5903 - val_accuracy: 0.7462\n",
      "Epoch 16/100\n",
      "100/100 [==============================] - 8s 79ms/step - loss: 0.3504 - accuracy: 0.8500 - val_loss: 0.5794 - val_accuracy: 0.7500\n",
      "Epoch 17/100\n",
      "100/100 [==============================] - 8s 78ms/step - loss: 0.3313 - accuracy: 0.8678 - val_loss: 0.5697 - val_accuracy: 0.7125\n",
      "Epoch 18/100\n",
      "100/100 [==============================] - 8s 78ms/step - loss: 0.3237 - accuracy: 0.8666 - val_loss: 0.5129 - val_accuracy: 0.7550\n",
      "Epoch 19/100\n",
      "100/100 [==============================] - 8s 79ms/step - loss: 0.2931 - accuracy: 0.8797 - val_loss: 0.6315 - val_accuracy: 0.7475\n",
      "Epoch 20/100\n",
      "100/100 [==============================] - 8s 78ms/step - loss: 0.2881 - accuracy: 0.8834 - val_loss: 0.6794 - val_accuracy: 0.7063\n",
      "Epoch 21/100\n",
      "100/100 [==============================] - 8s 77ms/step - loss: 0.2617 - accuracy: 0.8931 - val_loss: 0.6390 - val_accuracy: 0.7400\n",
      "Epoch 22/100\n",
      "100/100 [==============================] - 8s 78ms/step - loss: 0.2588 - accuracy: 0.8941 - val_loss: 0.8620 - val_accuracy: 0.6975\n",
      "Epoch 23/100\n",
      "100/100 [==============================] - 8s 77ms/step - loss: 0.2507 - accuracy: 0.9062 - val_loss: 0.6812 - val_accuracy: 0.7362\n",
      "Epoch 24/100\n",
      "100/100 [==============================] - 8s 76ms/step - loss: 0.2213 - accuracy: 0.9184 - val_loss: 0.6406 - val_accuracy: 0.7713\n",
      "Epoch 25/100\n",
      "100/100 [==============================] - 8s 76ms/step - loss: 0.2110 - accuracy: 0.9234 - val_loss: 0.6525 - val_accuracy: 0.7375\n",
      "Epoch 26/100\n",
      "100/100 [==============================] - 8s 77ms/step - loss: 0.2026 - accuracy: 0.9275 - val_loss: 0.7469 - val_accuracy: 0.7337\n",
      "Epoch 27/100\n",
      "100/100 [==============================] - 8s 77ms/step - loss: 0.1832 - accuracy: 0.9381 - val_loss: 0.8284 - val_accuracy: 0.7287\n",
      "Epoch 28/100\n",
      "100/100 [==============================] - 8s 78ms/step - loss: 0.1625 - accuracy: 0.9422 - val_loss: 0.8359 - val_accuracy: 0.7125\n",
      "Epoch 29/100\n",
      "100/100 [==============================] - 8s 77ms/step - loss: 0.1522 - accuracy: 0.9447 - val_loss: 0.8615 - val_accuracy: 0.7437\n",
      "Epoch 30/100\n",
      "100/100 [==============================] - 8s 78ms/step - loss: 0.1506 - accuracy: 0.9466 - val_loss: 0.8126 - val_accuracy: 0.7350\n",
      "Epoch 31/100\n",
      "100/100 [==============================] - 8s 79ms/step - loss: 0.1460 - accuracy: 0.9459 - val_loss: 0.8485 - val_accuracy: 0.7400\n",
      "Epoch 32/100\n",
      "100/100 [==============================] - 8s 77ms/step - loss: 0.1365 - accuracy: 0.9534 - val_loss: 0.6723 - val_accuracy: 0.7763\n",
      "Epoch 33/100\n",
      "100/100 [==============================] - 8s 78ms/step - loss: 0.1163 - accuracy: 0.9588 - val_loss: 0.9635 - val_accuracy: 0.7275\n",
      "Epoch 34/100\n",
      "100/100 [==============================] - 8s 78ms/step - loss: 0.1123 - accuracy: 0.9597 - val_loss: 1.0432 - val_accuracy: 0.7475\n",
      "Epoch 35/100\n",
      "100/100 [==============================] - 8s 79ms/step - loss: 0.1051 - accuracy: 0.9638 - val_loss: 0.8756 - val_accuracy: 0.7750\n",
      "Epoch 36/100\n",
      "100/100 [==============================] - 8s 79ms/step - loss: 0.0932 - accuracy: 0.9641 - val_loss: 1.0685 - val_accuracy: 0.7013\n",
      "Epoch 37/100\n",
      "100/100 [==============================] - 8s 78ms/step - loss: 0.1048 - accuracy: 0.9641 - val_loss: 0.9256 - val_accuracy: 0.7437\n",
      "Epoch 38/100\n",
      "100/100 [==============================] - 8s 77ms/step - loss: 0.0857 - accuracy: 0.9728 - val_loss: 0.8717 - val_accuracy: 0.7588\n",
      "Epoch 39/100\n",
      "100/100 [==============================] - 8s 77ms/step - loss: 0.0799 - accuracy: 0.9747 - val_loss: 0.9776 - val_accuracy: 0.7375\n",
      "Epoch 40/100\n",
      "100/100 [==============================] - 8s 77ms/step - loss: 0.0676 - accuracy: 0.9803 - val_loss: 0.9346 - val_accuracy: 0.7475\n",
      "Epoch 41/100\n",
      "100/100 [==============================] - 8s 77ms/step - loss: 0.0771 - accuracy: 0.9750 - val_loss: 0.8965 - val_accuracy: 0.7300\n",
      "Epoch 42/100\n",
      "100/100 [==============================] - 8s 78ms/step - loss: 0.0822 - accuracy: 0.9688 - val_loss: 0.8737 - val_accuracy: 0.7400\n",
      "Epoch 43/100\n",
      "100/100 [==============================] - 8s 78ms/step - loss: 0.0489 - accuracy: 0.9847 - val_loss: 1.0804 - val_accuracy: 0.7125\n",
      "Epoch 44/100\n",
      "100/100 [==============================] - 8s 77ms/step - loss: 0.0735 - accuracy: 0.9766 - val_loss: 0.9320 - val_accuracy: 0.7200\n",
      "Epoch 45/100\n",
      "100/100 [==============================] - 8s 77ms/step - loss: 0.0702 - accuracy: 0.9747 - val_loss: 1.0872 - val_accuracy: 0.7412\n",
      "Epoch 46/100\n",
      "100/100 [==============================] - 8s 77ms/step - loss: 0.0623 - accuracy: 0.9787 - val_loss: 1.2764 - val_accuracy: 0.7500\n",
      "Epoch 47/100\n",
      "100/100 [==============================] - 8s 77ms/step - loss: 0.0607 - accuracy: 0.9753 - val_loss: 1.3180 - val_accuracy: 0.7400\n",
      "Epoch 48/100\n",
      "100/100 [==============================] - 8s 77ms/step - loss: 0.0533 - accuracy: 0.9800 - val_loss: 1.2130 - val_accuracy: 0.7163\n",
      "Epoch 49/100\n",
      "100/100 [==============================] - 8s 77ms/step - loss: 0.0528 - accuracy: 0.9850 - val_loss: 0.8380 - val_accuracy: 0.7625\n",
      "Epoch 50/100\n",
      "100/100 [==============================] - 8s 77ms/step - loss: 0.0433 - accuracy: 0.9853 - val_loss: 1.1442 - val_accuracy: 0.7538\n",
      "Epoch 51/100\n",
      "100/100 [==============================] - 8s 78ms/step - loss: 0.0465 - accuracy: 0.9866 - val_loss: 1.1411 - val_accuracy: 0.7613\n",
      "Epoch 52/100\n",
      "100/100 [==============================] - 8s 77ms/step - loss: 0.0494 - accuracy: 0.9825 - val_loss: 1.3421 - val_accuracy: 0.7387\n",
      "Epoch 53/100\n",
      "100/100 [==============================] - 8s 78ms/step - loss: 0.0383 - accuracy: 0.9878 - val_loss: 1.2989 - val_accuracy: 0.7525\n",
      "Epoch 54/100\n",
      "100/100 [==============================] - 8s 79ms/step - loss: 0.0481 - accuracy: 0.9853 - val_loss: 1.1574 - val_accuracy: 0.7525\n",
      "Epoch 55/100\n",
      "100/100 [==============================] - 8s 77ms/step - loss: 0.0424 - accuracy: 0.9897 - val_loss: 1.2221 - val_accuracy: 0.7075\n",
      "Epoch 56/100\n",
      "100/100 [==============================] - 8s 78ms/step - loss: 0.0321 - accuracy: 0.9875 - val_loss: 1.2853 - val_accuracy: 0.7437\n",
      "Epoch 57/100\n"
     ]
    },
    {
     "name": "stdout",
     "output_type": "stream",
     "text": [
      "100/100 [==============================] - 8s 78ms/step - loss: 0.0341 - accuracy: 0.9887 - val_loss: 1.4290 - val_accuracy: 0.7312\n",
      "Epoch 58/100\n",
      "100/100 [==============================] - 8s 77ms/step - loss: 0.0423 - accuracy: 0.9869 - val_loss: 1.2494 - val_accuracy: 0.7200\n",
      "Epoch 59/100\n",
      "100/100 [==============================] - 8s 77ms/step - loss: 0.0322 - accuracy: 0.9862 - val_loss: 1.2214 - val_accuracy: 0.7487\n",
      "Epoch 60/100\n",
      "100/100 [==============================] - 8s 76ms/step - loss: 0.0334 - accuracy: 0.9891 - val_loss: 1.0972 - val_accuracy: 0.7287\n",
      "Epoch 61/100\n",
      "100/100 [==============================] - 8s 76ms/step - loss: 0.0295 - accuracy: 0.9894 - val_loss: 2.0163 - val_accuracy: 0.7425\n",
      "Epoch 62/100\n",
      "100/100 [==============================] - 8s 77ms/step - loss: 0.0417 - accuracy: 0.9869 - val_loss: 0.8718 - val_accuracy: 0.7575\n",
      "Epoch 63/100\n",
      "100/100 [==============================] - 8s 78ms/step - loss: 0.0376 - accuracy: 0.9866 - val_loss: 1.6419 - val_accuracy: 0.7113\n",
      "Epoch 64/100\n",
      "100/100 [==============================] - 8s 77ms/step - loss: 0.0360 - accuracy: 0.9894 - val_loss: 1.8694 - val_accuracy: 0.7113\n",
      "Epoch 65/100\n",
      "100/100 [==============================] - 8s 77ms/step - loss: 0.0335 - accuracy: 0.9869 - val_loss: 1.3404 - val_accuracy: 0.7412\n",
      "Epoch 66/100\n",
      "100/100 [==============================] - 8s 77ms/step - loss: 0.0412 - accuracy: 0.9862 - val_loss: 1.4937 - val_accuracy: 0.7325\n",
      "Epoch 67/100\n",
      "100/100 [==============================] - 8s 78ms/step - loss: 0.0345 - accuracy: 0.9912 - val_loss: 1.1316 - val_accuracy: 0.7450\n",
      "Epoch 68/100\n",
      "100/100 [==============================] - 8s 77ms/step - loss: 0.0223 - accuracy: 0.9944 - val_loss: 1.8846 - val_accuracy: 0.7362\n",
      "Epoch 69/100\n",
      "100/100 [==============================] - 8s 77ms/step - loss: 0.0361 - accuracy: 0.9894 - val_loss: 1.3194 - val_accuracy: 0.7575\n",
      "Epoch 70/100\n",
      "100/100 [==============================] - 8s 78ms/step - loss: 0.0350 - accuracy: 0.9891 - val_loss: 1.2142 - val_accuracy: 0.7437\n",
      "Epoch 71/100\n",
      "100/100 [==============================] - 8s 76ms/step - loss: 0.0268 - accuracy: 0.9925 - val_loss: 1.1588 - val_accuracy: 0.7337\n",
      "Epoch 72/100\n",
      "100/100 [==============================] - 8s 76ms/step - loss: 0.0178 - accuracy: 0.9950 - val_loss: 1.7553 - val_accuracy: 0.7563\n",
      "Epoch 73/100\n",
      "100/100 [==============================] - 8s 77ms/step - loss: 0.0316 - accuracy: 0.9884 - val_loss: 1.3941 - val_accuracy: 0.7337\n",
      "Epoch 74/100\n",
      "100/100 [==============================] - 8s 76ms/step - loss: 0.0124 - accuracy: 0.9953 - val_loss: 2.1587 - val_accuracy: 0.7212\n",
      "Epoch 75/100\n",
      "100/100 [==============================] - 8s 77ms/step - loss: 0.0436 - accuracy: 0.9872 - val_loss: 1.6083 - val_accuracy: 0.7250\n",
      "Epoch 76/100\n",
      "100/100 [==============================] - 8s 77ms/step - loss: 0.0283 - accuracy: 0.9912 - val_loss: 1.7260 - val_accuracy: 0.7300\n",
      "Epoch 77/100\n",
      "100/100 [==============================] - 8s 77ms/step - loss: 0.0320 - accuracy: 0.9912 - val_loss: 1.9457 - val_accuracy: 0.7188\n",
      "Epoch 78/100\n",
      "100/100 [==============================] - 8s 75ms/step - loss: 0.0320 - accuracy: 0.9925 - val_loss: 1.7146 - val_accuracy: 0.7063\n",
      "Epoch 79/100\n",
      "100/100 [==============================] - 8s 77ms/step - loss: 0.0336 - accuracy: 0.9909 - val_loss: 1.7114 - val_accuracy: 0.7163\n",
      "Epoch 80/100\n",
      "100/100 [==============================] - 8s 76ms/step - loss: 0.0202 - accuracy: 0.9934 - val_loss: 1.6633 - val_accuracy: 0.6900\n",
      "Epoch 81/100\n",
      "100/100 [==============================] - 8s 76ms/step - loss: 0.0409 - accuracy: 0.9862 - val_loss: 1.5473 - val_accuracy: 0.7487\n",
      "Epoch 82/100\n",
      "100/100 [==============================] - 8s 77ms/step - loss: 0.0265 - accuracy: 0.9916 - val_loss: 1.7898 - val_accuracy: 0.7275\n",
      "Epoch 83/100\n",
      "100/100 [==============================] - 8s 76ms/step - loss: 0.0251 - accuracy: 0.9934 - val_loss: 1.4539 - val_accuracy: 0.7175\n",
      "Epoch 84/100\n",
      "100/100 [==============================] - 8s 76ms/step - loss: 0.0200 - accuracy: 0.9928 - val_loss: 1.4848 - val_accuracy: 0.7387\n",
      "Epoch 85/100\n",
      "100/100 [==============================] - 8s 77ms/step - loss: 0.0355 - accuracy: 0.9947 - val_loss: 1.8157 - val_accuracy: 0.7088\n",
      "Epoch 86/100\n",
      "100/100 [==============================] - 8s 76ms/step - loss: 0.0311 - accuracy: 0.9900 - val_loss: 1.6113 - val_accuracy: 0.7262\n",
      "Epoch 87/100\n",
      "100/100 [==============================] - 8s 76ms/step - loss: 0.0324 - accuracy: 0.9900 - val_loss: 1.7268 - val_accuracy: 0.7375\n",
      "Epoch 88/100\n",
      "100/100 [==============================] - 8s 77ms/step - loss: 0.0129 - accuracy: 0.9941 - val_loss: 1.6422 - val_accuracy: 0.7387\n",
      "Epoch 89/100\n",
      "100/100 [==============================] - 8s 76ms/step - loss: 0.0156 - accuracy: 0.9947 - val_loss: 1.8025 - val_accuracy: 0.7412\n",
      "Epoch 90/100\n",
      "100/100 [==============================] - 8s 76ms/step - loss: 0.0145 - accuracy: 0.9966 - val_loss: 1.4066 - val_accuracy: 0.7462\n",
      "Epoch 91/100\n",
      "100/100 [==============================] - 8s 77ms/step - loss: 0.0231 - accuracy: 0.9897 - val_loss: 1.6140 - val_accuracy: 0.7175\n",
      "Epoch 92/100\n",
      "100/100 [==============================] - 8s 76ms/step - loss: 0.0265 - accuracy: 0.9925 - val_loss: 1.6413 - val_accuracy: 0.7350\n",
      "Epoch 93/100\n",
      "100/100 [==============================] - 8s 76ms/step - loss: 0.0115 - accuracy: 0.9969 - val_loss: 2.0602 - val_accuracy: 0.7362\n",
      "Epoch 94/100\n",
      "100/100 [==============================] - 8s 77ms/step - loss: 0.0195 - accuracy: 0.9934 - val_loss: 1.1395 - val_accuracy: 0.7638\n",
      "Epoch 95/100\n",
      "100/100 [==============================] - 8s 76ms/step - loss: 0.0157 - accuracy: 0.9956 - val_loss: 1.8698 - val_accuracy: 0.7337\n",
      "Epoch 96/100\n",
      "100/100 [==============================] - 8s 77ms/step - loss: 0.0086 - accuracy: 0.9966 - val_loss: 2.4356 - val_accuracy: 0.7425\n",
      "Epoch 97/100\n",
      "100/100 [==============================] - 8s 76ms/step - loss: 0.0250 - accuracy: 0.9906 - val_loss: 1.5308 - val_accuracy: 0.7400\n",
      "Epoch 98/100\n",
      "100/100 [==============================] - 8s 76ms/step - loss: 0.0078 - accuracy: 0.9969 - val_loss: 1.7264 - val_accuracy: 0.7575\n",
      "Epoch 99/100\n",
      "100/100 [==============================] - 8s 75ms/step - loss: 0.0191 - accuracy: 0.9962 - val_loss: 1.4831 - val_accuracy: 0.7462\n",
      "Epoch 100/100\n",
      "100/100 [==============================] - 8s 75ms/step - loss: 0.0127 - accuracy: 0.9962 - val_loss: 1.9037 - val_accuracy: 0.7225\n"
     ]
    },
    {
     "data": {
      "text/plain": [
       "<tensorflow.python.keras.callbacks.History at 0x7f42ec342b10>"
      ]
     },
     "execution_count": 32,
     "metadata": {},
     "output_type": "execute_result"
    }
   ],
   "source": [
    "# fitting -> 컨벌루션(라플라스 푸리에를 고려할 수 있는 형태로)\n",
    "batch_size = 100\n",
    "\n",
    "classifier.fit_generator(\n",
    "    trainSet,\n",
    "    steps_per_epoch = int(10000/batch_size),\n",
    "    epochs = 100,\n",
    "    validation_data = testSet,\n",
    "    validation_steps = int(2500/batch_size)\n",
    ")"
   ]
  },
  {
   "cell_type": "code",
   "execution_count": 33,
   "metadata": {},
   "outputs": [],
   "source": [
    "# p261"
   ]
  },
  {
   "cell_type": "code",
   "execution_count": 34,
   "metadata": {},
   "outputs": [],
   "source": [
    "import numpy as np\n",
    "\n",
    "from keras.preprocessing import image"
   ]
  },
  {
   "cell_type": "code",
   "execution_count": 35,
   "metadata": {},
   "outputs": [],
   "source": [
    "new_image = image.load_img(\n",
    "    'test_image_2.jpg',\n",
    "    target_size = (64, 64)\n",
    ")"
   ]
  },
  {
   "cell_type": "code",
   "execution_count": 36,
   "metadata": {},
   "outputs": [
    {
     "name": "stdout",
     "output_type": "stream",
     "text": [
      "Cat\n"
     ]
    }
   ],
   "source": [
    "new_image = image.img_to_array(new_image)\n",
    "new_image = np.expand_dims(new_image, axis = 0)\n",
    "\n",
    "result = classifier.predict(new_image)\n",
    "#trainSet.class_indices\n",
    "\n",
    "if result[0][0] == 1:\n",
    "    prediction = 'Dog'\n",
    "else:\n",
    "    prediction = 'Cat'\n",
    "    \n",
    "print(prediction)"
   ]
  },
  {
   "cell_type": "code",
   "execution_count": null,
   "metadata": {},
   "outputs": [],
   "source": [
    "# Convolution이 너무 많으면 특징을 더 복잡하게 잡아서\n",
    "# 결과가 안좋게 나올 수 있음 "
   ]
  }
 ],
 "metadata": {
  "kernelspec": {
   "display_name": "Python 3",
   "language": "python",
   "name": "python3"
  },
  "language_info": {
   "codemirror_mode": {
    "name": "ipython",
    "version": 3
   },
   "file_extension": ".py",
   "mimetype": "text/x-python",
   "name": "python",
   "nbconvert_exporter": "python",
   "pygments_lexer": "ipython3",
   "version": "3.7.6"
  }
 },
 "nbformat": 4,
 "nbformat_minor": 4
}
