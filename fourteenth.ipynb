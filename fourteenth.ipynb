{
 "cells": [
  {
   "cell_type": "code",
   "execution_count": 1,
   "metadata": {},
   "outputs": [],
   "source": [
    "# p230 \n",
    "# 혼동행렬(TN,FP,FN,TP)을 핸들링을 잘해야 불균형데이터세트를 잘 만들 수 있음"
   ]
  },
  {
   "cell_type": "code",
   "execution_count": 2,
   "metadata": {},
   "outputs": [],
   "source": [
    "import numpy as np\n",
    "import pandas as pd"
   ]
  },
  {
   "cell_type": "code",
   "execution_count": 3,
   "metadata": {},
   "outputs": [
    {
     "name": "stdout",
     "output_type": "stream",
     "text": [
      "Lesson01  Lesson03  Lesson05  Lesson07\tLesson09  README.md\r\n",
      "Lesson02  Lesson04  Lesson06  Lesson08\tLICENSE\r\n"
     ]
    }
   ],
   "source": [
    "# 데이터 불러오기 , 정리하기\n",
    "!ls Applied-Deep-Learning-with-Keras"
   ]
  },
  {
   "cell_type": "code",
   "execution_count": 4,
   "metadata": {},
   "outputs": [
    {
     "name": "stdout",
     "output_type": "stream",
     "text": [
      "Flu.csv  Health_Data.csv\r\n"
     ]
    }
   ],
   "source": [
    "!ls Applied-Deep-Learning-with-Keras/Lesson06/data"
   ]
  },
  {
   "cell_type": "code",
   "execution_count": 5,
   "metadata": {},
   "outputs": [
    {
     "name": "stdout",
     "output_type": "stream",
     "text": [
      "Patient_id,Age,Admission_type,PreExistingDisease,PreviousSurgery,Gender,Smoker,Homeless,DaysinHospital,Readmitted\r\n",
      "1,33,Urgent,Y,0,M,1,0,1,0\r\n",
      "2,34,Emergency,N,0,M,1,0,22,0\r\n",
      "3,88,Trauma,Y,1,M,1,1,100,1\r\n",
      "4,56,Elective,Y,0,M,1,0,2,0\r\n",
      "5,45,Trauma,Y,0,M,1,0,34,0\r\n",
      "6,23,Elective,N,0,M,0,0,123,0\r\n",
      "7,67,Elective,N,0,M,0,0,23,0\r\n",
      "8,55,Elective,N,0,M,1,0,123,1\r\n",
      "9,77,Trauma,N,0,F,1,0,44,0\r\n"
     ]
    }
   ],
   "source": [
    "!head Applied-Deep-Learning-with-Keras/Lesson06/data/Health_Data.csv"
   ]
  },
  {
   "cell_type": "code",
   "execution_count": 6,
   "metadata": {},
   "outputs": [],
   "source": [
    "patient_data = pd.read_csv(\n",
    " \"Applied-Deep-Learning-with-Keras/\" +\n",
    "    \"Lesson06/data/Health_Data.csv\"\n",
    ")"
   ]
  },
  {
   "cell_type": "code",
   "execution_count": 7,
   "metadata": {},
   "outputs": [
    {
     "data": {
      "text/html": [
       "<div>\n",
       "<style scoped>\n",
       "    .dataframe tbody tr th:only-of-type {\n",
       "        vertical-align: middle;\n",
       "    }\n",
       "\n",
       "    .dataframe tbody tr th {\n",
       "        vertical-align: top;\n",
       "    }\n",
       "\n",
       "    .dataframe thead th {\n",
       "        text-align: right;\n",
       "    }\n",
       "</style>\n",
       "<table border=\"1\" class=\"dataframe\">\n",
       "  <thead>\n",
       "    <tr style=\"text-align: right;\">\n",
       "      <th></th>\n",
       "      <th>Patient_id</th>\n",
       "      <th>Age</th>\n",
       "      <th>Admission_type</th>\n",
       "      <th>PreExistingDisease</th>\n",
       "      <th>PreviousSurgery</th>\n",
       "      <th>Gender</th>\n",
       "      <th>Smoker</th>\n",
       "      <th>Homeless</th>\n",
       "      <th>DaysinHospital</th>\n",
       "      <th>Readmitted</th>\n",
       "    </tr>\n",
       "  </thead>\n",
       "  <tbody>\n",
       "    <tr>\n",
       "      <th>0</th>\n",
       "      <td>1</td>\n",
       "      <td>33</td>\n",
       "      <td>Urgent</td>\n",
       "      <td>Y</td>\n",
       "      <td>0</td>\n",
       "      <td>M</td>\n",
       "      <td>1</td>\n",
       "      <td>0</td>\n",
       "      <td>1</td>\n",
       "      <td>0</td>\n",
       "    </tr>\n",
       "    <tr>\n",
       "      <th>1</th>\n",
       "      <td>2</td>\n",
       "      <td>34</td>\n",
       "      <td>Emergency</td>\n",
       "      <td>N</td>\n",
       "      <td>0</td>\n",
       "      <td>M</td>\n",
       "      <td>1</td>\n",
       "      <td>0</td>\n",
       "      <td>22</td>\n",
       "      <td>0</td>\n",
       "    </tr>\n",
       "    <tr>\n",
       "      <th>2</th>\n",
       "      <td>3</td>\n",
       "      <td>88</td>\n",
       "      <td>Trauma</td>\n",
       "      <td>Y</td>\n",
       "      <td>1</td>\n",
       "      <td>M</td>\n",
       "      <td>1</td>\n",
       "      <td>1</td>\n",
       "      <td>100</td>\n",
       "      <td>1</td>\n",
       "    </tr>\n",
       "    <tr>\n",
       "      <th>3</th>\n",
       "      <td>4</td>\n",
       "      <td>56</td>\n",
       "      <td>Elective</td>\n",
       "      <td>Y</td>\n",
       "      <td>0</td>\n",
       "      <td>M</td>\n",
       "      <td>1</td>\n",
       "      <td>0</td>\n",
       "      <td>2</td>\n",
       "      <td>0</td>\n",
       "    </tr>\n",
       "    <tr>\n",
       "      <th>4</th>\n",
       "      <td>5</td>\n",
       "      <td>45</td>\n",
       "      <td>Trauma</td>\n",
       "      <td>Y</td>\n",
       "      <td>0</td>\n",
       "      <td>M</td>\n",
       "      <td>1</td>\n",
       "      <td>0</td>\n",
       "      <td>34</td>\n",
       "      <td>0</td>\n",
       "    </tr>\n",
       "  </tbody>\n",
       "</table>\n",
       "</div>"
      ],
      "text/plain": [
       "   Patient_id  Age Admission_type PreExistingDisease  PreviousSurgery Gender  \\\n",
       "0           1   33         Urgent                  Y                0      M   \n",
       "1           2   34      Emergency                  N                0      M   \n",
       "2           3   88         Trauma                  Y                1      M   \n",
       "3           4   56       Elective                  Y                0      M   \n",
       "4           5   45         Trauma                  Y                0      M   \n",
       "\n",
       "   Smoker  Homeless  DaysinHospital  Readmitted  \n",
       "0       1         0               1           0  \n",
       "1       1         0              22           0  \n",
       "2       1         1             100           1  \n",
       "3       1         0               2           0  \n",
       "4       1         0              34           0  "
      ]
     },
     "execution_count": 7,
     "metadata": {},
     "output_type": "execute_result"
    }
   ],
   "source": [
    "patient_data.head()"
   ]
  },
  {
   "cell_type": "code",
   "execution_count": 8,
   "metadata": {},
   "outputs": [
    {
     "data": {
      "text/html": [
       "<div>\n",
       "<style scoped>\n",
       "    .dataframe tbody tr th:only-of-type {\n",
       "        vertical-align: middle;\n",
       "    }\n",
       "\n",
       "    .dataframe tbody tr th {\n",
       "        vertical-align: top;\n",
       "    }\n",
       "\n",
       "    .dataframe thead th {\n",
       "        text-align: right;\n",
       "    }\n",
       "</style>\n",
       "<table border=\"1\" class=\"dataframe\">\n",
       "  <thead>\n",
       "    <tr style=\"text-align: right;\">\n",
       "      <th></th>\n",
       "      <th>Patient_id</th>\n",
       "      <th>Age</th>\n",
       "      <th>PreviousSurgery</th>\n",
       "      <th>Smoker</th>\n",
       "      <th>Homeless</th>\n",
       "      <th>DaysinHospital</th>\n",
       "      <th>Readmitted</th>\n",
       "    </tr>\n",
       "  </thead>\n",
       "  <tbody>\n",
       "    <tr>\n",
       "      <th>count</th>\n",
       "      <td>357.00000</td>\n",
       "      <td>357.000000</td>\n",
       "      <td>357.000000</td>\n",
       "      <td>357.000000</td>\n",
       "      <td>357.000000</td>\n",
       "      <td>357.000000</td>\n",
       "      <td>357.000000</td>\n",
       "    </tr>\n",
       "    <tr>\n",
       "      <th>mean</th>\n",
       "      <td>179.00000</td>\n",
       "      <td>42.574230</td>\n",
       "      <td>0.341737</td>\n",
       "      <td>0.596639</td>\n",
       "      <td>0.378151</td>\n",
       "      <td>43.182073</td>\n",
       "      <td>0.193277</td>\n",
       "    </tr>\n",
       "    <tr>\n",
       "      <th>std</th>\n",
       "      <td>103.20126</td>\n",
       "      <td>29.274624</td>\n",
       "      <td>0.474957</td>\n",
       "      <td>0.491261</td>\n",
       "      <td>0.485606</td>\n",
       "      <td>47.362609</td>\n",
       "      <td>0.395423</td>\n",
       "    </tr>\n",
       "    <tr>\n",
       "      <th>min</th>\n",
       "      <td>1.00000</td>\n",
       "      <td>0.000000</td>\n",
       "      <td>0.000000</td>\n",
       "      <td>0.000000</td>\n",
       "      <td>0.000000</td>\n",
       "      <td>1.000000</td>\n",
       "      <td>0.000000</td>\n",
       "    </tr>\n",
       "    <tr>\n",
       "      <th>25%</th>\n",
       "      <td>90.00000</td>\n",
       "      <td>14.000000</td>\n",
       "      <td>0.000000</td>\n",
       "      <td>0.000000</td>\n",
       "      <td>0.000000</td>\n",
       "      <td>12.000000</td>\n",
       "      <td>0.000000</td>\n",
       "    </tr>\n",
       "    <tr>\n",
       "      <th>50%</th>\n",
       "      <td>179.00000</td>\n",
       "      <td>35.000000</td>\n",
       "      <td>0.000000</td>\n",
       "      <td>1.000000</td>\n",
       "      <td>0.000000</td>\n",
       "      <td>32.000000</td>\n",
       "      <td>0.000000</td>\n",
       "    </tr>\n",
       "    <tr>\n",
       "      <th>75%</th>\n",
       "      <td>268.00000</td>\n",
       "      <td>67.000000</td>\n",
       "      <td>1.000000</td>\n",
       "      <td>1.000000</td>\n",
       "      <td>1.000000</td>\n",
       "      <td>55.000000</td>\n",
       "      <td>0.000000</td>\n",
       "    </tr>\n",
       "    <tr>\n",
       "      <th>max</th>\n",
       "      <td>357.00000</td>\n",
       "      <td>96.000000</td>\n",
       "      <td>1.000000</td>\n",
       "      <td>1.000000</td>\n",
       "      <td>1.000000</td>\n",
       "      <td>352.000000</td>\n",
       "      <td>1.000000</td>\n",
       "    </tr>\n",
       "  </tbody>\n",
       "</table>\n",
       "</div>"
      ],
      "text/plain": [
       "       Patient_id         Age  PreviousSurgery      Smoker    Homeless  \\\n",
       "count   357.00000  357.000000       357.000000  357.000000  357.000000   \n",
       "mean    179.00000   42.574230         0.341737    0.596639    0.378151   \n",
       "std     103.20126   29.274624         0.474957    0.491261    0.485606   \n",
       "min       1.00000    0.000000         0.000000    0.000000    0.000000   \n",
       "25%      90.00000   14.000000         0.000000    0.000000    0.000000   \n",
       "50%     179.00000   35.000000         0.000000    1.000000    0.000000   \n",
       "75%     268.00000   67.000000         1.000000    1.000000    1.000000   \n",
       "max     357.00000   96.000000         1.000000    1.000000    1.000000   \n",
       "\n",
       "       DaysinHospital  Readmitted  \n",
       "count      357.000000  357.000000  \n",
       "mean        43.182073    0.193277  \n",
       "std         47.362609    0.395423  \n",
       "min          1.000000    0.000000  \n",
       "25%         12.000000    0.000000  \n",
       "50%         32.000000    0.000000  \n",
       "75%         55.000000    0.000000  \n",
       "max        352.000000    1.000000  "
      ]
     },
     "execution_count": 8,
     "metadata": {},
     "output_type": "execute_result"
    }
   ],
   "source": [
    "patient_data.describe()\n",
    "# 357명의 환자, 40대가 많음, -환자는 60대가 많을 줄 알았는데 40대가 많다는 것\n",
    "# 실질적인 데이터(평균)을 해치는 주요요소 : 이상치(outideal)\n",
    "# 현실에는 이상치가 존재하기 때문에  -> 사분위수(평균의 여러값)가 있는 것 \n",
    "# 평균 : 4가지가 있음, 중앙값, 빈도값(count로 대체)\n",
    "\n",
    "# 0~ 14세가 25% / 14~ 35세 50% / 35~ 96세 75% -> 마케팅 타겟\n",
    "# 75% 부터는 수술이 1번씩은 있음\n",
    "# 50% 부터 흡연\n",
    "# 나이 많아 질수록 병원체류 높아짐\n",
    "# 재입원율은 낮지만 고령층 구간이 많음 "
   ]
  },
  {
   "cell_type": "code",
   "execution_count": 9,
   "metadata": {},
   "outputs": [
    {
     "data": {
      "text/html": [
       "<div>\n",
       "<style scoped>\n",
       "    .dataframe tbody tr th:only-of-type {\n",
       "        vertical-align: middle;\n",
       "    }\n",
       "\n",
       "    .dataframe tbody tr th {\n",
       "        vertical-align: top;\n",
       "    }\n",
       "\n",
       "    .dataframe thead th {\n",
       "        text-align: right;\n",
       "    }\n",
       "</style>\n",
       "<table border=\"1\" class=\"dataframe\">\n",
       "  <thead>\n",
       "    <tr style=\"text-align: right;\">\n",
       "      <th></th>\n",
       "      <th>Admission_type</th>\n",
       "      <th>PreExistingDisease</th>\n",
       "      <th>Gender</th>\n",
       "    </tr>\n",
       "  </thead>\n",
       "  <tbody>\n",
       "    <tr>\n",
       "      <th>count</th>\n",
       "      <td>357</td>\n",
       "      <td>357</td>\n",
       "      <td>357</td>\n",
       "    </tr>\n",
       "    <tr>\n",
       "      <th>unique</th>\n",
       "      <td>5</td>\n",
       "      <td>2</td>\n",
       "      <td>2</td>\n",
       "    </tr>\n",
       "    <tr>\n",
       "      <th>top</th>\n",
       "      <td>Urgent</td>\n",
       "      <td>N</td>\n",
       "      <td>F</td>\n",
       "    </tr>\n",
       "    <tr>\n",
       "      <th>freq</th>\n",
       "      <td>131</td>\n",
       "      <td>228</td>\n",
       "      <td>186</td>\n",
       "    </tr>\n",
       "  </tbody>\n",
       "</table>\n",
       "</div>"
      ],
      "text/plain": [
       "       Admission_type PreExistingDisease Gender\n",
       "count             357                357    357\n",
       "unique              5                  2      2\n",
       "top            Urgent                  N      F\n",
       "freq              131                228    186"
      ]
     },
     "execution_count": 9,
     "metadata": {},
     "output_type": "execute_result"
    }
   ],
   "source": [
    "# 위 데이터는 젠더는 나타나지 않음\n",
    "# 또 다른 카테고리 데이터 보고 싶을 때\n",
    "patient_data.describe(include=['object'])\n",
    "# freq 빈도수"
   ]
  },
  {
   "cell_type": "code",
   "execution_count": 10,
   "metadata": {},
   "outputs": [],
   "source": [
    "#patient_data = pd.read_csv("
   ]
  },
  {
   "cell_type": "code",
   "execution_count": 11,
   "metadata": {},
   "outputs": [
    {
     "data": {
      "text/html": [
       "<div>\n",
       "<style scoped>\n",
       "    .dataframe tbody tr th:only-of-type {\n",
       "        vertical-align: middle;\n",
       "    }\n",
       "\n",
       "    .dataframe tbody tr th {\n",
       "        vertical-align: top;\n",
       "    }\n",
       "\n",
       "    .dataframe thead th {\n",
       "        text-align: right;\n",
       "    }\n",
       "</style>\n",
       "<table border=\"1\" class=\"dataframe\">\n",
       "  <thead>\n",
       "    <tr style=\"text-align: right;\">\n",
       "      <th></th>\n",
       "      <th>Patient_id</th>\n",
       "      <th>Age</th>\n",
       "      <th>Admission_type</th>\n",
       "      <th>PreExistingDisease</th>\n",
       "      <th>PreviousSurgery</th>\n",
       "      <th>Gender</th>\n",
       "      <th>Smoker</th>\n",
       "      <th>Homeless</th>\n",
       "      <th>DaysinHospital</th>\n",
       "      <th>Readmitted</th>\n",
       "    </tr>\n",
       "  </thead>\n",
       "  <tbody>\n",
       "    <tr>\n",
       "      <th>0</th>\n",
       "      <td>1</td>\n",
       "      <td>33</td>\n",
       "      <td>Urgent</td>\n",
       "      <td>Y</td>\n",
       "      <td>0</td>\n",
       "      <td>M</td>\n",
       "      <td>1</td>\n",
       "      <td>0</td>\n",
       "      <td>1</td>\n",
       "      <td>0</td>\n",
       "    </tr>\n",
       "    <tr>\n",
       "      <th>1</th>\n",
       "      <td>2</td>\n",
       "      <td>34</td>\n",
       "      <td>Emergency</td>\n",
       "      <td>N</td>\n",
       "      <td>0</td>\n",
       "      <td>M</td>\n",
       "      <td>1</td>\n",
       "      <td>0</td>\n",
       "      <td>22</td>\n",
       "      <td>0</td>\n",
       "    </tr>\n",
       "    <tr>\n",
       "      <th>2</th>\n",
       "      <td>3</td>\n",
       "      <td>88</td>\n",
       "      <td>Trauma</td>\n",
       "      <td>Y</td>\n",
       "      <td>1</td>\n",
       "      <td>M</td>\n",
       "      <td>1</td>\n",
       "      <td>1</td>\n",
       "      <td>100</td>\n",
       "      <td>1</td>\n",
       "    </tr>\n",
       "    <tr>\n",
       "      <th>3</th>\n",
       "      <td>4</td>\n",
       "      <td>56</td>\n",
       "      <td>Elective</td>\n",
       "      <td>Y</td>\n",
       "      <td>0</td>\n",
       "      <td>M</td>\n",
       "      <td>1</td>\n",
       "      <td>0</td>\n",
       "      <td>2</td>\n",
       "      <td>0</td>\n",
       "    </tr>\n",
       "    <tr>\n",
       "      <th>4</th>\n",
       "      <td>5</td>\n",
       "      <td>45</td>\n",
       "      <td>Trauma</td>\n",
       "      <td>Y</td>\n",
       "      <td>0</td>\n",
       "      <td>M</td>\n",
       "      <td>1</td>\n",
       "      <td>0</td>\n",
       "      <td>34</td>\n",
       "      <td>0</td>\n",
       "    </tr>\n",
       "  </tbody>\n",
       "</table>\n",
       "</div>"
      ],
      "text/plain": [
       "   Patient_id  Age Admission_type PreExistingDisease  PreviousSurgery Gender  \\\n",
       "0           1   33         Urgent                  Y                0      M   \n",
       "1           2   34      Emergency                  N                0      M   \n",
       "2           3   88         Trauma                  Y                1      M   \n",
       "3           4   56       Elective                  Y                0      M   \n",
       "4           5   45         Trauma                  Y                0      M   \n",
       "\n",
       "   Smoker  Homeless  DaysinHospital  Readmitted  \n",
       "0       1         0               1           0  \n",
       "1       1         0              22           0  \n",
       "2       1         1             100           1  \n",
       "3       1         0               2           0  \n",
       "4       1         0              34           0  "
      ]
     },
     "execution_count": 11,
     "metadata": {},
     "output_type": "execute_result"
    }
   ],
   "source": [
    "patient_data.head()"
   ]
  },
  {
   "cell_type": "code",
   "execution_count": 12,
   "metadata": {},
   "outputs": [
    {
     "name": "stdout",
     "output_type": "stream",
     "text": [
      "<pandas.core.indexing._iLocIndexer object at 0x7f5afc3200b0>\n"
     ]
    }
   ],
   "source": [
    "# 어드미션 추가\n",
    "# dummies 카테고리화 할 수 있는 것을 변환하고 각각에 대한 빈도수 확인 가능\n",
    "\n",
    "X= patient_data.iloc\n",
    "\n",
    "print(X)"
   ]
  },
  {
   "cell_type": "code",
   "execution_count": 13,
   "metadata": {},
   "outputs": [
    {
     "name": "stdout",
     "output_type": "stream",
     "text": [
      "     Age Admission_type PreExistingDisease  PreviousSurgery Gender  Smoker  \\\n",
      "0     33         Urgent                  Y                0      M       1   \n",
      "1     34      Emergency                  N                0      M       1   \n",
      "2     88         Trauma                  Y                1      M       1   \n",
      "3     56       Elective                  Y                0      M       1   \n",
      "4     45         Trauma                  Y                0      M       1   \n",
      "..   ...            ...                ...              ...    ...     ...   \n",
      "352   14         Trauma                  Y                1      M       1   \n",
      "353   45         Trauma                  N                0      F       1   \n",
      "354   67         Trauma                  N                1      M       1   \n",
      "355   43         Trauma                  Y                1      M       0   \n",
      "356    2         Trauma                  Y                1      F       0   \n",
      "\n",
      "     Homeless  DaysinHospital  \n",
      "0           0               1  \n",
      "1           0              22  \n",
      "2           1             100  \n",
      "3           0               2  \n",
      "4           0              34  \n",
      "..        ...             ...  \n",
      "352         1               2  \n",
      "353         1               2  \n",
      "354         1               2  \n",
      "355         1               2  \n",
      "356         1               2  \n",
      "\n",
      "[357 rows x 8 columns]\n"
     ]
    }
   ],
   "source": [
    "# 전체 데이터 중 1열 가져옴\n",
    "# X= patient_data.iloc[:,1]\n",
    "X= patient_data.iloc[:,1:9]\n",
    "\n",
    "print(X)\n",
    "# 이 데이터로 판정할 수 있는 것은 무엇일지 생각해보기 "
   ]
  },
  {
   "cell_type": "code",
   "execution_count": 14,
   "metadata": {},
   "outputs": [
    {
     "name": "stdout",
     "output_type": "stream",
     "text": [
      "0      0\n",
      "1      0\n",
      "2      1\n",
      "3      0\n",
      "4      0\n",
      "      ..\n",
      "352    0\n",
      "353    0\n",
      "354    0\n",
      "355    0\n",
      "356    0\n",
      "Name: Readmitted, Length: 357, dtype: int64\n"
     ]
    }
   ],
   "source": [
    "# 데이터 분리\n",
    "y= patient_data.iloc[:,9]\n",
    "print(y)\n",
    "# 여덟개의 매개변수를 가지고 재입원(Readmitted)을 할지 안할지 판정\n",
    "# -> 나이 많은 사람, 교통사고 당한사람"
   ]
  },
  {
   "cell_type": "code",
   "execution_count": 15,
   "metadata": {},
   "outputs": [
    {
     "name": "stdout",
     "output_type": "stream",
     "text": [
      "0      Y\n",
      "1      N\n",
      "2      Y\n",
      "3      Y\n",
      "4      Y\n",
      "      ..\n",
      "352    Y\n",
      "353    N\n",
      "354    N\n",
      "355    Y\n",
      "356    Y\n",
      "Name: PreExistingDisease, Length: 357, dtype: object\n"
     ]
    }
   ],
   "source": [
    "# 다시 데이터 뭐가 있는지 확인\n",
    "# 어떤 데이터 있는 지 숫자 바꿔가면서 볼 수 있음\n",
    "print(X.iloc[:, 2])"
   ]
  },
  {
   "cell_type": "code",
   "execution_count": 16,
   "metadata": {},
   "outputs": [],
   "source": [
    "# 데이터 분리 후 엔코딩 (Admission_type :1)\n",
    "# 드롭할 것 정하기 \n",
    "SpecType = pd.get_dummies(\n",
    "    X.iloc[:,1],\n",
    "    drop_first = True,\n",
    "    prefix = 'SpecType'\n",
    ")"
   ]
  },
  {
   "cell_type": "code",
   "execution_count": 17,
   "metadata": {},
   "outputs": [
    {
     "name": "stdout",
     "output_type": "stream",
     "text": [
      "     SpecType_Emergency  SpecType_Newborn  SpecType_Trauma  SpecType_Urgent\n",
      "0                     0                 0                0                1\n",
      "1                     1                 0                0                0\n",
      "2                     0                 0                1                0\n",
      "3                     0                 0                0                0\n",
      "4                     0                 0                1                0\n",
      "..                  ...               ...              ...              ...\n",
      "352                   0                 0                1                0\n",
      "353                   0                 0                1                0\n",
      "354                   0                 0                1                0\n",
      "355                   0                 0                1                0\n",
      "356                   0                 0                1                0\n",
      "\n",
      "[357 rows x 4 columns]\n"
     ]
    }
   ],
   "source": [
    "# 전 구간이 분리 된 것을 확인할 수 있음\n",
    "# Elective 급하지 않은 사람은 사라짐\n",
    "# [357 rows x 4 columns]-> 4개의 열\n",
    "print(SpecType)"
   ]
  },
  {
   "cell_type": "code",
   "execution_count": 18,
   "metadata": {},
   "outputs": [],
   "source": [
    "# 질병여부 엔코딩(PreExistingDisease:2번쨰)\n",
    "preDie = pd.get_dummies(\n",
    "    X.iloc[:,2],\n",
    "    drop_first = True,\n",
    "    prefix = 'PreDie'\n",
    ")"
   ]
  },
  {
   "cell_type": "code",
   "execution_count": 19,
   "metadata": {},
   "outputs": [
    {
     "name": "stdout",
     "output_type": "stream",
     "text": [
      "     PreDie_Y\n",
      "0           1\n",
      "1           0\n",
      "2           1\n",
      "3           1\n",
      "4           1\n",
      "..        ...\n",
      "352         1\n",
      "353         0\n",
      "354         0\n",
      "355         1\n",
      "356         1\n",
      "\n",
      "[357 rows x 1 columns]\n"
     ]
    }
   ],
   "source": [
    "print(preDie)"
   ]
  },
  {
   "cell_type": "code",
   "execution_count": 20,
   "metadata": {},
   "outputs": [
    {
     "name": "stdout",
     "output_type": "stream",
     "text": [
      "     Age  PreviousSurgery  Smoker  Homeless  DaysinHospital\n",
      "0     33                0       1         0               1\n",
      "1     34                0       1         0              22\n",
      "2     88                1       1         1             100\n",
      "3     56                0       1         0               2\n",
      "4     45                0       1         0              34\n",
      "..   ...              ...     ...       ...             ...\n",
      "352   14                1       1         1               2\n",
      "353   45                0       1         1               2\n",
      "354   67                1       1         1               2\n",
      "355   43                1       0         1               2\n",
      "356    2                1       0         1               2\n",
      "\n",
      "[357 rows x 5 columns]\n"
     ]
    }
   ],
   "source": [
    "# 위에서 엔코딩 한 것들, 성별에 대한것은 쓸모 없을 것 같아 지우기\n",
    "# [357 rows x 5 columns] -> drop해서 5열로 바뀐 것 볼 수 있음\n",
    "X.drop(\n",
    "    [\n",
    "        'Admission_type',\n",
    "        'PreExistingDisease',\n",
    "        'Gender'\n",
    "        ],\n",
    "        axis = 1,\n",
    "        inplace = True\n",
    ")  \n",
    "print(X)"
   ]
  },
  {
   "cell_type": "code",
   "execution_count": 21,
   "metadata": {},
   "outputs": [],
   "source": [
    "# 다 합치기 \n",
    "X = pd.concat(\n",
    "    [X, SpecType, preDie], axis = 1,\n",
    ")"
   ]
  },
  {
   "cell_type": "code",
   "execution_count": 22,
   "metadata": {},
   "outputs": [
    {
     "name": "stdout",
     "output_type": "stream",
     "text": [
      "     Age  PreviousSurgery  Smoker  Homeless  DaysinHospital  \\\n",
      "0     33                0       1         0               1   \n",
      "1     34                0       1         0              22   \n",
      "2     88                1       1         1             100   \n",
      "3     56                0       1         0               2   \n",
      "4     45                0       1         0              34   \n",
      "..   ...              ...     ...       ...             ...   \n",
      "352   14                1       1         1               2   \n",
      "353   45                0       1         1               2   \n",
      "354   67                1       1         1               2   \n",
      "355   43                1       0         1               2   \n",
      "356    2                1       0         1               2   \n",
      "\n",
      "     SpecType_Emergency  SpecType_Newborn  SpecType_Trauma  SpecType_Urgent  \\\n",
      "0                     0                 0                0                1   \n",
      "1                     1                 0                0                0   \n",
      "2                     0                 0                1                0   \n",
      "3                     0                 0                0                0   \n",
      "4                     0                 0                1                0   \n",
      "..                  ...               ...              ...              ...   \n",
      "352                   0                 0                1                0   \n",
      "353                   0                 0                1                0   \n",
      "354                   0                 0                1                0   \n",
      "355                   0                 0                1                0   \n",
      "356                   0                 0                1                0   \n",
      "\n",
      "     PreDie_Y  \n",
      "0           1  \n",
      "1           0  \n",
      "2           1  \n",
      "3           1  \n",
      "4           1  \n",
      "..        ...  \n",
      "352         1  \n",
      "353         0  \n",
      "354         0  \n",
      "355         1  \n",
      "356         1  \n",
      "\n",
      "[357 rows x 10 columns]\n"
     ]
    }
   ],
   "source": [
    "print(X)"
   ]
  },
  {
   "cell_type": "code",
   "execution_count": 23,
   "metadata": {},
   "outputs": [],
   "source": [
    "# ~ p237 ~ p241 9번까지"
   ]
  },
  {
   "cell_type": "code",
   "execution_count": 24,
   "metadata": {},
   "outputs": [],
   "source": [
    "from sklearn.model_selection import train_test_split"
   ]
  },
  {
   "cell_type": "code",
   "execution_count": 25,
   "metadata": {},
   "outputs": [],
   "source": [
    "X_train, X_test, y_train, y_test = train_test_split(\n",
    "    X, y, test_size = 0.3, random_state = 1\n",
    ")"
   ]
  },
  {
   "cell_type": "raw",
   "metadata": {},
   "source": [
    "print(X_train.shape)\n",
    "print(y_train.shape)"
   ]
  },
  {
   "cell_type": "code",
   "execution_count": 26,
   "metadata": {},
   "outputs": [
    {
     "name": "stdout",
     "output_type": "stream",
     "text": [
      "(108, 10)\n",
      "(108,)\n"
     ]
    }
   ],
   "source": [
    "print(X_test.shape)\n",
    "print(y_test.shape)\n",
    "# train test 분리 완료"
   ]
  },
  {
   "cell_type": "code",
   "execution_count": 27,
   "metadata": {},
   "outputs": [
    {
     "name": "stdout",
     "output_type": "stream",
     "text": [
      "0.3025210084033613\n",
      "0.6974789915966386\n"
     ]
    }
   ],
   "source": [
    "print(108 / 357)\n",
    "print(249 / 357)\n",
    "# 이거에 맞춰서 test_size를 계산해줌"
   ]
  },
  {
   "cell_type": "code",
   "execution_count": 28,
   "metadata": {},
   "outputs": [],
   "source": [
    "# 정규화\n",
    "from sklearn.preprocessing import StandardScaler"
   ]
  },
  {
   "cell_type": "code",
   "execution_count": 29,
   "metadata": {},
   "outputs": [
    {
     "name": "stdout",
     "output_type": "stream",
     "text": [
      "     Age  PreviousSurgery  Smoker  Homeless  DaysinHospital  \\\n",
      "62    23                1       1         0              56   \n",
      "154    6                0       1         1              77   \n",
      "185   44                0       0         0              74   \n",
      "102   88                0       1         1               3   \n",
      "207   91                0       1         1              99   \n",
      "..   ...              ...     ...       ...             ...   \n",
      "203   91                1       1         0              96   \n",
      "255   35                1       1         1              25   \n",
      "72    48                0       0         0              14   \n",
      "235   91                0       1         1             123   \n",
      "37    77                0       1         0              44   \n",
      "\n",
      "     SpecType_Emergency  SpecType_Newborn  SpecType_Trauma  SpecType_Urgent  \\\n",
      "62                    0                 0                1                0   \n",
      "154                   0                 0                0                1   \n",
      "185                   1                 0                0                0   \n",
      "102                   0                 0                1                0   \n",
      "207                   0                 0                1                0   \n",
      "..                  ...               ...              ...              ...   \n",
      "203                   0                 0                1                0   \n",
      "255                   0                 0                0                1   \n",
      "72                    0                 0                0                0   \n",
      "235                   0                 0                0                1   \n",
      "37                    0                 0                0                1   \n",
      "\n",
      "     PreDie_Y  \n",
      "62          0  \n",
      "154         0  \n",
      "185         0  \n",
      "102         0  \n",
      "207         1  \n",
      "..        ...  \n",
      "203         1  \n",
      "255         0  \n",
      "72          0  \n",
      "235         1  \n",
      "37          0  \n",
      "\n",
      "[249 rows x 10 columns]\n"
     ]
    }
   ],
   "source": [
    "print(X_train)"
   ]
  },
  {
   "cell_type": "code",
   "execution_count": 30,
   "metadata": {},
   "outputs": [
    {
     "name": "stdout",
     "output_type": "stream",
     "text": [
      "[[-0.63137586  1.30633906  0.85391256 ...  1.94639707 -0.78541907\n",
      "  -0.75891328]\n",
      " [-1.20477514 -0.76549805  0.85391256 ... -0.51376978  1.27320565\n",
      "  -0.75891328]\n",
      " [ 0.07694089 -0.76549805 -1.17108009 ... -0.51376978 -0.78541907\n",
      "  -0.75891328]\n",
      " ...\n",
      " [ 0.21185837 -0.76549805 -1.17108009 ... -0.51376978 -0.78541907\n",
      "  -0.75891328]\n",
      " [ 1.66222125 -0.76549805  0.85391256 ... -0.51376978  1.27320565\n",
      "   1.31767361]\n",
      " [ 1.19001008 -0.76549805  0.85391256 ... -0.51376978  1.27320565\n",
      "  -0.75891328]]\n"
     ]
    }
   ],
   "source": [
    "# 스케일러 사용해서 인코딩된 데이터를 가우시안 분포에 나오는 확률분포데이터로 바뀜(=확률로 계산할 수 있게함)\n",
    "# 인코딩된 데이터를 확률로 계산할 수 있도록 스케일러를 통해 정규분포에서 사용할 수 있는 형태로 바뀜\n",
    "# 정규분포 테이블 구글검색\n",
    "# Z = 평균과 표준편차 달라서 확인하기 힘듦 -> z-score로 가능 -> fit_score가 이베이스 \n",
    "sc = StandardScaler()\n",
    "\n",
    "X_train = sc.fit_transform(X_train)\n",
    "print(X_train)"
   ]
  },
  {
   "cell_type": "code",
   "execution_count": 31,
   "metadata": {},
   "outputs": [
    {
     "name": "stdout",
     "output_type": "stream",
     "text": [
      "          Age  PreviousSurgery    Smoker  Homeless  DaysinHospital  \\\n",
      "0   -0.631376         1.306339  0.853913 -0.745822        0.288742   \n",
      "1   -1.204775        -0.765498  0.853913  1.340803        0.739842   \n",
      "2    0.076941        -0.765498 -1.171080 -0.745822        0.675399   \n",
      "3    1.561033        -0.765498  0.853913  1.340803       -0.849748   \n",
      "4    1.662221        -0.765498  0.853913  1.340803        1.212423   \n",
      "..        ...              ...       ...       ...             ...   \n",
      "244  1.662221         1.306339  0.853913 -0.745822        1.147980   \n",
      "245 -0.226623         1.306339  0.853913  1.340803       -0.377168   \n",
      "246  0.211858        -0.765498 -1.171080 -0.745822       -0.613458   \n",
      "247  1.662221        -0.765498  0.853913  1.340803        1.727966   \n",
      "248  1.190010        -0.765498  0.853913 -0.745822        0.030971   \n",
      "\n",
      "     SpecType_Emergency  SpecType_Newborn  SpecType_Trauma  SpecType_Urgent  \\\n",
      "0             -0.341456         -0.295527         1.946397        -0.785419   \n",
      "1             -0.341456         -0.295527        -0.513770         1.273206   \n",
      "2              2.928638         -0.295527        -0.513770        -0.785419   \n",
      "3             -0.341456         -0.295527         1.946397        -0.785419   \n",
      "4             -0.341456         -0.295527         1.946397        -0.785419   \n",
      "..                  ...               ...              ...              ...   \n",
      "244           -0.341456         -0.295527         1.946397        -0.785419   \n",
      "245           -0.341456         -0.295527        -0.513770         1.273206   \n",
      "246           -0.341456         -0.295527        -0.513770        -0.785419   \n",
      "247           -0.341456         -0.295527        -0.513770         1.273206   \n",
      "248           -0.341456         -0.295527        -0.513770         1.273206   \n",
      "\n",
      "     PreDie_Y  \n",
      "0   -0.758913  \n",
      "1   -0.758913  \n",
      "2   -0.758913  \n",
      "3   -0.758913  \n",
      "4    1.317674  \n",
      "..        ...  \n",
      "244  1.317674  \n",
      "245 -0.758913  \n",
      "246 -0.758913  \n",
      "247  1.317674  \n",
      "248 -0.758913  \n",
      "\n",
      "[249 rows x 10 columns]\n"
     ]
    }
   ],
   "source": [
    "X_train = pd.DataFrame(\n",
    "    X_train, columns = X_test.columns\n",
    ")\n",
    "\n",
    "print(X_train)"
   ]
  },
  {
   "cell_type": "code",
   "execution_count": 32,
   "metadata": {},
   "outputs": [
    {
     "name": "stdout",
     "output_type": "stream",
     "text": [
      "          Age  PreviousSurgery    Smoker  Homeless  DaysinHospital  \\\n",
      "0   -0.631376         1.306339  0.853913 -0.745822        0.288742   \n",
      "1   -1.204775        -0.765498  0.853913  1.340803        0.739842   \n",
      "2    0.076941        -0.765498 -1.171080 -0.745822        0.675399   \n",
      "3    1.561033        -0.765498  0.853913  1.340803       -0.849748   \n",
      "4    1.662221        -0.765498  0.853913  1.340803        1.212423   \n",
      "..        ...              ...       ...       ...             ...   \n",
      "244  1.662221         1.306339  0.853913 -0.745822        1.147980   \n",
      "245 -0.226623         1.306339  0.853913  1.340803       -0.377168   \n",
      "246  0.211858        -0.765498 -1.171080 -0.745822       -0.613458   \n",
      "247  1.662221        -0.765498  0.853913  1.340803        1.727966   \n",
      "248  1.190010        -0.765498  0.853913 -0.745822        0.030971   \n",
      "\n",
      "     SpecType_Emergency  SpecType_Newborn  SpecType_Trauma  SpecType_Urgent  \\\n",
      "0             -0.341456         -0.295527         1.946397        -0.785419   \n",
      "1             -0.341456         -0.295527        -0.513770         1.273206   \n",
      "2              2.928638         -0.295527        -0.513770        -0.785419   \n",
      "3             -0.341456         -0.295527         1.946397        -0.785419   \n",
      "4             -0.341456         -0.295527         1.946397        -0.785419   \n",
      "..                  ...               ...              ...              ...   \n",
      "244           -0.341456         -0.295527         1.946397        -0.785419   \n",
      "245           -0.341456         -0.295527        -0.513770         1.273206   \n",
      "246           -0.341456         -0.295527        -0.513770        -0.785419   \n",
      "247           -0.341456         -0.295527        -0.513770         1.273206   \n",
      "248           -0.341456         -0.295527        -0.513770         1.273206   \n",
      "\n",
      "     PreDie_Y  \n",
      "0   -0.758913  \n",
      "1   -0.758913  \n",
      "2   -0.758913  \n",
      "3   -0.758913  \n",
      "4    1.317674  \n",
      "..        ...  \n",
      "244  1.317674  \n",
      "245 -0.758913  \n",
      "246 -0.758913  \n",
      "247  1.317674  \n",
      "248 -0.758913  \n",
      "\n",
      "[249 rows x 10 columns]\n"
     ]
    }
   ],
   "source": [
    "X_train = pd.DataFrame(\n",
    "    X_train, columns = X_test.columns\n",
    ")\n",
    "\n",
    "print(X_train)"
   ]
  },
  {
   "cell_type": "code",
   "execution_count": 33,
   "metadata": {},
   "outputs": [
    {
     "data": {
      "text/html": [
       "<div>\n",
       "<style scoped>\n",
       "    .dataframe tbody tr th:only-of-type {\n",
       "        vertical-align: middle;\n",
       "    }\n",
       "\n",
       "    .dataframe tbody tr th {\n",
       "        vertical-align: top;\n",
       "    }\n",
       "\n",
       "    .dataframe thead th {\n",
       "        text-align: right;\n",
       "    }\n",
       "</style>\n",
       "<table border=\"1\" class=\"dataframe\">\n",
       "  <thead>\n",
       "    <tr style=\"text-align: right;\">\n",
       "      <th></th>\n",
       "      <th>Age</th>\n",
       "      <th>PreviousSurgery</th>\n",
       "      <th>Smoker</th>\n",
       "      <th>Homeless</th>\n",
       "      <th>DaysinHospital</th>\n",
       "      <th>SpecType_Emergency</th>\n",
       "      <th>SpecType_Newborn</th>\n",
       "      <th>SpecType_Trauma</th>\n",
       "      <th>SpecType_Urgent</th>\n",
       "      <th>PreDie_Y</th>\n",
       "    </tr>\n",
       "  </thead>\n",
       "  <tbody>\n",
       "    <tr>\n",
       "      <th>0</th>\n",
       "      <td>-0.631376</td>\n",
       "      <td>1.306339</td>\n",
       "      <td>0.853913</td>\n",
       "      <td>-0.745822</td>\n",
       "      <td>0.288742</td>\n",
       "      <td>-0.341456</td>\n",
       "      <td>-0.295527</td>\n",
       "      <td>1.946397</td>\n",
       "      <td>-0.785419</td>\n",
       "      <td>-0.758913</td>\n",
       "    </tr>\n",
       "    <tr>\n",
       "      <th>1</th>\n",
       "      <td>-1.204775</td>\n",
       "      <td>-0.765498</td>\n",
       "      <td>0.853913</td>\n",
       "      <td>1.340803</td>\n",
       "      <td>0.739842</td>\n",
       "      <td>-0.341456</td>\n",
       "      <td>-0.295527</td>\n",
       "      <td>-0.513770</td>\n",
       "      <td>1.273206</td>\n",
       "      <td>-0.758913</td>\n",
       "    </tr>\n",
       "    <tr>\n",
       "      <th>2</th>\n",
       "      <td>0.076941</td>\n",
       "      <td>-0.765498</td>\n",
       "      <td>-1.171080</td>\n",
       "      <td>-0.745822</td>\n",
       "      <td>0.675399</td>\n",
       "      <td>2.928638</td>\n",
       "      <td>-0.295527</td>\n",
       "      <td>-0.513770</td>\n",
       "      <td>-0.785419</td>\n",
       "      <td>-0.758913</td>\n",
       "    </tr>\n",
       "    <tr>\n",
       "      <th>3</th>\n",
       "      <td>1.561033</td>\n",
       "      <td>-0.765498</td>\n",
       "      <td>0.853913</td>\n",
       "      <td>1.340803</td>\n",
       "      <td>-0.849748</td>\n",
       "      <td>-0.341456</td>\n",
       "      <td>-0.295527</td>\n",
       "      <td>1.946397</td>\n",
       "      <td>-0.785419</td>\n",
       "      <td>-0.758913</td>\n",
       "    </tr>\n",
       "    <tr>\n",
       "      <th>4</th>\n",
       "      <td>1.662221</td>\n",
       "      <td>-0.765498</td>\n",
       "      <td>0.853913</td>\n",
       "      <td>1.340803</td>\n",
       "      <td>1.212423</td>\n",
       "      <td>-0.341456</td>\n",
       "      <td>-0.295527</td>\n",
       "      <td>1.946397</td>\n",
       "      <td>-0.785419</td>\n",
       "      <td>1.317674</td>\n",
       "    </tr>\n",
       "  </tbody>\n",
       "</table>\n",
       "</div>"
      ],
      "text/plain": [
       "        Age  PreviousSurgery    Smoker  Homeless  DaysinHospital  \\\n",
       "0 -0.631376         1.306339  0.853913 -0.745822        0.288742   \n",
       "1 -1.204775        -0.765498  0.853913  1.340803        0.739842   \n",
       "2  0.076941        -0.765498 -1.171080 -0.745822        0.675399   \n",
       "3  1.561033        -0.765498  0.853913  1.340803       -0.849748   \n",
       "4  1.662221        -0.765498  0.853913  1.340803        1.212423   \n",
       "\n",
       "   SpecType_Emergency  SpecType_Newborn  SpecType_Trauma  SpecType_Urgent  \\\n",
       "0           -0.341456         -0.295527         1.946397        -0.785419   \n",
       "1           -0.341456         -0.295527        -0.513770         1.273206   \n",
       "2            2.928638         -0.295527        -0.513770        -0.785419   \n",
       "3           -0.341456         -0.295527         1.946397        -0.785419   \n",
       "4           -0.341456         -0.295527         1.946397        -0.785419   \n",
       "\n",
       "   PreDie_Y  \n",
       "0 -0.758913  \n",
       "1 -0.758913  \n",
       "2 -0.758913  \n",
       "3 -0.758913  \n",
       "4  1.317674  "
      ]
     },
     "execution_count": 33,
     "metadata": {},
     "output_type": "execute_result"
    }
   ],
   "source": [
    "X_train.head()"
   ]
  },
  {
   "cell_type": "code",
   "execution_count": 34,
   "metadata": {},
   "outputs": [],
   "source": [
    "X_test = sc.transform(X_test)\n",
    "X_test = pd.DataFrame(\n",
    "    X_test, columns = X_train.columns\n",
    ")"
   ]
  },
  {
   "cell_type": "code",
   "execution_count": 35,
   "metadata": {},
   "outputs": [],
   "source": [
    "X_train_np = X_train.values\n",
    "y_train_np = y_train.values\n",
    "X_test_np = X_test.values\n",
    "y_test_np = y_test.values"
   ]
  },
  {
   "cell_type": "code",
   "execution_count": 36,
   "metadata": {},
   "outputs": [
    {
     "name": "stdout",
     "output_type": "stream",
     "text": [
      "<class 'numpy.ndarray'>\n"
     ]
    }
   ],
   "source": [
    "print(type(X_train_np))"
   ]
  },
  {
   "cell_type": "code",
   "execution_count": 37,
   "metadata": {},
   "outputs": [
    {
     "name": "stdout",
     "output_type": "stream",
     "text": [
      "(249, 10)\n"
     ]
    }
   ],
   "source": [
    "print(X_train_np.shape)"
   ]
  },
  {
   "cell_type": "code",
   "execution_count": 38,
   "metadata": {},
   "outputs": [
    {
     "name": "stdout",
     "output_type": "stream",
     "text": [
      "<class 'pandas.core.frame.DataFrame'>\n"
     ]
    }
   ],
   "source": [
    "print(type(X_train))\n",
    "# 데이터가 10만개 이하에서는 numpy가 느린데, 이상은 빠름\n",
    "# numpy 는 c로 만들어짐, 수치연산이라서 빠름"
   ]
  },
  {
   "cell_type": "code",
   "execution_count": 39,
   "metadata": {},
   "outputs": [],
   "source": [
    "from keras.models import Sequential\n",
    "from keras.layers import Dense, Dropout, Activation"
   ]
  },
  {
   "cell_type": "code",
   "execution_count": 40,
   "metadata": {},
   "outputs": [],
   "source": [
    "model = Sequential()"
   ]
  },
  {
   "cell_type": "code",
   "execution_count": 41,
   "metadata": {},
   "outputs": [],
   "source": [
    "model.add(\n",
    "    Dense(\n",
    "        units = 6, activation = 'relu',\n",
    "        kernel_initializer = 'uniform',\n",
    "        input_dim = 10\n",
    "    )\n",
    ")\n",
    "model.add(Dropout(rate = 0.3))"
   ]
  },
  {
   "cell_type": "code",
   "execution_count": 42,
   "metadata": {},
   "outputs": [],
   "source": [
    "model.add(\n",
    "    Dense(\n",
    "        units = 6, activation = 'relu',\n",
    "        kernel_initializer = 'uniform',\n",
    "    )\n",
    ")\n",
    "model.add(Dropout(rate = 0.3))"
   ]
  },
  {
   "cell_type": "code",
   "execution_count": 43,
   "metadata": {},
   "outputs": [],
   "source": [
    "model.add(\n",
    "    Dense(\n",
    "        units = 12, activation = 'tanh',\n",
    "        kernel_initializer = 'uniform',\n",
    "    )\n",
    ")\n",
    "model.add(Dropout(rate = 0.3))"
   ]
  },
  {
   "cell_type": "code",
   "execution_count": 44,
   "metadata": {},
   "outputs": [],
   "source": [
    "model.add(\n",
    "    Dense(\n",
    "        units = 6, activation = 'tanh',\n",
    "        kernel_initializer = 'uniform',\n",
    "    )\n",
    ")\n",
    "model.add(Dropout(rate = 0.3))"
   ]
  },
  {
   "cell_type": "code",
   "execution_count": 45,
   "metadata": {},
   "outputs": [],
   "source": [
    "model.add(\n",
    "    Dense(\n",
    "        units = 1, activation = 'sigmoid',\n",
    "        kernel_initializer = 'uniform'\n",
    "    )\n",
    ")"
   ]
  },
  {
   "cell_type": "code",
   "execution_count": 46,
   "metadata": {},
   "outputs": [],
   "source": [
    "model.compile(\n",
    "    optimizer = 'adam',\n",
    "    loss = 'binary_crossentropy',\n",
    "    metrics = ['accuracy']\n",
    ")"
   ]
  },
  {
   "cell_type": "code",
   "execution_count": 47,
   "metadata": {},
   "outputs": [
    {
     "name": "stdout",
     "output_type": "stream",
     "text": [
      "Epoch 1/400\n",
      "13/13 [==============================] - 0s 718us/step - loss: 0.6911 - accuracy: 0.7791\n",
      "Epoch 2/400\n",
      "13/13 [==============================] - 0s 732us/step - loss: 0.6860 - accuracy: 0.8072\n",
      "Epoch 3/400\n",
      "13/13 [==============================] - 0s 730us/step - loss: 0.6798 - accuracy: 0.8072\n",
      "Epoch 4/400\n",
      "13/13 [==============================] - 0s 561us/step - loss: 0.6701 - accuracy: 0.8072\n",
      "Epoch 5/400\n",
      "13/13 [==============================] - 0s 691us/step - loss: 0.6577 - accuracy: 0.8072\n",
      "Epoch 6/400\n",
      "13/13 [==============================] - 0s 959us/step - loss: 0.6410 - accuracy: 0.8072\n",
      "Epoch 7/400\n",
      "13/13 [==============================] - 0s 1ms/step - loss: 0.6181 - accuracy: 0.8072\n",
      "Epoch 8/400\n",
      "13/13 [==============================] - 0s 653us/step - loss: 0.5932 - accuracy: 0.8072\n",
      "Epoch 9/400\n",
      "13/13 [==============================] - 0s 705us/step - loss: 0.5655 - accuracy: 0.8072\n",
      "Epoch 10/400\n",
      "13/13 [==============================] - 0s 694us/step - loss: 0.5358 - accuracy: 0.8072\n",
      "Epoch 11/400\n",
      "13/13 [==============================] - 0s 635us/step - loss: 0.5131 - accuracy: 0.8072\n",
      "Epoch 12/400\n",
      "13/13 [==============================] - 0s 638us/step - loss: 0.4928 - accuracy: 0.8072\n",
      "Epoch 13/400\n",
      "13/13 [==============================] - 0s 622us/step - loss: 0.4796 - accuracy: 0.8072\n",
      "Epoch 14/400\n",
      "13/13 [==============================] - 0s 600us/step - loss: 0.4614 - accuracy: 0.8072\n",
      "Epoch 15/400\n",
      "13/13 [==============================] - 0s 632us/step - loss: 0.4391 - accuracy: 0.8193\n",
      "Epoch 16/400\n",
      "13/13 [==============================] - 0s 782us/step - loss: 0.4162 - accuracy: 0.8474\n",
      "Epoch 17/400\n",
      "13/13 [==============================] - 0s 929us/step - loss: 0.4204 - accuracy: 0.8434\n",
      "Epoch 18/400\n",
      "13/13 [==============================] - 0s 878us/step - loss: 0.3894 - accuracy: 0.8835\n",
      "Epoch 19/400\n",
      "13/13 [==============================] - 0s 645us/step - loss: 0.4157 - accuracy: 0.8514\n",
      "Epoch 20/400\n",
      "13/13 [==============================] - 0s 656us/step - loss: 0.3788 - accuracy: 0.8554\n",
      "Epoch 21/400\n",
      "13/13 [==============================] - 0s 672us/step - loss: 0.3674 - accuracy: 0.8876\n",
      "Epoch 22/400\n",
      "13/13 [==============================] - 0s 647us/step - loss: 0.3577 - accuracy: 0.8876\n",
      "Epoch 23/400\n",
      "13/13 [==============================] - 0s 633us/step - loss: 0.3510 - accuracy: 0.8916\n",
      "Epoch 24/400\n",
      "13/13 [==============================] - 0s 621us/step - loss: 0.3359 - accuracy: 0.8876\n",
      "Epoch 25/400\n",
      "13/13 [==============================] - 0s 652us/step - loss: 0.3633 - accuracy: 0.8876\n",
      "Epoch 26/400\n",
      "13/13 [==============================] - 0s 647us/step - loss: 0.3219 - accuracy: 0.9036\n",
      "Epoch 27/400\n",
      "13/13 [==============================] - 0s 657us/step - loss: 0.3581 - accuracy: 0.8956\n",
      "Epoch 28/400\n",
      "13/13 [==============================] - 0s 824us/step - loss: 0.3349 - accuracy: 0.8835\n",
      "Epoch 29/400\n",
      "13/13 [==============================] - 0s 626us/step - loss: 0.3289 - accuracy: 0.8956\n",
      "Epoch 30/400\n",
      "13/13 [==============================] - 0s 637us/step - loss: 0.3158 - accuracy: 0.8996\n",
      "Epoch 31/400\n",
      "13/13 [==============================] - 0s 648us/step - loss: 0.3308 - accuracy: 0.9036\n",
      "Epoch 32/400\n",
      "13/13 [==============================] - 0s 615us/step - loss: 0.3164 - accuracy: 0.9076\n",
      "Epoch 33/400\n",
      "13/13 [==============================] - 0s 683us/step - loss: 0.3380 - accuracy: 0.8996\n",
      "Epoch 34/400\n",
      "13/13 [==============================] - 0s 691us/step - loss: 0.3342 - accuracy: 0.8835\n",
      "Epoch 35/400\n",
      "13/13 [==============================] - 0s 587us/step - loss: 0.3287 - accuracy: 0.8956\n",
      "Epoch 36/400\n",
      "13/13 [==============================] - 0s 645us/step - loss: 0.3050 - accuracy: 0.9157\n",
      "Epoch 37/400\n",
      "13/13 [==============================] - 0s 596us/step - loss: 0.3411 - accuracy: 0.8916\n",
      "Epoch 38/400\n",
      "13/13 [==============================] - 0s 709us/step - loss: 0.3114 - accuracy: 0.9197\n",
      "Epoch 39/400\n",
      "13/13 [==============================] - 0s 641us/step - loss: 0.3123 - accuracy: 0.9036\n",
      "Epoch 40/400\n",
      "13/13 [==============================] - 0s 658us/step - loss: 0.3154 - accuracy: 0.9036\n",
      "Epoch 41/400\n",
      "13/13 [==============================] - 0s 637us/step - loss: 0.3140 - accuracy: 0.8956\n",
      "Epoch 42/400\n",
      "13/13 [==============================] - 0s 603us/step - loss: 0.3251 - accuracy: 0.8996\n",
      "Epoch 43/400\n",
      "13/13 [==============================] - 0s 673us/step - loss: 0.3384 - accuracy: 0.9036\n",
      "Epoch 44/400\n",
      "13/13 [==============================] - 0s 700us/step - loss: 0.3117 - accuracy: 0.9076\n",
      "Epoch 45/400\n",
      "13/13 [==============================] - 0s 644us/step - loss: 0.3136 - accuracy: 0.9076\n",
      "Epoch 46/400\n",
      "13/13 [==============================] - 0s 680us/step - loss: 0.3209 - accuracy: 0.9036\n",
      "Epoch 47/400\n",
      "13/13 [==============================] - 0s 628us/step - loss: 0.3145 - accuracy: 0.9036\n",
      "Epoch 48/400\n",
      "13/13 [==============================] - 0s 573us/step - loss: 0.2998 - accuracy: 0.9237\n",
      "Epoch 49/400\n",
      "13/13 [==============================] - 0s 654us/step - loss: 0.3301 - accuracy: 0.9076\n",
      "Epoch 50/400\n",
      "13/13 [==============================] - 0s 590us/step - loss: 0.3151 - accuracy: 0.9157\n",
      "Epoch 51/400\n",
      "13/13 [==============================] - 0s 642us/step - loss: 0.2891 - accuracy: 0.9197\n",
      "Epoch 52/400\n",
      "13/13 [==============================] - 0s 703us/step - loss: 0.2884 - accuracy: 0.9076\n",
      "Epoch 53/400\n",
      "13/13 [==============================] - 0s 711us/step - loss: 0.3191 - accuracy: 0.9036\n",
      "Epoch 54/400\n",
      "13/13 [==============================] - 0s 810us/step - loss: 0.2966 - accuracy: 0.9116\n",
      "Epoch 55/400\n",
      "13/13 [==============================] - 0s 731us/step - loss: 0.2951 - accuracy: 0.9116\n",
      "Epoch 56/400\n",
      "13/13 [==============================] - 0s 653us/step - loss: 0.3278 - accuracy: 0.8876\n",
      "Epoch 57/400\n",
      "13/13 [==============================] - 0s 562us/step - loss: 0.2928 - accuracy: 0.9116\n",
      "Epoch 58/400\n",
      "13/13 [==============================] - 0s 627us/step - loss: 0.3158 - accuracy: 0.9157\n",
      "Epoch 59/400\n",
      "13/13 [==============================] - 0s 574us/step - loss: 0.3018 - accuracy: 0.8956\n",
      "Epoch 60/400\n",
      "13/13 [==============================] - 0s 593us/step - loss: 0.3124 - accuracy: 0.8835\n",
      "Epoch 61/400\n",
      "13/13 [==============================] - 0s 589us/step - loss: 0.3000 - accuracy: 0.9076\n",
      "Epoch 62/400\n",
      "13/13 [==============================] - 0s 584us/step - loss: 0.2867 - accuracy: 0.8996\n",
      "Epoch 63/400\n",
      "13/13 [==============================] - 0s 644us/step - loss: 0.2948 - accuracy: 0.9116\n",
      "Epoch 64/400\n",
      "13/13 [==============================] - 0s 620us/step - loss: 0.2665 - accuracy: 0.9197\n",
      "Epoch 65/400\n",
      "13/13 [==============================] - 0s 595us/step - loss: 0.3032 - accuracy: 0.9076\n",
      "Epoch 66/400\n",
      "13/13 [==============================] - 0s 552us/step - loss: 0.2851 - accuracy: 0.9116\n",
      "Epoch 67/400\n",
      "13/13 [==============================] - 0s 593us/step - loss: 0.2857 - accuracy: 0.9157\n",
      "Epoch 68/400\n",
      "13/13 [==============================] - 0s 602us/step - loss: 0.2877 - accuracy: 0.9116\n",
      "Epoch 69/400\n",
      "13/13 [==============================] - 0s 590us/step - loss: 0.3114 - accuracy: 0.9036\n",
      "Epoch 70/400\n",
      "13/13 [==============================] - 0s 649us/step - loss: 0.2817 - accuracy: 0.9157\n",
      "Epoch 71/400\n",
      "13/13 [==============================] - 0s 574us/step - loss: 0.3134 - accuracy: 0.9036\n",
      "Epoch 72/400\n",
      "13/13 [==============================] - 0s 630us/step - loss: 0.2826 - accuracy: 0.9157\n",
      "Epoch 73/400\n",
      "13/13 [==============================] - 0s 616us/step - loss: 0.2897 - accuracy: 0.9116\n",
      "Epoch 74/400\n",
      "13/13 [==============================] - 0s 662us/step - loss: 0.2748 - accuracy: 0.8996\n",
      "Epoch 75/400\n",
      "13/13 [==============================] - 0s 632us/step - loss: 0.2733 - accuracy: 0.9076\n",
      "Epoch 76/400\n",
      "13/13 [==============================] - 0s 607us/step - loss: 0.3006 - accuracy: 0.9076\n",
      "Epoch 77/400\n",
      "13/13 [==============================] - 0s 628us/step - loss: 0.2797 - accuracy: 0.9116\n",
      "Epoch 78/400\n",
      "13/13 [==============================] - 0s 615us/step - loss: 0.2870 - accuracy: 0.9076\n",
      "Epoch 79/400\n",
      "13/13 [==============================] - 0s 594us/step - loss: 0.2708 - accuracy: 0.9197\n",
      "Epoch 80/400\n",
      "13/13 [==============================] - 0s 653us/step - loss: 0.3296 - accuracy: 0.8956\n",
      "Epoch 81/400\n"
     ]
    },
    {
     "name": "stdout",
     "output_type": "stream",
     "text": [
      "13/13 [==============================] - 0s 597us/step - loss: 0.2834 - accuracy: 0.8916\n",
      "Epoch 82/400\n",
      "13/13 [==============================] - 0s 611us/step - loss: 0.2640 - accuracy: 0.9157\n",
      "Epoch 83/400\n",
      "13/13 [==============================] - 0s 622us/step - loss: 0.2758 - accuracy: 0.9116\n",
      "Epoch 84/400\n",
      "13/13 [==============================] - 0s 661us/step - loss: 0.2682 - accuracy: 0.9237\n",
      "Epoch 85/400\n",
      "13/13 [==============================] - 0s 668us/step - loss: 0.2914 - accuracy: 0.9157\n",
      "Epoch 86/400\n",
      "13/13 [==============================] - 0s 598us/step - loss: 0.2923 - accuracy: 0.9076\n",
      "Epoch 87/400\n",
      "13/13 [==============================] - 0s 671us/step - loss: 0.2738 - accuracy: 0.9197\n",
      "Epoch 88/400\n",
      "13/13 [==============================] - 0s 713us/step - loss: 0.2784 - accuracy: 0.9157\n",
      "Epoch 89/400\n",
      "13/13 [==============================] - 0s 613us/step - loss: 0.2954 - accuracy: 0.9076\n",
      "Epoch 90/400\n",
      "13/13 [==============================] - 0s 669us/step - loss: 0.2957 - accuracy: 0.9157\n",
      "Epoch 91/400\n",
      "13/13 [==============================] - 0s 579us/step - loss: 0.2906 - accuracy: 0.9076\n",
      "Epoch 92/400\n",
      "13/13 [==============================] - 0s 634us/step - loss: 0.2829 - accuracy: 0.9237\n",
      "Epoch 93/400\n",
      "13/13 [==============================] - ETA: 0s - loss: 0.1991 - accuracy: 0.95 - 0s 627us/step - loss: 0.2747 - accuracy: 0.9157\n",
      "Epoch 94/400\n",
      "13/13 [==============================] - 0s 644us/step - loss: 0.2770 - accuracy: 0.9036\n",
      "Epoch 95/400\n",
      "13/13 [==============================] - 0s 605us/step - loss: 0.2620 - accuracy: 0.9116\n",
      "Epoch 96/400\n",
      "13/13 [==============================] - 0s 653us/step - loss: 0.2714 - accuracy: 0.9076\n",
      "Epoch 97/400\n",
      "13/13 [==============================] - 0s 608us/step - loss: 0.2503 - accuracy: 0.9157\n",
      "Epoch 98/400\n",
      "13/13 [==============================] - 0s 728us/step - loss: 0.2890 - accuracy: 0.9036\n",
      "Epoch 99/400\n",
      "13/13 [==============================] - 0s 601us/step - loss: 0.2703 - accuracy: 0.9157\n",
      "Epoch 100/400\n",
      "13/13 [==============================] - 0s 627us/step - loss: 0.2771 - accuracy: 0.9157\n",
      "Epoch 101/400\n",
      "13/13 [==============================] - 0s 666us/step - loss: 0.2957 - accuracy: 0.9197\n",
      "Epoch 102/400\n",
      "13/13 [==============================] - 0s 595us/step - loss: 0.2781 - accuracy: 0.9036\n",
      "Epoch 103/400\n",
      "13/13 [==============================] - 0s 605us/step - loss: 0.2651 - accuracy: 0.9076\n",
      "Epoch 104/400\n",
      "13/13 [==============================] - 0s 606us/step - loss: 0.2908 - accuracy: 0.9076\n",
      "Epoch 105/400\n",
      "13/13 [==============================] - 0s 629us/step - loss: 0.2714 - accuracy: 0.9197\n",
      "Epoch 106/400\n",
      "13/13 [==============================] - 0s 629us/step - loss: 0.2567 - accuracy: 0.9197\n",
      "Epoch 107/400\n",
      "13/13 [==============================] - 0s 597us/step - loss: 0.2835 - accuracy: 0.9076\n",
      "Epoch 108/400\n",
      "13/13 [==============================] - 0s 597us/step - loss: 0.2552 - accuracy: 0.9197\n",
      "Epoch 109/400\n",
      "13/13 [==============================] - 0s 596us/step - loss: 0.2827 - accuracy: 0.9116\n",
      "Epoch 110/400\n",
      "13/13 [==============================] - 0s 629us/step - loss: 0.2720 - accuracy: 0.9116\n",
      "Epoch 111/400\n",
      "13/13 [==============================] - 0s 614us/step - loss: 0.2764 - accuracy: 0.9237\n",
      "Epoch 112/400\n",
      "13/13 [==============================] - 0s 642us/step - loss: 0.2724 - accuracy: 0.9197\n",
      "Epoch 113/400\n",
      "13/13 [==============================] - 0s 647us/step - loss: 0.2984 - accuracy: 0.9036\n",
      "Epoch 114/400\n",
      "13/13 [==============================] - 0s 573us/step - loss: 0.2463 - accuracy: 0.9157\n",
      "Epoch 115/400\n",
      "13/13 [==============================] - 0s 618us/step - loss: 0.2553 - accuracy: 0.9157\n",
      "Epoch 116/400\n",
      "13/13 [==============================] - 0s 614us/step - loss: 0.2737 - accuracy: 0.9116\n",
      "Epoch 117/400\n",
      "13/13 [==============================] - 0s 616us/step - loss: 0.2750 - accuracy: 0.9116\n",
      "Epoch 118/400\n",
      "13/13 [==============================] - 0s 628us/step - loss: 0.2551 - accuracy: 0.9197\n",
      "Epoch 119/400\n",
      "13/13 [==============================] - 0s 584us/step - loss: 0.2856 - accuracy: 0.9036\n",
      "Epoch 120/400\n",
      "13/13 [==============================] - 0s 601us/step - loss: 0.2682 - accuracy: 0.8996\n",
      "Epoch 121/400\n",
      "13/13 [==============================] - 0s 585us/step - loss: 0.2338 - accuracy: 0.9277\n",
      "Epoch 122/400\n",
      "13/13 [==============================] - 0s 659us/step - loss: 0.2602 - accuracy: 0.9157\n",
      "Epoch 123/400\n",
      "13/13 [==============================] - 0s 625us/step - loss: 0.2752 - accuracy: 0.9157\n",
      "Epoch 124/400\n",
      "13/13 [==============================] - 0s 608us/step - loss: 0.2592 - accuracy: 0.8996\n",
      "Epoch 125/400\n",
      "13/13 [==============================] - 0s 641us/step - loss: 0.2655 - accuracy: 0.9237\n",
      "Epoch 126/400\n",
      "13/13 [==============================] - 0s 616us/step - loss: 0.2628 - accuracy: 0.9116\n",
      "Epoch 127/400\n",
      "13/13 [==============================] - 0s 613us/step - loss: 0.2488 - accuracy: 0.9197\n",
      "Epoch 128/400\n",
      "13/13 [==============================] - 0s 656us/step - loss: 0.2464 - accuracy: 0.9197\n",
      "Epoch 129/400\n",
      "13/13 [==============================] - 0s 581us/step - loss: 0.2608 - accuracy: 0.9197\n",
      "Epoch 130/400\n",
      "13/13 [==============================] - 0s 609us/step - loss: 0.3011 - accuracy: 0.8916\n",
      "Epoch 131/400\n",
      "13/13 [==============================] - 0s 661us/step - loss: 0.2902 - accuracy: 0.9157\n",
      "Epoch 132/400\n",
      "13/13 [==============================] - 0s 628us/step - loss: 0.2819 - accuracy: 0.9197\n",
      "Epoch 133/400\n",
      "13/13 [==============================] - 0s 675us/step - loss: 0.2468 - accuracy: 0.9237\n",
      "Epoch 134/400\n",
      "13/13 [==============================] - 0s 596us/step - loss: 0.2556 - accuracy: 0.9076\n",
      "Epoch 135/400\n",
      "13/13 [==============================] - 0s 638us/step - loss: 0.2688 - accuracy: 0.9116\n",
      "Epoch 136/400\n",
      "13/13 [==============================] - 0s 619us/step - loss: 0.2799 - accuracy: 0.8996\n",
      "Epoch 137/400\n",
      "13/13 [==============================] - 0s 614us/step - loss: 0.3085 - accuracy: 0.9036\n",
      "Epoch 138/400\n",
      "13/13 [==============================] - 0s 621us/step - loss: 0.2658 - accuracy: 0.9237\n",
      "Epoch 139/400\n",
      "13/13 [==============================] - 0s 579us/step - loss: 0.2327 - accuracy: 0.9237\n",
      "Epoch 140/400\n",
      "13/13 [==============================] - 0s 599us/step - loss: 0.2592 - accuracy: 0.9116\n",
      "Epoch 141/400\n",
      "13/13 [==============================] - 0s 590us/step - loss: 0.3004 - accuracy: 0.9116\n",
      "Epoch 142/400\n",
      "13/13 [==============================] - 0s 607us/step - loss: 0.2834 - accuracy: 0.9036\n",
      "Epoch 143/400\n",
      "13/13 [==============================] - 0s 614us/step - loss: 0.2858 - accuracy: 0.9076\n",
      "Epoch 144/400\n",
      "13/13 [==============================] - 0s 575us/step - loss: 0.2708 - accuracy: 0.9116\n",
      "Epoch 145/400\n",
      "13/13 [==============================] - 0s 632us/step - loss: 0.2724 - accuracy: 0.9116\n",
      "Epoch 146/400\n",
      "13/13 [==============================] - 0s 664us/step - loss: 0.2371 - accuracy: 0.9157\n",
      "Epoch 147/400\n",
      "13/13 [==============================] - 0s 647us/step - loss: 0.2925 - accuracy: 0.9036\n",
      "Epoch 148/400\n",
      "13/13 [==============================] - 0s 593us/step - loss: 0.2719 - accuracy: 0.9036\n",
      "Epoch 149/400\n",
      "13/13 [==============================] - 0s 577us/step - loss: 0.2440 - accuracy: 0.9237\n",
      "Epoch 150/400\n",
      "13/13 [==============================] - 0s 594us/step - loss: 0.2612 - accuracy: 0.8956\n",
      "Epoch 151/400\n",
      "13/13 [==============================] - 0s 651us/step - loss: 0.2494 - accuracy: 0.9036\n",
      "Epoch 152/400\n",
      "13/13 [==============================] - 0s 632us/step - loss: 0.2478 - accuracy: 0.9197\n",
      "Epoch 153/400\n",
      "13/13 [==============================] - 0s 669us/step - loss: 0.2772 - accuracy: 0.9157\n",
      "Epoch 154/400\n",
      "13/13 [==============================] - 0s 591us/step - loss: 0.2550 - accuracy: 0.9076\n",
      "Epoch 155/400\n",
      "13/13 [==============================] - 0s 618us/step - loss: 0.2483 - accuracy: 0.9237\n",
      "Epoch 156/400\n",
      "13/13 [==============================] - 0s 617us/step - loss: 0.2704 - accuracy: 0.9116\n",
      "Epoch 157/400\n",
      "13/13 [==============================] - 0s 626us/step - loss: 0.2463 - accuracy: 0.9116\n",
      "Epoch 158/400\n",
      "13/13 [==============================] - 0s 729us/step - loss: 0.2563 - accuracy: 0.9277\n",
      "Epoch 159/400\n",
      "13/13 [==============================] - 0s 575us/step - loss: 0.2664 - accuracy: 0.9197\n",
      "Epoch 160/400\n"
     ]
    },
    {
     "name": "stdout",
     "output_type": "stream",
     "text": [
      "13/13 [==============================] - 0s 613us/step - loss: 0.3226 - accuracy: 0.8956\n",
      "Epoch 161/400\n",
      "13/13 [==============================] - 0s 604us/step - loss: 0.2687 - accuracy: 0.9116\n",
      "Epoch 162/400\n",
      "13/13 [==============================] - 0s 652us/step - loss: 0.2544 - accuracy: 0.9116\n",
      "Epoch 163/400\n",
      "13/13 [==============================] - 0s 590us/step - loss: 0.2783 - accuracy: 0.9076\n",
      "Epoch 164/400\n",
      "13/13 [==============================] - 0s 608us/step - loss: 0.2851 - accuracy: 0.9197\n",
      "Epoch 165/400\n",
      "13/13 [==============================] - 0s 708us/step - loss: 0.2903 - accuracy: 0.8996\n",
      "Epoch 166/400\n",
      "13/13 [==============================] - 0s 646us/step - loss: 0.2445 - accuracy: 0.9237\n",
      "Epoch 167/400\n",
      "13/13 [==============================] - 0s 600us/step - loss: 0.2937 - accuracy: 0.9076\n",
      "Epoch 168/400\n",
      "13/13 [==============================] - 0s 660us/step - loss: 0.2608 - accuracy: 0.9237\n",
      "Epoch 169/400\n",
      "13/13 [==============================] - 0s 611us/step - loss: 0.2458 - accuracy: 0.9157\n",
      "Epoch 170/400\n",
      "13/13 [==============================] - 0s 623us/step - loss: 0.2567 - accuracy: 0.9076\n",
      "Epoch 171/400\n",
      "13/13 [==============================] - 0s 589us/step - loss: 0.2655 - accuracy: 0.9116\n",
      "Epoch 172/400\n",
      "13/13 [==============================] - 0s 608us/step - loss: 0.2544 - accuracy: 0.9116\n",
      "Epoch 173/400\n",
      "13/13 [==============================] - 0s 624us/step - loss: 0.2403 - accuracy: 0.9237\n",
      "Epoch 174/400\n",
      "13/13 [==============================] - 0s 606us/step - loss: 0.2582 - accuracy: 0.9237\n",
      "Epoch 175/400\n",
      "13/13 [==============================] - 0s 675us/step - loss: 0.2527 - accuracy: 0.9277\n",
      "Epoch 176/400\n",
      "13/13 [==============================] - 0s 620us/step - loss: 0.2779 - accuracy: 0.9157\n",
      "Epoch 177/400\n",
      "13/13 [==============================] - 0s 613us/step - loss: 0.3007 - accuracy: 0.9076\n",
      "Epoch 178/400\n",
      "13/13 [==============================] - 0s 649us/step - loss: 0.2721 - accuracy: 0.9157\n",
      "Epoch 179/400\n",
      "13/13 [==============================] - 0s 595us/step - loss: 0.2576 - accuracy: 0.9157\n",
      "Epoch 180/400\n",
      "13/13 [==============================] - 0s 639us/step - loss: 0.2438 - accuracy: 0.9197\n",
      "Epoch 181/400\n",
      "13/13 [==============================] - 0s 593us/step - loss: 0.2492 - accuracy: 0.9237\n",
      "Epoch 182/400\n",
      "13/13 [==============================] - 0s 612us/step - loss: 0.2297 - accuracy: 0.9317\n",
      "Epoch 183/400\n",
      "13/13 [==============================] - ETA: 0s - loss: 0.1479 - accuracy: 0.95 - 0s 608us/step - loss: 0.2420 - accuracy: 0.9277\n",
      "Epoch 184/400\n",
      "13/13 [==============================] - 0s 578us/step - loss: 0.2852 - accuracy: 0.9116\n",
      "Epoch 185/400\n",
      "13/13 [==============================] - 0s 629us/step - loss: 0.2548 - accuracy: 0.9237\n",
      "Epoch 186/400\n",
      "13/13 [==============================] - 0s 607us/step - loss: 0.2352 - accuracy: 0.9237\n",
      "Epoch 187/400\n",
      "13/13 [==============================] - 0s 643us/step - loss: 0.2582 - accuracy: 0.9197\n",
      "Epoch 188/400\n",
      "13/13 [==============================] - 0s 573us/step - loss: 0.2560 - accuracy: 0.9116\n",
      "Epoch 189/400\n",
      "13/13 [==============================] - 0s 629us/step - loss: 0.2533 - accuracy: 0.9116\n",
      "Epoch 190/400\n",
      "13/13 [==============================] - 0s 638us/step - loss: 0.2725 - accuracy: 0.9116\n",
      "Epoch 191/400\n",
      "13/13 [==============================] - 0s 640us/step - loss: 0.2757 - accuracy: 0.9157\n",
      "Epoch 192/400\n",
      "13/13 [==============================] - 0s 657us/step - loss: 0.2639 - accuracy: 0.9277\n",
      "Epoch 193/400\n",
      "13/13 [==============================] - 0s 617us/step - loss: 0.2451 - accuracy: 0.9157\n",
      "Epoch 194/400\n",
      "13/13 [==============================] - 0s 586us/step - loss: 0.2571 - accuracy: 0.9036\n",
      "Epoch 195/400\n",
      "13/13 [==============================] - 0s 590us/step - loss: 0.2503 - accuracy: 0.9116\n",
      "Epoch 196/400\n",
      "13/13 [==============================] - 0s 623us/step - loss: 0.2428 - accuracy: 0.9277\n",
      "Epoch 197/400\n",
      "13/13 [==============================] - 0s 603us/step - loss: 0.2387 - accuracy: 0.9157\n",
      "Epoch 198/400\n",
      "13/13 [==============================] - 0s 592us/step - loss: 0.2296 - accuracy: 0.9197\n",
      "Epoch 199/400\n",
      "13/13 [==============================] - 0s 644us/step - loss: 0.2392 - accuracy: 0.9277\n",
      "Epoch 200/400\n",
      "13/13 [==============================] - 0s 660us/step - loss: 0.2452 - accuracy: 0.9237\n",
      "Epoch 201/400\n",
      "13/13 [==============================] - 0s 658us/step - loss: 0.2834 - accuracy: 0.9197\n",
      "Epoch 202/400\n",
      "13/13 [==============================] - 0s 620us/step - loss: 0.2163 - accuracy: 0.9237\n",
      "Epoch 203/400\n",
      "13/13 [==============================] - 0s 611us/step - loss: 0.2853 - accuracy: 0.9116\n",
      "Epoch 204/400\n",
      "13/13 [==============================] - 0s 629us/step - loss: 0.2417 - accuracy: 0.9277\n",
      "Epoch 205/400\n",
      "13/13 [==============================] - 0s 625us/step - loss: 0.2398 - accuracy: 0.9197\n",
      "Epoch 206/400\n",
      "13/13 [==============================] - 0s 641us/step - loss: 0.2575 - accuracy: 0.9197\n",
      "Epoch 207/400\n",
      "13/13 [==============================] - 0s 601us/step - loss: 0.2411 - accuracy: 0.9277\n",
      "Epoch 208/400\n",
      "13/13 [==============================] - 0s 598us/step - loss: 0.2898 - accuracy: 0.9197\n",
      "Epoch 209/400\n",
      "13/13 [==============================] - 0s 583us/step - loss: 0.2334 - accuracy: 0.9277\n",
      "Epoch 210/400\n",
      "13/13 [==============================] - 0s 642us/step - loss: 0.2222 - accuracy: 0.9157\n",
      "Epoch 211/400\n",
      "13/13 [==============================] - 0s 593us/step - loss: 0.2404 - accuracy: 0.9237\n",
      "Epoch 212/400\n",
      "13/13 [==============================] - 0s 605us/step - loss: 0.2554 - accuracy: 0.9237\n",
      "Epoch 213/400\n",
      "13/13 [==============================] - 0s 607us/step - loss: 0.2687 - accuracy: 0.9116\n",
      "Epoch 214/400\n",
      "13/13 [==============================] - 0s 639us/step - loss: 0.2533 - accuracy: 0.9197\n",
      "Epoch 215/400\n",
      "13/13 [==============================] - ETA: 0s - loss: 0.2674 - accuracy: 0.90 - 0s 658us/step - loss: 0.2587 - accuracy: 0.9157\n",
      "Epoch 216/400\n",
      "13/13 [==============================] - 0s 627us/step - loss: 0.2515 - accuracy: 0.9277\n",
      "Epoch 217/400\n",
      "13/13 [==============================] - 0s 570us/step - loss: 0.2188 - accuracy: 0.9277\n",
      "Epoch 218/400\n",
      "13/13 [==============================] - 0s 599us/step - loss: 0.2411 - accuracy: 0.9116\n",
      "Epoch 219/400\n",
      "13/13 [==============================] - 0s 570us/step - loss: 0.2675 - accuracy: 0.9197\n",
      "Epoch 220/400\n",
      "13/13 [==============================] - 0s 621us/step - loss: 0.2137 - accuracy: 0.9237\n",
      "Epoch 221/400\n",
      "13/13 [==============================] - 0s 598us/step - loss: 0.2263 - accuracy: 0.9116\n",
      "Epoch 222/400\n",
      "13/13 [==============================] - 0s 572us/step - loss: 0.2428 - accuracy: 0.9277\n",
      "Epoch 223/400\n",
      "13/13 [==============================] - 0s 713us/step - loss: 0.2572 - accuracy: 0.9116\n",
      "Epoch 224/400\n",
      "13/13 [==============================] - 0s 636us/step - loss: 0.2605 - accuracy: 0.9157\n",
      "Epoch 225/400\n",
      "13/13 [==============================] - 0s 657us/step - loss: 0.2694 - accuracy: 0.8996\n",
      "Epoch 226/400\n",
      "13/13 [==============================] - 0s 712us/step - loss: 0.2567 - accuracy: 0.9157\n",
      "Epoch 227/400\n",
      "13/13 [==============================] - 0s 702us/step - loss: 0.2439 - accuracy: 0.9197\n",
      "Epoch 228/400\n",
      "13/13 [==============================] - 0s 746us/step - loss: 0.2542 - accuracy: 0.9157\n",
      "Epoch 229/400\n",
      "13/13 [==============================] - 0s 678us/step - loss: 0.2608 - accuracy: 0.9157\n",
      "Epoch 230/400\n",
      "13/13 [==============================] - 0s 739us/step - loss: 0.2590 - accuracy: 0.9116\n",
      "Epoch 231/400\n",
      "13/13 [==============================] - 0s 776us/step - loss: 0.2573 - accuracy: 0.9036\n",
      "Epoch 232/400\n",
      "13/13 [==============================] - 0s 809us/step - loss: 0.2361 - accuracy: 0.9277\n",
      "Epoch 233/400\n",
      "13/13 [==============================] - 0s 765us/step - loss: 0.2276 - accuracy: 0.9237\n",
      "Epoch 234/400\n",
      "13/13 [==============================] - 0s 711us/step - loss: 0.2676 - accuracy: 0.9157\n",
      "Epoch 235/400\n",
      "13/13 [==============================] - 0s 641us/step - loss: 0.2358 - accuracy: 0.9157\n",
      "Epoch 236/400\n",
      "13/13 [==============================] - 0s 756us/step - loss: 0.2345 - accuracy: 0.9237\n",
      "Epoch 237/400\n",
      "13/13 [==============================] - 0s 695us/step - loss: 0.2411 - accuracy: 0.9277\n",
      "Epoch 238/400\n"
     ]
    },
    {
     "name": "stdout",
     "output_type": "stream",
     "text": [
      "13/13 [==============================] - 0s 728us/step - loss: 0.2630 - accuracy: 0.9197\n",
      "Epoch 239/400\n",
      "13/13 [==============================] - 0s 679us/step - loss: 0.2256 - accuracy: 0.9237\n",
      "Epoch 240/400\n",
      "13/13 [==============================] - 0s 769us/step - loss: 0.2231 - accuracy: 0.9237\n",
      "Epoch 241/400\n",
      "13/13 [==============================] - 0s 694us/step - loss: 0.2530 - accuracy: 0.9116\n",
      "Epoch 242/400\n",
      "13/13 [==============================] - 0s 716us/step - loss: 0.2470 - accuracy: 0.9116\n",
      "Epoch 243/400\n",
      "13/13 [==============================] - 0s 824us/step - loss: 0.2661 - accuracy: 0.9157\n",
      "Epoch 244/400\n",
      "13/13 [==============================] - 0s 719us/step - loss: 0.2209 - accuracy: 0.9197\n",
      "Epoch 245/400\n",
      "13/13 [==============================] - 0s 624us/step - loss: 0.2494 - accuracy: 0.9157\n",
      "Epoch 246/400\n",
      "13/13 [==============================] - 0s 704us/step - loss: 0.2383 - accuracy: 0.9277\n",
      "Epoch 247/400\n",
      "13/13 [==============================] - 0s 688us/step - loss: 0.2399 - accuracy: 0.9277\n",
      "Epoch 248/400\n",
      "13/13 [==============================] - 0s 590us/step - loss: 0.2426 - accuracy: 0.9116\n",
      "Epoch 249/400\n",
      "13/13 [==============================] - 0s 774us/step - loss: 0.2359 - accuracy: 0.9237\n",
      "Epoch 250/400\n",
      "13/13 [==============================] - 0s 638us/step - loss: 0.2487 - accuracy: 0.9157\n",
      "Epoch 251/400\n",
      "13/13 [==============================] - 0s 618us/step - loss: 0.2659 - accuracy: 0.9197\n",
      "Epoch 252/400\n",
      "13/13 [==============================] - 0s 712us/step - loss: 0.2267 - accuracy: 0.9237\n",
      "Epoch 253/400\n",
      "13/13 [==============================] - 0s 585us/step - loss: 0.2506 - accuracy: 0.9116\n",
      "Epoch 254/400\n",
      "13/13 [==============================] - 0s 623us/step - loss: 0.2882 - accuracy: 0.9076\n",
      "Epoch 255/400\n",
      "13/13 [==============================] - 0s 587us/step - loss: 0.2382 - accuracy: 0.9197\n",
      "Epoch 256/400\n",
      "13/13 [==============================] - 0s 647us/step - loss: 0.2254 - accuracy: 0.9317\n",
      "Epoch 257/400\n",
      "13/13 [==============================] - 0s 616us/step - loss: 0.2384 - accuracy: 0.9197\n",
      "Epoch 258/400\n",
      "13/13 [==============================] - 0s 607us/step - loss: 0.2182 - accuracy: 0.9357\n",
      "Epoch 259/400\n",
      "13/13 [==============================] - 0s 660us/step - loss: 0.2559 - accuracy: 0.9197\n",
      "Epoch 260/400\n",
      "13/13 [==============================] - 0s 627us/step - loss: 0.2377 - accuracy: 0.9076\n",
      "Epoch 261/400\n",
      "13/13 [==============================] - 0s 603us/step - loss: 0.2370 - accuracy: 0.9237\n",
      "Epoch 262/400\n",
      "13/13 [==============================] - 0s 593us/step - loss: 0.2378 - accuracy: 0.9076\n",
      "Epoch 263/400\n",
      "13/13 [==============================] - 0s 592us/step - loss: 0.2711 - accuracy: 0.9036\n",
      "Epoch 264/400\n",
      "13/13 [==============================] - 0s 594us/step - loss: 0.2220 - accuracy: 0.9197\n",
      "Epoch 265/400\n",
      "13/13 [==============================] - 0s 600us/step - loss: 0.2458 - accuracy: 0.9157\n",
      "Epoch 266/400\n",
      "13/13 [==============================] - 0s 587us/step - loss: 0.2517 - accuracy: 0.9197\n",
      "Epoch 267/400\n",
      "13/13 [==============================] - 0s 549us/step - loss: 0.2617 - accuracy: 0.9197\n",
      "Epoch 268/400\n",
      "13/13 [==============================] - 0s 605us/step - loss: 0.2457 - accuracy: 0.9116\n",
      "Epoch 269/400\n",
      "13/13 [==============================] - 0s 611us/step - loss: 0.2594 - accuracy: 0.9076\n",
      "Epoch 270/400\n",
      "13/13 [==============================] - 0s 581us/step - loss: 0.2625 - accuracy: 0.9157\n",
      "Epoch 271/400\n",
      "13/13 [==============================] - 0s 606us/step - loss: 0.2515 - accuracy: 0.9157\n",
      "Epoch 272/400\n",
      "13/13 [==============================] - 0s 603us/step - loss: 0.2260 - accuracy: 0.9237\n",
      "Epoch 273/400\n",
      "13/13 [==============================] - 0s 603us/step - loss: 0.2517 - accuracy: 0.9036\n",
      "Epoch 274/400\n",
      "13/13 [==============================] - 0s 599us/step - loss: 0.2322 - accuracy: 0.9277\n",
      "Epoch 275/400\n",
      "13/13 [==============================] - 0s 564us/step - loss: 0.2048 - accuracy: 0.9317\n",
      "Epoch 276/400\n",
      "13/13 [==============================] - 0s 685us/step - loss: 0.2540 - accuracy: 0.9237\n",
      "Epoch 277/400\n",
      "13/13 [==============================] - 0s 582us/step - loss: 0.2486 - accuracy: 0.9036\n",
      "Epoch 278/400\n",
      "13/13 [==============================] - 0s 611us/step - loss: 0.2343 - accuracy: 0.9277\n",
      "Epoch 279/400\n",
      "13/13 [==============================] - 0s 579us/step - loss: 0.2449 - accuracy: 0.9197\n",
      "Epoch 280/400\n",
      "13/13 [==============================] - 0s 633us/step - loss: 0.2803 - accuracy: 0.9076\n",
      "Epoch 281/400\n",
      "13/13 [==============================] - 0s 587us/step - loss: 0.2873 - accuracy: 0.8996\n",
      "Epoch 282/400\n",
      "13/13 [==============================] - 0s 602us/step - loss: 0.2494 - accuracy: 0.9277\n",
      "Epoch 283/400\n",
      "13/13 [==============================] - 0s 606us/step - loss: 0.2393 - accuracy: 0.9157\n",
      "Epoch 284/400\n",
      "13/13 [==============================] - 0s 591us/step - loss: 0.2502 - accuracy: 0.9157\n",
      "Epoch 285/400\n",
      "13/13 [==============================] - 0s 588us/step - loss: 0.2469 - accuracy: 0.9197\n",
      "Epoch 286/400\n",
      "13/13 [==============================] - 0s 622us/step - loss: 0.2438 - accuracy: 0.9237\n",
      "Epoch 287/400\n",
      "13/13 [==============================] - 0s 597us/step - loss: 0.2248 - accuracy: 0.9197\n",
      "Epoch 288/400\n",
      "13/13 [==============================] - 0s 595us/step - loss: 0.2568 - accuracy: 0.9197\n",
      "Epoch 289/400\n",
      "13/13 [==============================] - 0s 583us/step - loss: 0.2312 - accuracy: 0.9237\n",
      "Epoch 290/400\n",
      "13/13 [==============================] - 0s 637us/step - loss: 0.2360 - accuracy: 0.9237\n",
      "Epoch 291/400\n",
      "13/13 [==============================] - 0s 575us/step - loss: 0.2511 - accuracy: 0.9116\n",
      "Epoch 292/400\n",
      "13/13 [==============================] - 0s 597us/step - loss: 0.2480 - accuracy: 0.9157\n",
      "Epoch 293/400\n",
      "13/13 [==============================] - 0s 654us/step - loss: 0.2502 - accuracy: 0.8956\n",
      "Epoch 294/400\n",
      "13/13 [==============================] - 0s 606us/step - loss: 0.2632 - accuracy: 0.9197\n",
      "Epoch 295/400\n",
      "13/13 [==============================] - 0s 665us/step - loss: 0.2585 - accuracy: 0.9197\n",
      "Epoch 296/400\n",
      "13/13 [==============================] - 0s 601us/step - loss: 0.2296 - accuracy: 0.9157\n",
      "Epoch 297/400\n",
      "13/13 [==============================] - 0s 595us/step - loss: 0.2389 - accuracy: 0.9317\n",
      "Epoch 298/400\n",
      "13/13 [==============================] - 0s 575us/step - loss: 0.2447 - accuracy: 0.9277\n",
      "Epoch 299/400\n",
      "13/13 [==============================] - 0s 647us/step - loss: 0.2502 - accuracy: 0.9116\n",
      "Epoch 300/400\n",
      "13/13 [==============================] - 0s 603us/step - loss: 0.2564 - accuracy: 0.9237\n",
      "Epoch 301/400\n",
      "13/13 [==============================] - 0s 590us/step - loss: 0.2401 - accuracy: 0.9277\n",
      "Epoch 302/400\n",
      "13/13 [==============================] - 0s 661us/step - loss: 0.2590 - accuracy: 0.8996\n",
      "Epoch 303/400\n",
      "13/13 [==============================] - 0s 601us/step - loss: 0.2365 - accuracy: 0.9197\n",
      "Epoch 304/400\n",
      "13/13 [==============================] - 0s 690us/step - loss: 0.2256 - accuracy: 0.9277\n",
      "Epoch 305/400\n",
      "13/13 [==============================] - 0s 676us/step - loss: 0.2673 - accuracy: 0.9237\n",
      "Epoch 306/400\n",
      "13/13 [==============================] - 0s 602us/step - loss: 0.2580 - accuracy: 0.9157\n",
      "Epoch 307/400\n",
      "13/13 [==============================] - 0s 605us/step - loss: 0.2457 - accuracy: 0.9237\n",
      "Epoch 308/400\n",
      "13/13 [==============================] - 0s 574us/step - loss: 0.2481 - accuracy: 0.9197\n",
      "Epoch 309/400\n",
      "13/13 [==============================] - 0s 601us/step - loss: 0.2435 - accuracy: 0.9317\n",
      "Epoch 310/400\n",
      "13/13 [==============================] - 0s 596us/step - loss: 0.2321 - accuracy: 0.9237\n",
      "Epoch 311/400\n",
      "13/13 [==============================] - 0s 616us/step - loss: 0.2497 - accuracy: 0.8996\n",
      "Epoch 312/400\n",
      "13/13 [==============================] - 0s 607us/step - loss: 0.2718 - accuracy: 0.9076\n",
      "Epoch 313/400\n",
      "13/13 [==============================] - 0s 632us/step - loss: 0.2741 - accuracy: 0.9197\n",
      "Epoch 314/400\n",
      "13/13 [==============================] - 0s 605us/step - loss: 0.2433 - accuracy: 0.9197\n",
      "Epoch 315/400\n",
      "13/13 [==============================] - 0s 588us/step - loss: 0.2569 - accuracy: 0.9116\n",
      "Epoch 316/400\n",
      "13/13 [==============================] - 0s 644us/step - loss: 0.2477 - accuracy: 0.9116\n",
      "Epoch 317/400\n"
     ]
    },
    {
     "name": "stdout",
     "output_type": "stream",
     "text": [
      "13/13 [==============================] - 0s 598us/step - loss: 0.2811 - accuracy: 0.9036\n",
      "Epoch 318/400\n",
      "13/13 [==============================] - 0s 563us/step - loss: 0.2523 - accuracy: 0.9197\n",
      "Epoch 319/400\n",
      "13/13 [==============================] - 0s 599us/step - loss: 0.2358 - accuracy: 0.9197\n",
      "Epoch 320/400\n",
      "13/13 [==============================] - 0s 568us/step - loss: 0.2370 - accuracy: 0.9116\n",
      "Epoch 321/400\n",
      "13/13 [==============================] - 0s 646us/step - loss: 0.2225 - accuracy: 0.9277\n",
      "Epoch 322/400\n",
      "13/13 [==============================] - 0s 602us/step - loss: 0.2354 - accuracy: 0.9237\n",
      "Epoch 323/400\n",
      "13/13 [==============================] - 0s 599us/step - loss: 0.2787 - accuracy: 0.9116\n",
      "Epoch 324/400\n",
      "13/13 [==============================] - 0s 651us/step - loss: 0.2268 - accuracy: 0.9317\n",
      "Epoch 325/400\n",
      "13/13 [==============================] - 0s 619us/step - loss: 0.2341 - accuracy: 0.9197\n",
      "Epoch 326/400\n",
      "13/13 [==============================] - 0s 643us/step - loss: 0.2263 - accuracy: 0.9237\n",
      "Epoch 327/400\n",
      "13/13 [==============================] - 0s 583us/step - loss: 0.2481 - accuracy: 0.9237\n",
      "Epoch 328/400\n",
      "13/13 [==============================] - 0s 617us/step - loss: 0.2570 - accuracy: 0.9237\n",
      "Epoch 329/400\n",
      "13/13 [==============================] - 0s 719us/step - loss: 0.2456 - accuracy: 0.9237\n",
      "Epoch 330/400\n",
      "13/13 [==============================] - 0s 610us/step - loss: 0.2212 - accuracy: 0.9237\n",
      "Epoch 331/400\n",
      "13/13 [==============================] - 0s 634us/step - loss: 0.2146 - accuracy: 0.9237\n",
      "Epoch 332/400\n",
      "13/13 [==============================] - 0s 628us/step - loss: 0.2443 - accuracy: 0.9116\n",
      "Epoch 333/400\n",
      "13/13 [==============================] - 0s 623us/step - loss: 0.2472 - accuracy: 0.9197\n",
      "Epoch 334/400\n",
      "13/13 [==============================] - 0s 578us/step - loss: 0.2552 - accuracy: 0.9076\n",
      "Epoch 335/400\n",
      "13/13 [==============================] - 0s 560us/step - loss: 0.2553 - accuracy: 0.9237\n",
      "Epoch 336/400\n",
      "13/13 [==============================] - 0s 629us/step - loss: 0.2325 - accuracy: 0.9277\n",
      "Epoch 337/400\n",
      "13/13 [==============================] - 0s 867us/step - loss: 0.2479 - accuracy: 0.9237\n",
      "Epoch 338/400\n",
      "13/13 [==============================] - 0s 586us/step - loss: 0.2352 - accuracy: 0.9197\n",
      "Epoch 339/400\n",
      "13/13 [==============================] - 0s 619us/step - loss: 0.2652 - accuracy: 0.9197\n",
      "Epoch 340/400\n",
      "13/13 [==============================] - 0s 630us/step - loss: 0.2511 - accuracy: 0.9116\n",
      "Epoch 341/400\n",
      "13/13 [==============================] - 0s 602us/step - loss: 0.2640 - accuracy: 0.9076\n",
      "Epoch 342/400\n",
      "13/13 [==============================] - 0s 569us/step - loss: 0.2609 - accuracy: 0.9116\n",
      "Epoch 343/400\n",
      "13/13 [==============================] - 0s 599us/step - loss: 0.2404 - accuracy: 0.9237\n",
      "Epoch 344/400\n",
      "13/13 [==============================] - 0s 588us/step - loss: 0.2231 - accuracy: 0.9237\n",
      "Epoch 345/400\n",
      "13/13 [==============================] - 0s 616us/step - loss: 0.2268 - accuracy: 0.9277\n",
      "Epoch 346/400\n",
      "13/13 [==============================] - 0s 611us/step - loss: 0.2548 - accuracy: 0.9116\n",
      "Epoch 347/400\n",
      "13/13 [==============================] - 0s 568us/step - loss: 0.2308 - accuracy: 0.9116\n",
      "Epoch 348/400\n",
      "13/13 [==============================] - 0s 585us/step - loss: 0.2164 - accuracy: 0.9157\n",
      "Epoch 349/400\n",
      "13/13 [==============================] - 0s 644us/step - loss: 0.2431 - accuracy: 0.9116\n",
      "Epoch 350/400\n",
      "13/13 [==============================] - 0s 599us/step - loss: 0.2560 - accuracy: 0.9157\n",
      "Epoch 351/400\n",
      "13/13 [==============================] - 0s 594us/step - loss: 0.2512 - accuracy: 0.9197\n",
      "Epoch 352/400\n",
      "13/13 [==============================] - 0s 578us/step - loss: 0.2424 - accuracy: 0.9277\n",
      "Epoch 353/400\n",
      "13/13 [==============================] - 0s 610us/step - loss: 0.2636 - accuracy: 0.9197\n",
      "Epoch 354/400\n",
      "13/13 [==============================] - 0s 608us/step - loss: 0.2272 - accuracy: 0.9197\n",
      "Epoch 355/400\n",
      "13/13 [==============================] - 0s 611us/step - loss: 0.2334 - accuracy: 0.9157\n",
      "Epoch 356/400\n",
      "13/13 [==============================] - 0s 689us/step - loss: 0.2491 - accuracy: 0.9197\n",
      "Epoch 357/400\n",
      "13/13 [==============================] - 0s 598us/step - loss: 0.2264 - accuracy: 0.9197\n",
      "Epoch 358/400\n",
      "13/13 [==============================] - 0s 640us/step - loss: 0.2330 - accuracy: 0.9197\n",
      "Epoch 359/400\n",
      "13/13 [==============================] - 0s 622us/step - loss: 0.2104 - accuracy: 0.9277\n",
      "Epoch 360/400\n",
      "13/13 [==============================] - 0s 610us/step - loss: 0.2200 - accuracy: 0.9237\n",
      "Epoch 361/400\n",
      "13/13 [==============================] - 0s 668us/step - loss: 0.2462 - accuracy: 0.9157\n",
      "Epoch 362/400\n",
      "13/13 [==============================] - 0s 653us/step - loss: 0.2498 - accuracy: 0.9277\n",
      "Epoch 363/400\n",
      "13/13 [==============================] - ETA: 0s - loss: 0.2215 - accuracy: 0.95 - 0s 660us/step - loss: 0.2136 - accuracy: 0.9277\n",
      "Epoch 364/400\n",
      "13/13 [==============================] - 0s 747us/step - loss: 0.2251 - accuracy: 0.9237\n",
      "Epoch 365/400\n",
      "13/13 [==============================] - 0s 637us/step - loss: 0.2299 - accuracy: 0.9237\n",
      "Epoch 366/400\n",
      "13/13 [==============================] - 0s 633us/step - loss: 0.2228 - accuracy: 0.9317\n",
      "Epoch 367/400\n",
      "13/13 [==============================] - 0s 674us/step - loss: 0.2332 - accuracy: 0.9116\n",
      "Epoch 368/400\n",
      "13/13 [==============================] - 0s 640us/step - loss: 0.2250 - accuracy: 0.9277\n",
      "Epoch 369/400\n",
      "13/13 [==============================] - 0s 678us/step - loss: 0.2341 - accuracy: 0.9237\n",
      "Epoch 370/400\n",
      "13/13 [==============================] - 0s 710us/step - loss: 0.2631 - accuracy: 0.9116\n",
      "Epoch 371/400\n",
      "13/13 [==============================] - 0s 637us/step - loss: 0.2446 - accuracy: 0.9237\n",
      "Epoch 372/400\n",
      "13/13 [==============================] - 0s 698us/step - loss: 0.2173 - accuracy: 0.9277\n",
      "Epoch 373/400\n",
      "13/13 [==============================] - 0s 644us/step - loss: 0.2381 - accuracy: 0.9277\n",
      "Epoch 374/400\n",
      "13/13 [==============================] - 0s 645us/step - loss: 0.2453 - accuracy: 0.9157\n",
      "Epoch 375/400\n",
      "13/13 [==============================] - 0s 630us/step - loss: 0.2174 - accuracy: 0.9197\n",
      "Epoch 376/400\n",
      "13/13 [==============================] - 0s 637us/step - loss: 0.2243 - accuracy: 0.9157\n",
      "Epoch 377/400\n",
      "13/13 [==============================] - 0s 642us/step - loss: 0.2358 - accuracy: 0.9076\n",
      "Epoch 378/400\n",
      "13/13 [==============================] - 0s 670us/step - loss: 0.2439 - accuracy: 0.9197\n",
      "Epoch 379/400\n",
      "13/13 [==============================] - 0s 630us/step - loss: 0.2164 - accuracy: 0.9197\n",
      "Epoch 380/400\n",
      "13/13 [==============================] - 0s 659us/step - loss: 0.2439 - accuracy: 0.9036\n",
      "Epoch 381/400\n",
      "13/13 [==============================] - 0s 631us/step - loss: 0.2198 - accuracy: 0.9197\n",
      "Epoch 382/400\n",
      "13/13 [==============================] - 0s 612us/step - loss: 0.2342 - accuracy: 0.9116\n",
      "Epoch 383/400\n",
      "13/13 [==============================] - 0s 634us/step - loss: 0.2228 - accuracy: 0.9157\n",
      "Epoch 384/400\n",
      "13/13 [==============================] - 0s 641us/step - loss: 0.2325 - accuracy: 0.9197\n",
      "Epoch 385/400\n",
      "13/13 [==============================] - 0s 681us/step - loss: 0.2173 - accuracy: 0.9277\n",
      "Epoch 386/400\n",
      "13/13 [==============================] - 0s 670us/step - loss: 0.2350 - accuracy: 0.9157\n",
      "Epoch 387/400\n",
      "13/13 [==============================] - 0s 644us/step - loss: 0.2441 - accuracy: 0.9197\n",
      "Epoch 388/400\n",
      "13/13 [==============================] - 0s 654us/step - loss: 0.2338 - accuracy: 0.9197\n",
      "Epoch 389/400\n",
      "13/13 [==============================] - 0s 820us/step - loss: 0.2383 - accuracy: 0.9116\n",
      "Epoch 390/400\n",
      "13/13 [==============================] - 0s 634us/step - loss: 0.2401 - accuracy: 0.9157\n",
      "Epoch 391/400\n",
      "13/13 [==============================] - 0s 648us/step - loss: 0.2354 - accuracy: 0.9277\n",
      "Epoch 392/400\n",
      "13/13 [==============================] - 0s 635us/step - loss: 0.2050 - accuracy: 0.9197\n",
      "Epoch 393/400\n",
      "13/13 [==============================] - 0s 673us/step - loss: 0.2226 - accuracy: 0.9197\n",
      "Epoch 394/400\n",
      "13/13 [==============================] - 0s 637us/step - loss: 0.2099 - accuracy: 0.9157\n",
      "Epoch 395/400\n",
      "13/13 [==============================] - 0s 654us/step - loss: 0.2288 - accuracy: 0.9197\n",
      "Epoch 396/400\n"
     ]
    },
    {
     "name": "stdout",
     "output_type": "stream",
     "text": [
      "13/13 [==============================] - 0s 633us/step - loss: 0.2450 - accuracy: 0.9197\n",
      "Epoch 397/400\n",
      "13/13 [==============================] - 0s 634us/step - loss: 0.2326 - accuracy: 0.9197\n",
      "Epoch 398/400\n",
      "13/13 [==============================] - 0s 643us/step - loss: 0.2307 - accuracy: 0.9197\n",
      "Epoch 399/400\n",
      "13/13 [==============================] - 0s 653us/step - loss: 0.2460 - accuracy: 0.9157\n",
      "Epoch 400/400\n",
      "13/13 [==============================] - 0s 694us/step - loss: 0.2334 - accuracy: 0.9237\n"
     ]
    },
    {
     "data": {
      "text/plain": [
       "<tensorflow.python.keras.callbacks.History at 0x7f5aa4247fd0>"
      ]
     },
     "execution_count": 47,
     "metadata": {},
     "output_type": "execute_result"
    }
   ],
   "source": [
    "model.fit(\n",
    "    X_train_np, y_train_np, \n",
    "    epochs = 400, \n",
    "    # 계산할 때 몇개 단위로 계산할 것인가\n",
    "    batch_size = 20\n",
    ")\n",
    "# 정보를 20개 가져가서 계산하고 가중치 출력\n",
    "# 진동하는 경우 -> 하이퍼블릭 탄젠트 쓰기 -> 정확성이 더 올리감"
   ]
  },
  {
   "cell_type": "code",
   "execution_count": 48,
   "metadata": {},
   "outputs": [
    {
     "name": "stdout",
     "output_type": "stream",
     "text": [
      "WARNING:tensorflow:From <ipython-input-48-77ce0cb3b6b5>:2: Sequential.predict_proba (from tensorflow.python.keras.engine.sequential) is deprecated and will be removed after 2021-01-01.\n",
      "Instructions for updating:\n",
      "Please use `model.predict()` instead.\n"
     ]
    }
   ],
   "source": [
    "y_pred_class = model.predict(X_test_np)\n",
    "y_pred_prob = model.predict_proba(X_test_np)\n",
    "# predict가 정규화를 다 해줌\n",
    "# proba는 곧 사라진다고 함 ㅋㅋ"
   ]
  },
  {
   "cell_type": "code",
   "execution_count": 49,
   "metadata": {},
   "outputs": [
    {
     "name": "stdout",
     "output_type": "stream",
     "text": [
      "[[0.09181985]\n",
      " [0.92470413]\n",
      " [0.01398602]\n",
      " [0.01611689]\n",
      " [0.92470443]\n",
      " [0.01400179]\n",
      " [0.9247044 ]\n",
      " [0.01431984]\n",
      " [0.01456374]\n",
      " [0.01406032]\n",
      " [0.0184035 ]\n",
      " [0.11529267]\n",
      " [0.01412925]\n",
      " [0.08851355]\n",
      " [0.01397899]\n",
      " [0.29823008]\n",
      " [0.01398033]\n",
      " [0.01398844]\n",
      " [0.03263339]\n",
      " [0.01398155]\n",
      " [0.12574336]\n",
      " [0.01400048]\n",
      " [0.01857755]\n",
      " [0.29823008]\n",
      " [0.01468256]\n",
      " [0.29823008]\n",
      " [0.0141862 ]\n",
      " [0.9246166 ]\n",
      " [0.01397401]\n",
      " [0.0140025 ]\n",
      " [0.01418969]\n",
      " [0.03421727]\n",
      " [0.01402113]\n",
      " [0.02513859]\n",
      " [0.01873747]\n",
      " [0.02550957]\n",
      " [0.29823008]\n",
      " [0.08421069]\n",
      " [0.01469308]\n",
      " [0.9246867 ]\n",
      " [0.01397601]\n",
      " [0.01404008]\n",
      " [0.01437649]\n",
      " [0.10236457]\n",
      " [0.01408607]\n",
      " [0.014079  ]\n",
      " [0.0199829 ]\n",
      " [0.04566586]\n",
      " [0.9247037 ]\n",
      " [0.01432368]\n",
      " [0.01406083]\n",
      " [0.29823008]\n",
      " [0.8588048 ]\n",
      " [0.01403052]\n",
      " [0.01397547]\n",
      " [0.9247043 ]\n",
      " [0.01458681]\n",
      " [0.0142248 ]\n",
      " [0.01397562]\n",
      " [0.01736081]\n",
      " [0.02819452]\n",
      " [0.9122369 ]\n",
      " [0.01407599]\n",
      " [0.01418105]\n",
      " [0.11529267]\n",
      " [0.01889938]\n",
      " [0.01626444]\n",
      " [0.29823008]\n",
      " [0.01522446]\n",
      " [0.01397574]\n",
      " [0.900363  ]\n",
      " [0.29823008]\n",
      " [0.08246014]\n",
      " [0.01397651]\n",
      " [0.01398352]\n",
      " [0.29823008]\n",
      " [0.92467004]\n",
      " [0.9240596 ]\n",
      " [0.9247042 ]\n",
      " [0.09238434]\n",
      " [0.02632019]\n",
      " [0.01399696]\n",
      " [0.01399103]\n",
      " [0.92470443]\n",
      " [0.01397488]\n",
      " [0.29823008]\n",
      " [0.29823008]\n",
      " [0.01572034]\n",
      " [0.01406699]\n",
      " [0.01765743]\n",
      " [0.01397714]\n",
      " [0.29823008]\n",
      " [0.92463326]\n",
      " [0.01449797]\n",
      " [0.03479302]\n",
      " [0.01403806]\n",
      " [0.01402634]\n",
      " [0.01432347]\n",
      " [0.9241792 ]\n",
      " [0.29823008]\n",
      " [0.0176056 ]\n",
      " [0.01397863]\n",
      " [0.01921168]\n",
      " [0.02845776]\n",
      " [0.01397394]\n",
      " [0.10916322]\n",
      " [0.29823008]\n",
      " [0.01668994]]\n"
     ]
    }
   ],
   "source": [
    "print(y_pred_class)"
   ]
  },
  {
   "cell_type": "code",
   "execution_count": 50,
   "metadata": {},
   "outputs": [
    {
     "name": "stdout",
     "output_type": "stream",
     "text": [
      "[[0.09181985]\n",
      " [0.92470413]\n",
      " [0.01398602]\n",
      " [0.01611689]\n",
      " [0.92470443]\n",
      " [0.01400179]\n",
      " [0.9247044 ]\n",
      " [0.01431984]\n",
      " [0.01456374]\n",
      " [0.01406032]\n",
      " [0.0184035 ]\n",
      " [0.11529267]\n",
      " [0.01412925]\n",
      " [0.08851355]\n",
      " [0.01397899]\n",
      " [0.29823008]\n",
      " [0.01398033]\n",
      " [0.01398844]\n",
      " [0.03263339]\n",
      " [0.01398155]\n",
      " [0.12574336]\n",
      " [0.01400048]\n",
      " [0.01857755]\n",
      " [0.29823008]\n",
      " [0.01468256]\n",
      " [0.29823008]\n",
      " [0.0141862 ]\n",
      " [0.9246166 ]\n",
      " [0.01397401]\n",
      " [0.0140025 ]\n",
      " [0.01418969]\n",
      " [0.03421727]\n",
      " [0.01402113]\n",
      " [0.02513859]\n",
      " [0.01873747]\n",
      " [0.02550957]\n",
      " [0.29823008]\n",
      " [0.08421069]\n",
      " [0.01469308]\n",
      " [0.9246867 ]\n",
      " [0.01397601]\n",
      " [0.01404008]\n",
      " [0.01437649]\n",
      " [0.10236457]\n",
      " [0.01408607]\n",
      " [0.014079  ]\n",
      " [0.0199829 ]\n",
      " [0.04566586]\n",
      " [0.9247037 ]\n",
      " [0.01432368]\n",
      " [0.01406083]\n",
      " [0.29823008]\n",
      " [0.8588048 ]\n",
      " [0.01403052]\n",
      " [0.01397547]\n",
      " [0.9247043 ]\n",
      " [0.01458681]\n",
      " [0.0142248 ]\n",
      " [0.01397562]\n",
      " [0.01736081]\n",
      " [0.02819452]\n",
      " [0.9122369 ]\n",
      " [0.01407599]\n",
      " [0.01418105]\n",
      " [0.11529267]\n",
      " [0.01889938]\n",
      " [0.01626444]\n",
      " [0.29823008]\n",
      " [0.01522446]\n",
      " [0.01397574]\n",
      " [0.900363  ]\n",
      " [0.29823008]\n",
      " [0.08246014]\n",
      " [0.01397651]\n",
      " [0.01398352]\n",
      " [0.29823008]\n",
      " [0.92467004]\n",
      " [0.9240596 ]\n",
      " [0.9247042 ]\n",
      " [0.09238434]\n",
      " [0.02632019]\n",
      " [0.01399696]\n",
      " [0.01399103]\n",
      " [0.92470443]\n",
      " [0.01397488]\n",
      " [0.29823008]\n",
      " [0.29823008]\n",
      " [0.01572034]\n",
      " [0.01406699]\n",
      " [0.01765743]\n",
      " [0.01397714]\n",
      " [0.29823008]\n",
      " [0.92463326]\n",
      " [0.01449797]\n",
      " [0.03479302]\n",
      " [0.01403806]\n",
      " [0.01402634]\n",
      " [0.01432347]\n",
      " [0.9241792 ]\n",
      " [0.29823008]\n",
      " [0.0176056 ]\n",
      " [0.01397863]\n",
      " [0.01921168]\n",
      " [0.02845776]\n",
      " [0.01397394]\n",
      " [0.10916322]\n",
      " [0.29823008]\n",
      " [0.01668994]]\n"
     ]
    }
   ],
   "source": [
    "print(y_pred_prob)"
   ]
  },
  {
   "cell_type": "code",
   "execution_count": 51,
   "metadata": {},
   "outputs": [
    {
     "data": {
      "text/plain": [
       "array([[0.09181985],\n",
       "       [0.92470413],\n",
       "       [0.01398602],\n",
       "       [0.01611689],\n",
       "       [0.92470443]], dtype=float32)"
      ]
     },
     "execution_count": 51,
     "metadata": {},
     "output_type": "execute_result"
    }
   ],
   "source": [
    "y_pred_class[:5]"
   ]
  },
  {
   "cell_type": "code",
   "execution_count": 52,
   "metadata": {},
   "outputs": [
    {
     "name": "stdout",
     "output_type": "stream",
     "text": [
      "[[False]\n",
      " [ True]\n",
      " [False]\n",
      " [False]\n",
      " [ True]\n",
      " [False]\n",
      " [ True]\n",
      " [False]\n",
      " [False]\n",
      " [False]\n",
      " [False]\n",
      " [False]\n",
      " [False]\n",
      " [False]\n",
      " [False]\n",
      " [False]\n",
      " [False]\n",
      " [False]\n",
      " [False]\n",
      " [False]\n",
      " [False]\n",
      " [False]\n",
      " [False]\n",
      " [False]\n",
      " [False]\n",
      " [False]\n",
      " [False]\n",
      " [ True]\n",
      " [False]\n",
      " [False]\n",
      " [False]\n",
      " [False]\n",
      " [False]\n",
      " [False]\n",
      " [False]\n",
      " [False]\n",
      " [False]\n",
      " [False]\n",
      " [False]\n",
      " [ True]\n",
      " [False]\n",
      " [False]\n",
      " [False]\n",
      " [False]\n",
      " [False]\n",
      " [False]\n",
      " [False]\n",
      " [False]\n",
      " [ True]\n",
      " [False]\n",
      " [False]\n",
      " [False]\n",
      " [ True]\n",
      " [False]\n",
      " [False]\n",
      " [ True]\n",
      " [False]\n",
      " [False]\n",
      " [False]\n",
      " [False]\n",
      " [False]\n",
      " [ True]\n",
      " [False]\n",
      " [False]\n",
      " [False]\n",
      " [False]\n",
      " [False]\n",
      " [False]\n",
      " [False]\n",
      " [False]\n",
      " [ True]\n",
      " [False]\n",
      " [False]\n",
      " [False]\n",
      " [False]\n",
      " [False]\n",
      " [ True]\n",
      " [ True]\n",
      " [ True]\n",
      " [False]\n",
      " [False]\n",
      " [False]\n",
      " [False]\n",
      " [ True]\n",
      " [False]\n",
      " [False]\n",
      " [False]\n",
      " [False]\n",
      " [False]\n",
      " [False]\n",
      " [False]\n",
      " [False]\n",
      " [ True]\n",
      " [False]\n",
      " [False]\n",
      " [False]\n",
      " [False]\n",
      " [False]\n",
      " [ True]\n",
      " [False]\n",
      " [False]\n",
      " [False]\n",
      " [False]\n",
      " [False]\n",
      " [False]\n",
      " [False]\n",
      " [False]\n",
      " [False]]\n"
     ]
    }
   ],
   "source": [
    "y_pred_class = y_pred_class > 0.5\n",
    "\n",
    "print(y_pred_class)\n",
    "# 재입원 고객 관리에 대한 결과값"
   ]
  },
  {
   "cell_type": "code",
   "execution_count": 53,
   "metadata": {},
   "outputs": [
    {
     "name": "stdout",
     "output_type": "stream",
     "text": [
      "[[0]\n",
      " [1]\n",
      " [0]\n",
      " [0]\n",
      " [1]]\n"
     ]
    }
   ],
   "source": [
    "print(y_pred_class.astype(int)[:5])\n",
    "# 0과 1의 값"
   ]
  },
  {
   "cell_type": "code",
   "execution_count": 54,
   "metadata": {},
   "outputs": [],
   "source": [
    "from sklearn.metrics import accuracy_score"
   ]
  },
  {
   "cell_type": "code",
   "execution_count": 55,
   "metadata": {},
   "outputs": [
    {
     "name": "stdout",
     "output_type": "stream",
     "text": [
      "0.8611111111111112\n"
     ]
    }
   ],
   "source": [
    "res = accuracy_score(y_test_np, y_pred_class)\n",
    "\n",
    "print(res)"
   ]
  },
  {
   "cell_type": "code",
   "execution_count": 56,
   "metadata": {},
   "outputs": [
    {
     "data": {
      "text/plain": [
       "0.8611111111111112"
      ]
     },
     "execution_count": 56,
     "metadata": {},
     "output_type": "execute_result"
    }
   ],
   "source": [
    "# 정확성을 계산해보자!\n",
    "from sklearn.metrics import accuracy_score\n",
    "accuracy_score(y_test,y_pred_class)"
   ]
  },
  {
   "cell_type": "code",
   "execution_count": 57,
   "metadata": {},
   "outputs": [
    {
     "name": "stdout",
     "output_type": "stream",
     "text": [
      "<class 'pandas.core.series.Series'>\n"
     ]
    }
   ],
   "source": [
    "print(type(y_test))"
   ]
  },
  {
   "cell_type": "code",
   "execution_count": 58,
   "metadata": {},
   "outputs": [
    {
     "data": {
      "text/plain": [
       "0    87\n",
       "1    21\n",
       "Name: Readmitted, dtype: int64"
      ]
     },
     "execution_count": 58,
     "metadata": {},
     "output_type": "execute_result"
    }
   ],
   "source": [
    "y_test.value_counts()"
   ]
  },
  {
   "cell_type": "code",
   "execution_count": 59,
   "metadata": {},
   "outputs": [
    {
     "name": "stdout",
     "output_type": "stream",
     "text": [
      "0.8055555555555556\n",
      "0.19444444444444445\n"
     ]
    }
   ],
   "source": [
    "print(87 / 108)\n",
    "print(21 / 108)"
   ]
  },
  {
   "cell_type": "code",
   "execution_count": 60,
   "metadata": {},
   "outputs": [],
   "source": [
    "# 젠더값 넣은 교재가 더 정확성이 높지만 과연 충분할까?\n",
    "# 정확성 값을 널 정확성과 비교해보자!"
   ]
  },
  {
   "cell_type": "code",
   "execution_count": 61,
   "metadata": {},
   "outputs": [
    {
     "data": {
      "text/plain": [
       "0    0.805556\n",
       "Name: Readmitted, dtype: float64"
      ]
     },
     "execution_count": 61,
     "metadata": {},
     "output_type": "execute_result"
    }
   ],
   "source": [
    "y_test.value_counts().head(1) / len(y_test)"
   ]
  },
  {
   "cell_type": "code",
   "execution_count": 62,
   "metadata": {},
   "outputs": [],
   "source": [
    "# 현업 Nvidianet, goolenet, 욜로"
   ]
  },
  {
   "cell_type": "code",
   "execution_count": 63,
   "metadata": {},
   "outputs": [],
   "source": [
    "# p232\n",
    "# p236 -> 프로젝트 AUC점수와 모델 품질이 관계그림 6.9"
   ]
  },
  {
   "cell_type": "code",
   "execution_count": 64,
   "metadata": {},
   "outputs": [],
   "source": [
    "# p251 ROC와 AUC점수 계산 \n",
    "from sklearn.metrics import roc_curve"
   ]
  },
  {
   "cell_type": "code",
   "execution_count": 65,
   "metadata": {},
   "outputs": [],
   "source": [
    "# fpr(거짓 양성률): 실제로는 해당사항이 없지만\n",
    "#                 해당 사항이 있다고 판정을 내리는 경우\n",
    "fpr, tpr, thresholds = roc_curve(\n",
    "    y_test, y_pred_prob\n",
    ")"
   ]
  },
  {
   "cell_type": "code",
   "execution_count": 66,
   "metadata": {},
   "outputs": [
    {
     "name": "stdout",
     "output_type": "stream",
     "text": [
      "[0.         0.01149425 0.01149425 0.02298851 0.02298851 0.03448276\n",
      " 0.03448276 0.04597701 0.04597701 0.05747126 0.05747126 0.17241379\n",
      " 0.18390805 0.20689655 0.28735632 0.28735632 0.33333333 0.33333333\n",
      " 0.4137931  0.4137931  0.43678161 0.43678161 0.66666667 0.66666667\n",
      " 0.89655172 0.89655172 1.        ]\n"
     ]
    }
   ],
   "source": [
    "print(fpr)"
   ]
  },
  {
   "cell_type": "code",
   "execution_count": 67,
   "metadata": {},
   "outputs": [
    {
     "name": "stdout",
     "output_type": "stream",
     "text": [
      "[0.         0.04761905 0.0952381  0.0952381  0.33333333 0.33333333\n",
      " 0.38095238 0.38095238 0.42857143 0.42857143 0.52380952 0.66666667\n",
      " 0.66666667 0.66666667 0.66666667 0.71428571 0.71428571 0.76190476\n",
      " 0.76190476 0.80952381 0.80952381 0.85714286 0.85714286 0.95238095\n",
      " 0.95238095 1.         1.        ]\n"
     ]
    }
   ],
   "source": [
    "print(tpr)\n",
    "# 시작하자마자 안좋음"
   ]
  },
  {
   "cell_type": "code",
   "execution_count": 68,
   "metadata": {},
   "outputs": [
    {
     "name": "stdout",
     "output_type": "stream",
     "text": [
      "[1.9247044  0.92470443 0.9247044  0.9247043  0.92467004 0.92463326\n",
      " 0.9246166  0.9241792  0.9240596  0.9122369  0.8588048  0.29823008\n",
      " 0.12574336 0.11529267 0.08246014 0.04566586 0.02845776 0.02819452\n",
      " 0.01873747 0.01857755 0.01765743 0.0176056  0.01412925 0.014079\n",
      " 0.01397899 0.01397863 0.01397394]\n"
     ]
    }
   ],
   "source": [
    "print(thresholds)"
   ]
  },
  {
   "cell_type": "code",
   "execution_count": 69,
   "metadata": {},
   "outputs": [],
   "source": [
    "import matplotlib.pyplot as plt\n"
   ]
  },
  {
   "cell_type": "code",
   "execution_count": 70,
   "metadata": {},
   "outputs": [
    {
     "data": {
      "image/png": "[encoded data removed]",
      "text/plain": [
       "<Figure size 432x288 with 1 Axes>"
      ]
     },
     "metadata": {
      "needs_background": "light"
     },
     "output_type": "display_data"
    }
   ],
   "source": [
    "plt.plot(fpr, tpr)\n",
    "plt.title(\"ROC Curve\")\n",
    "plt.xlabel(\"False Positive rate\")\n",
    "plt.ylabel(\"True Positive rate\")\n",
    "plt.grid(True)\n",
    "plt.show()"
   ]
  },
  {
   "cell_type": "code",
   "execution_count": 71,
   "metadata": {},
   "outputs": [],
   "source": [
    "def optimum_threshold(my_threshold):\n",
    "    print(\n",
    "        \"Sensitivity:\", \n",
    "        tpr[thresholds > my_threshold][-1]\n",
    "    )\n",
    "    print(\n",
    "        \"Specificity:\", \n",
    "        1 - fpr[thresholds > my_threshold][-1]\n",
    "    )\n",
    "    # threshold 임계치 my threshold"
   ]
  },
  {
   "cell_type": "code",
   "execution_count": 72,
   "metadata": {},
   "outputs": [
    {
     "name": "stdout",
     "output_type": "stream",
     "text": [
      "[0.         0.04761905 0.0952381  0.0952381  0.33333333 0.33333333\n",
      " 0.38095238 0.38095238 0.42857143 0.42857143 0.52380952]\n"
     ]
    }
   ],
   "source": [
    "print(tpr[thresholds > 0.5])"
   ]
  },
  {
   "cell_type": "code",
   "execution_count": 73,
   "metadata": {},
   "outputs": [
    {
     "name": "stdout",
     "output_type": "stream",
     "text": [
      "0.5238095238095238\n"
     ]
    }
   ],
   "source": [
    "print(tpr[thresholds > 0.5][-1])\n",
    "# -1 : 배열을 거꾸로 순회할 수 있음"
   ]
  },
  {
   "cell_type": "code",
   "execution_count": 74,
   "metadata": {},
   "outputs": [
    {
     "name": "stdout",
     "output_type": "stream",
     "text": [
      "Sensitivity: 0.5238095238095238\n",
      "Specificity: 0.9425287356321839\n"
     ]
    }
   ],
   "source": [
    "optimum_threshold(0.3)"
   ]
  },
  {
   "cell_type": "code",
   "execution_count": 75,
   "metadata": {},
   "outputs": [
    {
     "name": "stdout",
     "output_type": "stream",
     "text": [
      "Sensitivity: 0.5238095238095238\n",
      "Specificity: 0.9425287356321839\n"
     ]
    }
   ],
   "source": [
    "optimum_threshold(0.5)"
   ]
  },
  {
   "cell_type": "code",
   "execution_count": 76,
   "metadata": {},
   "outputs": [
    {
     "name": "stdout",
     "output_type": "stream",
     "text": [
      "[0.         0.04761905 0.0952381  0.0952381  0.33333333 0.33333333\n",
      " 0.38095238 0.38095238 0.42857143 0.42857143 0.52380952]\n"
     ]
    }
   ],
   "source": [
    "print(tpr[thresholds > 0.6])"
   ]
  },
  {
   "cell_type": "code",
   "execution_count": 77,
   "metadata": {},
   "outputs": [
    {
     "name": "stdout",
     "output_type": "stream",
     "text": [
      "[0.         0.04761905 0.0952381  0.0952381  0.33333333 0.33333333\n",
      " 0.38095238 0.38095238 0.42857143 0.42857143 0.52380952]\n"
     ]
    }
   ],
   "source": [
    "print(tpr[thresholds > 0.5])"
   ]
  },
  {
   "cell_type": "code",
   "execution_count": 78,
   "metadata": {},
   "outputs": [
    {
     "name": "stdout",
     "output_type": "stream",
     "text": [
      "Sensitivity: 1.0\n",
      "Specificity: 0.0\n"
     ]
    }
   ],
   "source": [
    "optimum_threshold(0.01)\n",
    "# 정확성 : 참인 케이스 잘잡는지\n",
    "# 특이성 : 거짓인 케이스 잘잡는지"
   ]
  },
  {
   "cell_type": "code",
   "execution_count": 79,
   "metadata": {},
   "outputs": [],
   "source": [
    "from sklearn.metrics import roc_auc_score"
   ]
  },
  {
   "cell_type": "code",
   "execution_count": 80,
   "metadata": {},
   "outputs": [
    {
     "data": {
      "text/plain": [
       "0.7917350848385332"
      ]
     },
     "execution_count": 80,
     "metadata": {},
     "output_type": "execute_result"
    }
   ],
   "source": [
    "roc_auc_score(y_test, y_pred_prob)"
   ]
  },
  {
   "cell_type": "code",
   "execution_count": 81,
   "metadata": {},
   "outputs": [],
   "source": [
    "#optimum_threshold(0.5)\n",
    "# 참이 되는 것이 얼마나 정확하냐\n",
    "# 실제가 0 실제가 아닌경우 아니라고 할 확률\n",
    "# 임계치를 높이니 둘 다 높아짐\n",
    "# 0.5를 써야함 왜~~~~~~~??????\n",
    "# 안정성을 추구한다면 둘 다 애매한 것 보다 하나라도 정확한 것이 중요\n",
    "# 아닌걸 아니라고 판정하는게 0.5가 너무 높음 - 100중 2명틀림\n",
    "# 0.3은 100중 16명이 틀림 \n",
    "# 잘못된걸 잘못되었다고 말하는 것이 더 좋음"
   ]
  },
  {
   "cell_type": "code",
   "execution_count": 82,
   "metadata": {},
   "outputs": [],
   "source": [
    "# Google TPU vs MS FPGA"
   ]
  },
  {
   "cell_type": "code",
   "execution_count": 83,
   "metadata": {},
   "outputs": [],
   "source": [
    "# GPU도 FPGA로 만듦\n",
    "# 유일하게 소프트웨어(프로그래밍)가 하드웨어 동작을 바꿀 수 있게 함 -> 빠름\n",
    "# 그래픽카드 히든레이어 할 때마다 메모리 복사 -> 매우느림\n",
    "# p261\n",
    "# 메모리 복사를 안하게 이미지 복사를 하면 됨 \n",
    "# 실시간 영상처리 유튜브 FPGA yolo\n",
    "# FPGA랑 웹 연결 자이닉스 징크파는 곳\n",
    "# p258\n",
    "# 넷플릭스 테크블로그 "
   ]
  },
  {
   "cell_type": "code",
   "execution_count": null,
   "metadata": {},
   "outputs": [],
   "source": []
  }
 ],
 "metadata": {
  "kernelspec": {
   "display_name": "Python 3",
   "language": "python",
   "name": "python3"
  },
  "language_info": {
   "codemirror_mode": {
    "name": "ipython",
    "version": 3
   },
   "file_extension": ".py",
   "mimetype": "text/x-python",
   "name": "python",
   "nbconvert_exporter": "python",
   "pygments_lexer": "ipython3",
   "version": "3.7.6"
  }
 },
 "nbformat": 4,
 "nbformat_minor": 4
}
